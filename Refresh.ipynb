{
 "cells": [
  {
   "cell_type": "markdown",
   "id": "4aacbda6-b608-41fb-b229-21a28df922a3",
   "metadata": {},
   "source": [
    "![Top <](./images/watsonxdata.png \"watsonxdata\")"
   ]
  },
  {
   "cell_type": "markdown",
   "id": "c5b0f5e3-8f5b-40c8-b65d-1355356a3d20",
   "metadata": {},
   "source": [
    "# Refresh watsonx.data Notebooks\n",
    "The notebooks that are used in this system are being updated on a regular basis. You can refresh the Table of Contents and the notebooks that are in the server by following the instructions in this notebook.\n",
    "\n",
    "**Note**: If you modify an existing notebook, the contents will be lost. You should always duplicate a notebook, or save it with a different name. Any new notebook that you create (which is not part of the Table of Contents) will not be effected when the notebooks are refreshed."
   ]
  },
  {
   "cell_type": "markdown",
   "id": "a0ce7d08-36cd-45bb-ad70-6db79fea5f18",
   "metadata": {},
   "source": [
    "### Check the current Notebook Version\n",
    "The following code will check whether or not a new version of the notebooks are available. Details of the current version of the notebooks can be found in the file `version.md` in the `/notebook` directory.\n"
   ]
  },
  {
   "cell_type": "code",
   "execution_count": null,
   "id": "2a1ed4a5-7b3a-433f-9fa9-96ddf8f302f8",
   "metadata": {},
   "outputs": [],
   "source": [
    "errno = 0\n",
    "try:\n",
    "    errno = 1\n",
    "    version = open(\"./version.md\",\"r\").readlines()\n",
    "    current_version = version[0].strip(\"\\n\")\n",
    "    errno = 2\n",
    "    # _ = %system runuser -u watsonx -- rm -rf /tmp/notebooks\n",
    "    %system rm -rf /tmp/notebooks\n",
    "    errno = 3\n",
    "    # _ = %system runuser -u watsonx -- git clone https://github.com/IBM/watsonx-data-notebooks.git /tmp/notebooks\n",
    "    %system git clone https://github.com/IBM/watsonx-data-notebooks.git /tmp/notebooks\n",
    "    errno = 4\n",
    "    version = open(\"/tmp/notebooks/version.md\",\"r\").readlines()\n",
    "    new_version = version[0].strip(\"\\n\")\n",
    "    if (current_version >= new_version):\n",
    "        print(\"Current notebooks are up to date.\")\n",
    "    else:\n",
    "        print(\"A newer version of notebooks are available.\")\n",
    "        print(f\"Current Version: {current_version}\")\n",
    "        print(F\"New     Version: {new_version}\")\n",
    "except Exception as e:\n",
    "    if (errno == 1):\n",
    "        print(\"Can't find local version.md file.\")\n",
    "    elif (errno == 2):\n",
    "        print(\"Unable to remove /tmp/notebooks directory.\")\n",
    "    elif (errno == 3):\n",
    "        print(\"Unable to clone the Github repository.\")\n",
    "    elif (errno == 4):\n",
    "        print(\"Can't find the updated version.md file.\")\n",
    "    else:\n",
    "        pass\n",
    "    print(repr(e))"
   ]
  },
  {
   "cell_type": "markdown",
   "id": "eb8d3fd1-7277-436f-ad8c-5193299aefbc",
   "metadata": {},
   "source": [
    "### Update Notebooks with Newer Files\n",
    "The copy command will refresh only files that are newer in the notebook directory. Any new notebooks you created will not be effected, but if you have modified any of the existing Jupyter notebooks, they will be updated. "
   ]
  },
  {
   "cell_type": "code",
   "execution_count": null,
   "id": "5b974658-dca7-4c24-a085-e05b560c5969",
   "metadata": {},
   "outputs": [],
   "source": [
    "_ = %system cp -Ru /tmp/notebooks/. /notebooks/"
   ]
  },
  {
   "cell_type": "markdown",
   "id": "5b720449-bd9e-4931-abdf-ad9077e1dbae",
   "metadata": {},
   "source": [
    "#### Credits: IBM 2023, George Baklarz [baklarz@ca.ibm.com]"
   ]
  }
 ],
 "metadata": {
  "kernelspec": {
   "display_name": "Python 3 (ipykernel)",
   "language": "python",
   "name": "python3"
  },
  "language_info": {
   "codemirror_mode": {
    "name": "ipython",
    "version": 3
   },
   "file_extension": ".py",
   "mimetype": "text/x-python",
   "name": "python",
   "nbconvert_exporter": "python",
   "pygments_lexer": "ipython3",
   "version": "3.9.18"
  }
 },
 "nbformat": 4,
 "nbformat_minor": 5
}
