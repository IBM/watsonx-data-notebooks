{
 "cells": [
  {
   "cell_type": "markdown",
   "id": "11ddbc6d-37d1-46a4-b765-837a5457248e",
   "metadata": {},
   "source": [
    "![Top <](./images/watsonxdata.png \"watsonxdata\")"
   ]
  },
  {
   "cell_type": "markdown",
   "id": "99f83074",
   "metadata": {},
   "source": [
    "# Db2 Jupyter Notebook \n",
    "This notebook demonstrates connecting to a Db2 server using Jupyter notebooks. \n",
    "\n",
    "First step is to load the Db2 extensions for Jupyter."
   ]
  },
  {
   "cell_type": "code",
   "execution_count": null,
   "id": "cf68c488",
   "metadata": {},
   "outputs": [],
   "source": [
    "%run db2.ipynb"
   ]
  },
  {
   "cell_type": "markdown",
   "id": "a0aa3207",
   "metadata": {},
   "source": [
    "The Db2 database is called GOSALES. The next statement will connect to Db2 as db2inst1."
   ]
  },
  {
   "cell_type": "code",
   "execution_count": null,
   "id": "dd1c87b1",
   "metadata": {},
   "outputs": [],
   "source": [
    "userid     = \"db2inst1\"\n",
    "password   = \"db2inst1\"\n",
    "server     = \"watsonxdata\"\n",
    "port       = \"50000\"\n",
    "%sql connect to GOSALES user {userid} using {password} host {server} port {port} "
   ]
  },
  {
   "cell_type": "markdown",
   "id": "9a782ca6",
   "metadata": {},
   "source": [
    "Check the tables that are found in the GOSALESDW schema."
   ]
  },
  {
   "cell_type": "code",
   "execution_count": null,
   "id": "41e22401",
   "metadata": {},
   "outputs": [],
   "source": [
    "%sql -grid list tables for schema GOSALESDW"
   ]
  },
  {
   "cell_type": "markdown",
   "id": "c014ef31-5a1d-416b-856e-3e370f7d5599",
   "metadata": {},
   "source": [
    "Display the distinct cities that are found in the employee table."
   ]
  },
  {
   "cell_type": "code",
   "execution_count": null,
   "id": "3804a5e7-c85e-4069-8009-7bc1137ba65c",
   "metadata": {},
   "outputs": [],
   "source": [
    "%sql -grid select distinct city from gosalesdw.emp_employee_dim"
   ]
  },
  {
   "cell_type": "markdown",
   "id": "bc21e6a3-2364-43b0-a595-04655ae0521f",
   "metadata": {},
   "source": [
    "Plot a bar chart displaying the number of employees by unique city in the company."
   ]
  },
  {
   "cell_type": "code",
   "execution_count": null,
   "id": "3ca1c351-7a4e-422b-af21-1e9d4a72f016",
   "metadata": {},
   "outputs": [],
   "source": [
    "%sql -bar select city, count(*) from gosalesdw.emp_employee_dim group by city"
   ]
  },
  {
   "cell_type": "markdown",
   "id": "1d1d6baf-1c96-49b0-bff4-8fb222689142",
   "metadata": {},
   "source": [
    "#### Credits: IBM 2023, George Baklarz [baklarz@ca.ibm.com]"
   ]
  }
 ],
 "metadata": {
  "kernelspec": {
   "display_name": "Python 3 (ipykernel)",
   "language": "python",
   "name": "python3"
  },
  "language_info": {
   "codemirror_mode": {
    "name": "ipython",
    "version": 3
   },
   "file_extension": ".py",
   "mimetype": "text/x-python",
   "name": "python",
   "nbconvert_exporter": "python",
   "pygments_lexer": "ipython3",
   "version": "3.9.18"
  }
 },
 "nbformat": 4,
 "nbformat_minor": 5
}
