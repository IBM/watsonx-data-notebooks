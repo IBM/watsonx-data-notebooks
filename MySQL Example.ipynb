{
 "cells": [
  {
   "cell_type": "markdown",
   "id": "ec1a9a70-4d13-478c-ba1e-25a98fdc7bb3",
   "metadata": {},
   "source": [
    "![Top <](./images/watsonxdata.png \"watsonxdata\")"
   ]
  },
  {
   "cell_type": "markdown",
   "id": "465d7032-7d5a-4ca3-a093-ef717815be4e",
   "metadata": {},
   "source": [
    "# MySQL Code example\n",
    "This code will connect to the MySQL data that is running in the watsonx.data server. First we need to import some libraries that will be used in this notebook."
   ]
  },
  {
   "cell_type": "code",
   "execution_count": null,
   "id": "d9efb36f-946d-4123-a7db-cfba59989dba",
   "metadata": {},
   "outputs": [],
   "source": [
    "import pymysql                          # Needed for MySQL Connections\n",
    "import sqlalchemy                       # Used for connecting logic to MySQL\n",
    "import pandas as pd                     # Pandas dataframes\n",
    "import matplotlib.pyplot as plt         # Plot library\n",
    "import seaborn as sns                   # Seaborn plot formatting\n",
    "import warnings                         # Warning library (to eliminate messages from the drivers)\n",
    "warnings.filterwarnings(\"ignore\")\n",
    "from ipydatagrid import DataGrid        # Fancy display of result sets"
   ]
  },
  {
   "cell_type": "markdown",
   "id": "1d7b62ec-3f3a-4fa6-81de-2514d7f13ae8",
   "metadata": {},
   "source": [
    "The %sql extension used for communicating with MySQL is reset to display results in Pandas dataframes by default."
   ]
  },
  {
   "cell_type": "code",
   "execution_count": null,
   "id": "53869dee-a8cb-4b9b-b6f3-14cef826fb53",
   "metadata": {},
   "outputs": [],
   "source": [
    "%reload_ext sql\n",
    "%config SqlMagic.feedback = False\n",
    "%config SqlMagic.displaycon = False\n",
    "%config SqlMagic.autocommit = True\n",
    "%config SqlMagic.autopandas = True"
   ]
  },
  {
   "cell_type": "markdown",
   "id": "d5dfe03f-1684-4f5f-acf5-b3aa9fdcf48e",
   "metadata": {},
   "source": [
    "Connect to the MySQL server. The information required for connecting to this server is:\n",
    "* Userid - root\n",
    "* Password - password\n",
    "* Server - watsonxdata\n",
    "* Port - 3306\n",
    "* Database - gosalesdw                  "
   ]
  },
  {
   "cell_type": "code",
   "execution_count": null,
   "id": "adc41e8d-e56b-466d-8792-9b02df8c3afa",
   "metadata": {},
   "outputs": [],
   "source": [
    "userid     = \"root\"\n",
    "password   = \"password\"\n",
    "server     = \"watsonxdata\"\n",
    "port       = \"3306\"\n",
    "connection = f'mysql+pymysql://{userid}:{password}@{server}:{port}/gosalesdw'\n",
    "%sql {connection}"
   ]
  },
  {
   "cell_type": "markdown",
   "id": "1bccfcc7-ae8f-4e79-a6bd-efe18ac234ba",
   "metadata": {},
   "source": [
    "Check the tables that are found in the GOSALESDW schema."
   ]
  },
  {
   "cell_type": "code",
   "execution_count": null,
   "id": "72c39b33-01a6-4c94-b677-e429fe25882b",
   "metadata": {},
   "outputs": [],
   "source": [
    "%sql show tables"
   ]
  },
  {
   "cell_type": "markdown",
   "id": "4c28fb68-487d-42e6-b591-9ee7fa8a5934",
   "metadata": {},
   "source": [
    "Display the distinct cities that are found in the employee table."
   ]
  },
  {
   "cell_type": "code",
   "execution_count": null,
   "id": "0e92baa5-94e1-4991-a72b-ec77a9d63d3a",
   "metadata": {},
   "outputs": [],
   "source": [
    "%sql select distinct city from gosalesdw.emp_employee_dim"
   ]
  },
  {
   "cell_type": "markdown",
   "id": "d5638026-cfab-4614-87e1-564f6ee218e4",
   "metadata": {},
   "source": [
    "The results can be wrapped into a grid view for easier viewing."
   ]
  },
  {
   "cell_type": "code",
   "execution_count": null,
   "id": "d66e2152-98a7-4d25-9f2c-2efdfccf1fda",
   "metadata": {},
   "outputs": [],
   "source": [
    "x = %sql select distinct city from gosalesdw.emp_employee_dim\n",
    "DataGrid(x,auto_fit_columns=True)"
   ]
  },
  {
   "cell_type": "markdown",
   "id": "8d9b1f04-b7f9-4555-aceb-8256d6909fd5",
   "metadata": {},
   "source": [
    "Plot a bar chart displaying the number of employees by unique city in the company."
   ]
  },
  {
   "cell_type": "code",
   "execution_count": null,
   "id": "c5a1baa5-1a08-4968-9410-b37d733c689f",
   "metadata": {},
   "outputs": [],
   "source": [
    "import matplotlib.pyplot as plt\n",
    "import seaborn as sns\n",
    "import warnings\n",
    "warnings.filterwarnings(\"ignore\")\n",
    "sql_plot = '''\n",
    "select city, count(*) as total from gosalesdw.emp_employee_dim group by city\n",
    "'''\n",
    "results = %sql {sql_plot}\n",
    "sns.barplot(x='total', y='city', data=results, alpha=0.8)\n",
    "plt.show()"
   ]
  },
  {
   "cell_type": "markdown",
   "id": "ff0167cd-f097-462d-9615-84ac5069f906",
   "metadata": {},
   "source": [
    "#### Credits: IBM 2023, George Baklarz [baklarz@ca.ibm.com]"
   ]
  }
 ],
 "metadata": {
  "kernelspec": {
   "display_name": "Python 3 (ipykernel)",
   "language": "python",
   "name": "python3"
  },
  "language_info": {
   "codemirror_mode": {
    "name": "ipython",
    "version": 3
   },
   "file_extension": ".py",
   "mimetype": "text/x-python",
   "name": "python",
   "nbconvert_exporter": "python",
   "pygments_lexer": "ipython3",
   "version": "3.9.16"
  }
 },
 "nbformat": 4,
 "nbformat_minor": 5
}
