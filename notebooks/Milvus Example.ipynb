{
 "cells": [
  {
   "cell_type": "markdown",
   "id": "b09a288b-7761-44dd-9d4b-4aa9539664ee",
   "metadata": {},
   "source": [
    "![Top <](./images/watsonxdata.png \"watsonxdata\")"
   ]
  },
  {
   "cell_type": "markdown",
   "id": "ade425bd-6e71-487f-ac2d-67536130f83a",
   "metadata": {},
   "source": [
    "# Milvus Jupyter Notebook \n",
    "This notebook demonstrates connecting to a Milvus service when using Jupyter notebooks. \n",
    "\n",
    "The first step is to make sure that the Milvus extensions are loaded into the notebook."
   ]
  },
  {
   "cell_type": "code",
   "execution_count": null,
   "id": "dcb61b9c-2cee-4097-9825-561bff73af44",
   "metadata": {},
   "outputs": [],
   "source": [
    "%system python3 -m pip install pymilvus"
   ]
  },
  {
   "cell_type": "markdown",
   "id": "c44c6e6d-b973-42d5-b883-1733700e6d02",
   "metadata": {},
   "source": [
    "## Local Connection\n",
    "\n",
    "A local connection assumes that you are running your Jupyter notebook inside the same server that is running watsonx.data and the Milvus server. The connection user is the default watsonx.data userid (ibmlhadmin). You need to generate the certificate that will be used by the connection."
   ]
  },
  {
   "cell_type": "markdown",
   "id": "6f69e4a4-7d5d-47bc-999a-bd4a804cdc0f",
   "metadata": {},
   "source": [
    "### Generate the Connection Certificate"
   ]
  },
  {
   "cell_type": "code",
   "execution_count": null,
   "id": "916d7823-aa5b-40f2-9e61-0a4127f59f14",
   "metadata": {},
   "outputs": [],
   "source": [
    "rc = %system echo QUIT | openssl s_client -showcerts -connect watsonxdata:8443 | \\\n",
    "        awk '/-----BEGIN CERTIFICATE-----/ {p=1}; p; /-----END CERTIFICATE-----/ {p=0}' > /tmp/presto.crt "
   ]
  },
  {
   "cell_type": "markdown",
   "id": "f52e05e1-98a0-463e-9348-57660e144729",
   "metadata": {},
   "source": [
    "### Local Connection Parameters"
   ]
  },
  {
   "cell_type": "code",
   "execution_count": null,
   "id": "4313a49a-fa0c-4d49-91fe-48a6c77f0973",
   "metadata": {},
   "outputs": [],
   "source": [
    "host            = 'watsonxdata'\n",
    "port            = 19530\n",
    "apiuser         = 'ibmlhadmin'\n",
    "apikey          = 'password'\n",
    "server_pem_path = '/tmp/presto.crt'"
   ]
  },
  {
   "cell_type": "markdown",
   "id": "5d618c06-80a9-4321-8239-ddbb82c46d2a",
   "metadata": {},
   "source": [
    "## Remote Connection\n",
    "\n",
    "A remote connection requires information from your TechZone reservation details. The reservation will contain a URL for the Milvus service:\n",
    "```\n",
    "Milvus Endpoint - Server: useast.techzone-services.com Port:99999\n",
    "```\n",
    "The server and port number will need to substituted into connection details below.\n",
    "\n",
    "### Generate the Connection Certificate \n",
    "In addition to the server and port number, you will need to get the Certificate for the watsonx.server. You will need to download the contents of this file and place it into a file that is local to your Jupyter notebook server. The following command will retrieve the contents of the cert file and print the values. Copy this text and place it into a local file with a name of `presto.crt`. Make sure to update the `server_pem_path` with your local file name."
   ]
  },
  {
   "cell_type": "code",
   "execution_count": null,
   "id": "87ac65a0-0bac-4812-bfb0-6ec30f5bc345",
   "metadata": {},
   "outputs": [],
   "source": [
    "rc = %system echo QUIT | openssl s_client -showcerts -connect watsonxdata:8443 | \\\n",
    "        awk '/-----BEGIN CERTIFICATE-----/ {p=1}; p; /-----END CERTIFICATE-----/ {p=0}' > /tmp/presto.crt \n",
    "with open(\"/tmp/presto.crt\",\"r\") as fd:\n",
    "    certificate = fd.readlines()\n",
    "    for certline in certificate:\n",
    "        print(certline,end=\"\")"
   ]
  },
  {
   "cell_type": "markdown",
   "id": "1c8e447a-c029-4b30-a657-767d2135b514",
   "metadata": {},
   "source": [
    "### Remote connection Settings"
   ]
  },
  {
   "cell_type": "code",
   "execution_count": null,
   "id": "3c3ef149-59fc-40fc-b6db-40ae4da1a12e",
   "metadata": {},
   "outputs": [],
   "source": [
    "host            = 'useast.services.cloud.techzone.ibm.com'\n",
    "port            = 99999\n",
    "apiuser         = 'ibmlhadmin'\n",
    "apikey          = 'password'\n",
    "server_pem_path = '/tmp/presto.crt'"
   ]
  },
  {
   "cell_type": "markdown",
   "id": "ab7519ee-3ff9-4952-a1b7-8280857547be",
   "metadata": {},
   "source": [
    "## Milvus Connection"
   ]
  },
  {
   "cell_type": "code",
   "execution_count": null,
   "id": "e6c435cb-cbc9-4fb5-ada8-47b01ed9e1e8",
   "metadata": {},
   "outputs": [],
   "source": [
    "from pymilvus import (\n",
    "    connections,\n",
    "    FieldSchema,\n",
    "    CollectionSchema,\n",
    "    DataType,\n",
    "    Collection,\n",
    ")\n",
    "\n",
    "connections.connect(alias=\"root\", \n",
    "                    host=host, \n",
    "                    port=port, \n",
    "                    user=apiuser, \n",
    "                    password=apikey,\n",
    "                    server_pem_path=server_pem_path,\n",
    "                    server_name='watsonxdata',\n",
    "                    secure=True) "
   ]
  },
  {
   "cell_type": "markdown",
   "id": "88891718-6a17-48a4-818a-4a0ec22033fd",
   "metadata": {},
   "source": [
    "### Check Connection Status"
   ]
  },
  {
   "cell_type": "code",
   "execution_count": null,
   "id": "d6c68194-8f9f-4334-8361-1864f6601286",
   "metadata": {},
   "outputs": [],
   "source": [
    "print(f\"\\nList connections:\")\n",
    "print(connections.list_connections())"
   ]
  },
  {
   "cell_type": "markdown",
   "id": "1d1d6baf-1c96-49b0-bff4-8fb222689142",
   "metadata": {},
   "source": [
    "#### Credits: IBM 2024, George Baklarz [baklarz@ca.ibm.com]"
   ]
  }
 ],
 "metadata": {
  "kernelspec": {
   "display_name": "Python 3 (ipykernel)",
   "language": "python",
   "name": "python3"
  },
  "language_info": {
   "codemirror_mode": {
    "name": "ipython",
    "version": 3
   },
   "file_extension": ".py",
   "mimetype": "text/x-python",
   "name": "python",
   "nbconvert_exporter": "python",
   "pygments_lexer": "ipython3",
   "version": "3.9.18"
  }
 },
 "nbformat": 4,
 "nbformat_minor": 5
}
