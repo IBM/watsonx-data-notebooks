{
 "cells": [
  {
   "cell_type": "markdown",
   "id": "b09a288b-7761-44dd-9d4b-4aa9539664ee",
   "metadata": {},
   "source": [
    "![Top <](./images/watsonxdata.png \"watsonxdata\")"
   ]
  },
  {
   "cell_type": "markdown",
   "id": "183874ae-2185-4297-8b9f-216b45fb57a2",
   "metadata": {},
   "source": [
    "# Accessing watsonx.data with RESTful Calls\n",
    "Representational state transfer (REST) is a software architectural style that defines a set of constraints to be used for creating Web services. Web services that conform to the REST architectural style, called RESTful Web services, provide interoperability between computer systems on the internet. RESTful Web services allow the requesting systems to access and manipulate textual representations of Web resources by using a uniform and predefined set of stateless operations.\n",
    "\n",
    "Watsonx.data provides additional RESTful APIs that provide access to underlying engines, buckets, catalogs, schemas, tables and services. This notebook will explore a numer of the RESTful calls, including an example of querying tables through watsonx.data rather than the Presto RESTful API. \n",
    "\n",
    "The Python requests library provides a simple call interface to RESTful. This code also includes the Pandas library used for formatting the output and the warnings are turned off for any of the RESTful calls (Self-signed certificate warnings)."
   ]
  },
  {
   "cell_type": "code",
   "execution_count": null,
   "id": "9f856e64-01e7-4d01-ae00-fe4752e9b874",
   "metadata": {},
   "outputs": [],
   "source": [
    "import requests\n",
    "import pandas as pd\n",
    "import json\n",
    "from IPython.display import display, HTML\n",
    "import warnings\n",
    "warnings.filterwarnings('ignore')"
   ]
  },
  {
   "cell_type": "markdown",
   "id": "7e198e6d-46d6-4766-86fd-b8844cd572a6",
   "metadata": {},
   "source": [
    "## Calling Restful Services\n",
    "\n",
    "There are five different types of RESTful calls that are used with watsonx.data:\n",
    "\n",
    "* GET - Get results from a request or SQL\n",
    "* DELETE - Delete a resource\n",
    "* PUT - Update a resource (usually replaces the resource)\n",
    "* PATCH - Partial update of a resource\n",
    "* POST - Creates a new resource\n",
    "  \n",
    "All RESTful calls require the host IP address and the service URL:\n",
    "\n",
    "* host - This is the IP address and port of the machine that is hosting watsonx.data\n",
    "* api - The API library that is being used to communicate with watsonx.data\n",
    "* service - The service (API) that is being requested.\n",
    "\n",
    "The API library may be different for some of the watsonx.data calls. The API version can also change between releases of watsonx.data. Using an API library provides for backward compatibility when new API libraries are created.\n",
    "\n",
    "The full URL used in a RESTful call is make up of a combination of host, port, API, and service.\n",
    "\n",
    "```bash\n",
    "https:// + host:port + api + service\n",
    "```\n",
    "\n",
    "If your host was xyz.abc.com:44444 with v3 of the api library and using the /auth/tokens service, the full URL would be:\n",
    "\n",
    "```bash\n",
    "https://xyz.abc.com:4444/dbapi/v3/auth/tokens\n",
    "```\n",
    "\n",
    "This URL is then placed into a RESTful call that has one of the following formats:\n",
    "\n",
    "```bash\n",
    "RESTful.call( host + api + service)\n",
    "RESTful.call( host + api + service, headers=headers, verify=file)\n",
    "RESTful.call( host + api + service, headers=headers, json=data, verify=file)\n",
    "```\n",
    "\n",
    "The first form of the RESTful call is requesting a resource that does not require authentication to the server. The second form of the RESTful calls requires a header file with control information (userid/password/token) and a file that points to the certificate file. The contents of the header file is dependent on the API call that is being used. The third call provides some additional data to the RESTful call by using the `json=request` value.\n",
    "\n",
    "The information that is returned from a Python RESTful call contains four values that you need. Here is a sample restful call:\n",
    "```python\n",
    "r = requests.get(f\"{host}:{port}{service}\", headers=auth_header, verify=certfile)\n",
    "```\n",
    "The variable `r` will contain the following:\n",
    "* r.ok - `True` or `False`\n",
    "* r.status_code - The web code returned by the RESTful call (i.e. 400 - not found, 200 - Ok)\n",
    "* r.reason - The success or error message from the RESTful call\n",
    "* r.json() - The returned messages from the RESTful call if it was successful\n",
    "\n",
    "A list of return codes from a RESTful call are summarized below.\n",
    "\n",
    "HTTP Error Code |Description| Recovery\n",
    "---|------------|-----------------\n",
    "200|Success \t|The request was successful.\n",
    "201|Created \t|The requested resource successfully created in a synchronous manner.\n",
    "204|No Content \t|The server successfully processed the request and is not returning any content.\n",
    "400|Bad Request |The input parameters in the request body are either incomplete or in the wrong format. Be sure to include all required parameters in your request.\n",
    "401|Unauthorized|You are not authorized to make this request. Log in to IBM Cloud and try again. If this error persists, contact the account owner to check your permissions.\n",
    "403|Forbidden \t|The supplied authentication is not authorized to access '{namespace}'.\n",
    "404|Not Found \t|The requested resource could not be found.\n",
    "409|Conflict \t|The entity is already in the requested state.\n",
    "500|Internal Server Error|Your request could not be processed. Wait a few minutes and try again.\n",
    "\n",
    "The error message returned from the RESTful call is found in the `r.reason` field. If the RESTful call was successful, the r.json() function will return the data from the call. The data is in the format of a Python dictionary. \n",
    "```python\n",
    "results = r.json()\n",
    "```\n",
    "\n",
    "Once you have the data in a variable, you can access the fields by using the Python dictionary syntax. For instance, if you want to retrieve the access token from the result set, you would use the following code:\n",
    "```python\n",
    "access_code = results['accesscode']\n",
    "```\n",
    "The fields that are returned from a RESTful call will be unique for each service, so you will need to refer to the documentation to detemrine what the returned document will contain."
   ]
  },
  {
   "cell_type": "markdown",
   "id": "43a7220d-0aaf-425f-b09d-3b792bec7af7",
   "metadata": {},
   "source": [
    "## Watsonx.data RESTful Reference\n",
    "This notebook uses a few of the RESTful APIs that are available in watsonx.data. The full list of RESTful calls can be found at the following [watsonx.data Cloud API](https://cloud.ibm.com/apidocs/watsonxdata-software#intro) site. The RESTful calls are subdivided into the following sections which include the links into the documentation.\n",
    "\n",
    "* [Buckets](https://cloud.ibm.com/apidocs/watsonxdata-software#list-bucket-registrations) \n",
    "* [Databases](https://cloud.ibm.com/apidocs/watsonxdata-software#create-driver-database-catalog)\n",
    "* [Engines](https://cloud.ibm.com/apidocs/watsonxdata-software#list-db2-engines)\n",
    "* [Console](https://cloud.ibm.com/apidocs/watsonxdata-software#test-l-h-console)\n",
    "* [Catalogs](https://cloud.ibm.com/apidocs/watsonxdata-software#list-catalogs)\n",
    "* [Services](https://cloud.ibm.com/apidocs/watsonxdata-software#list-milvus-services)\n",
    "\n",
    "This notebook will examine the `buckets` RESTful calls, along with `engines` and `catalogs`. The information retrieved from these calls will then be used to issue SQL calls to the Presto engine."
   ]
  },
  {
   "cell_type": "markdown",
   "id": "e450946f-23d4-4a95-8db1-1e3cdb9cf982",
   "metadata": {},
   "source": [
    "## Watsonx.data Host Settings\n",
    "In our developer edition system, we will use the following HOST and PORT values to communicate with the system, along with our administrative userid."
   ]
  },
  {
   "cell_type": "code",
   "execution_count": null,
   "id": "1aa3ee2a-9418-4181-926e-9095ed9ef3ed",
   "metadata": {},
   "outputs": [],
   "source": [
    "host              = \"https://watsonxdata\"\n",
    "port              = 9443\n",
    "username          = \"ibmlhadmin\"\n",
    "password          = \"password\""
   ]
  },
  {
   "cell_type": "markdown",
   "id": "c96de1e2-70d3-4202-a941-8af054743813",
   "metadata": {},
   "source": [
    "## Retrieve watsonx.data Certificate\n",
    "Before we can issue our RESTful calls, a certificate is required as part of the RESTful header. Our watsonx.data system already has certificates available to use, but the following call will extract the information we need into a local file."
   ]
  },
  {
   "cell_type": "code",
   "execution_count": null,
   "id": "44e7ca16-8430-4e32-9b60-acb7fd04853f",
   "metadata": {},
   "outputs": [],
   "source": [
    "%system echo\\\n",
    "        QUIT |\\\n",
    "        openssl s_client -showcerts -connect 127.0.0.1:8443 |\\\n",
    "        awk '/-----BEGIN CERTIFICATE-----/ {p=1}; p; /-----END CERTIFICATE-----/ {p=0}'\\\n",
    "        > /tmp/restful.crt"
   ]
  },
  {
   "cell_type": "markdown",
   "id": "e3ea8c6b-0a2c-4047-a36b-eacd3b526bf6",
   "metadata": {},
   "source": [
    "Doublecheck that we have our certificate."
   ]
  },
  {
   "cell_type": "code",
   "execution_count": null,
   "id": "9b729fb7-bcea-416a-a8cd-66ed10e0dd19",
   "metadata": {},
   "outputs": [],
   "source": [
    "%system cat /tmp/restful.crt"
   ]
  },
  {
   "cell_type": "markdown",
   "id": "ce56765f-7026-45f7-9e94-feecbce98df8",
   "metadata": {},
   "source": [
    "## Watsonx.data Instance Information\n",
    "All of the watsonx.data RESTful calls require information about what instance is being accessed. This information needs to be extracted from the server. In the developer edition, there is only one instance that is running and it is referred to with the following string `0000-0000-0000-0000`. The next command will extract the instance ID by using a docker command to retrieve the instance environment variable in the system.,"
   ]
  },
  {
   "cell_type": "code",
   "execution_count": null,
   "id": "7e9bc9a1-be61-427c-890e-aecf6d470613",
   "metadata": {},
   "outputs": [],
   "source": [
    "r = %system docker exec ibm-lh-presto printenv LH_INSTANCE_ID\n",
    "lh_instance_id = r[0]\n",
    "r = %system docker exec ibm-lh-presto printenv LH_INSTANCE_NAME\n",
    "lh_instance_name = r[0]\n",
    "print(f\"Instance name: {lh_instance_name}\\nInstance ID  : {lh_instance_id}\")"
   ]
  },
  {
   "cell_type": "markdown",
   "id": "d807dc67-846b-432c-b221-1db616b0d080",
   "metadata": {},
   "source": [
    "## Watsonx.data Authentication\n",
    "At this point we have all of the information we need to initiate a connection to the watsonx.data service. The first step is to authenticate to the watsonx.data system and retrieve a token that will be used for subsequent calls. The RESTful call requires the following information:\n",
    "* Call Type: `POST`\n",
    "* API: `/lakehouse/api/v2`\n",
    "* Service: `/auth/authenticate`\n",
    "* JSON Data\n",
    "    * Instance ID: `instance_id`\n",
    "    * Instance Name: `instance_name`\n",
    "    * Watsonx.data Userid: `username`\n",
    "    * Password: `password`\n",
    "* Certificate: `filename`\n",
    "\n",
    "The request header is not required in this RESTful call. Instead we are using the JSON keyword to send the control information to the RESTful service. Note that the JSON data is created as a Python dictionary. The next cell creates the header variable we need. The code also includes the administrative userid and password for the watsonx.data system."
   ]
  },
  {
   "cell_type": "code",
   "execution_count": null,
   "id": "93691d7c-36ca-4dd3-8989-ce1b07174621",
   "metadata": {},
   "outputs": [],
   "source": [
    "api      = \"/lakehouse/api/v2\"\n",
    "service  = \"/auth/authenticate\"\n",
    "username = \"ibmlhadmin\"\n",
    "password = \"password\"\n",
    "certfile = \"/tmp/restful.crt\"\n",
    "request = {\n",
    "    \"instance_id\"  : lh_instance_id,\n",
    "    \"instance_name\": lh_instance_name,\n",
    "    \"password\"     : password,\n",
    "    \"username\"     : username\n",
    "}"
   ]
  },
  {
   "cell_type": "markdown",
   "id": "3ab3bdd5-3586-44b1-9b49-0ef07d58fa4a",
   "metadata": {},
   "source": [
    "At this point we are ready to call the RESTful service to authenticate the RESTful user to watsonx.data."
   ]
  },
  {
   "cell_type": "code",
   "execution_count": null,
   "id": "609cc283-3de1-48da-8ee6-c93ecd78d4c5",
   "metadata": {},
   "outputs": [],
   "source": [
    "r = requests.post(f\"{host}:{port}{api}{service}\", json=request, verify=certfile)\n",
    "r.reason"
   ]
  },
  {
   "cell_type": "markdown",
   "id": "c4c0fdb4-0cbd-40b5-b5e1-9ae18c5d016a",
   "metadata": {},
   "source": [
    "The information returned from the authentication call includes an access token which will be used for subsequent calls to watsonx.data."
   ]
  },
  {
   "cell_type": "code",
   "execution_count": null,
   "id": "8aa25bbf-6bf0-45f7-9ea2-9eeaae6e1ac1",
   "metadata": {},
   "outputs": [],
   "source": [
    "details = r.json()\n",
    "accesstoken = details['accessToken']\n",
    "print(accesstoken)"
   ]
  },
  {
   "cell_type": "markdown",
   "id": "8d6c0c8a-a1b5-4ba7-8ac8-3e5c538c8d7a",
   "metadata": {},
   "source": [
    "## Token Expiry\n",
    "Tokens will expire after a period of time. The token we just created will work for the next few commands but will fail if we wait too long. In order to check for token expiry, another authentication call (`/preauth`) can be used to reauthenticate with the previous token and get a timeout value that can be checked for expiry."
   ]
  },
  {
   "cell_type": "code",
   "execution_count": null,
   "id": "904b7ea9-ec76-4c17-b051-fe5172e80fce",
   "metadata": {},
   "outputs": [],
   "source": [
    "api_inst = f\"/lakehouse/api/v2/{lh_instance_id}\"\n",
    "service  = \"/preauth\"\n",
    "headers = {\n",
    "    \"Content-Type\"   : \"application/json\", \n",
    "    \"AuthInstanceID\" : lh_instance_id,\n",
    "    \"Authorization\"  : f\"Bearer {accesstoken}\"\n",
    "}\n",
    "\n",
    "r = requests.post(f\"{host}:{port}{api_inst}{service}\", headers=headers, verify=certfile)\n",
    "r.reason"
   ]
  },
  {
   "cell_type": "markdown",
   "id": "6b4d3500-7aec-4f06-b99a-d692c843017c",
   "metadata": {},
   "source": [
    "The reason code comes back as \"Created\", which means a new access token has been returned with a time limit. In the dictionary that is returned is a field called `exp` which contains the expiry time of the token as the Linux date as the number of seconds since 1970."
   ]
  },
  {
   "cell_type": "code",
   "execution_count": null,
   "id": "6285d9fc-df0d-4f72-99d8-07679846a309",
   "metadata": {},
   "outputs": [],
   "source": [
    "results = r.json()\n",
    "token_details = results['token_details']\n",
    "print(token_details['exp'])\n",
    "expiry = token_details['exp']"
   ]
  },
  {
   "cell_type": "markdown",
   "id": "bd344904-78c9-4b8f-b460-4559bd5a1130",
   "metadata": {},
   "source": [
    "Some additional details are found in the token results."
   ]
  },
  {
   "cell_type": "code",
   "execution_count": null,
   "id": "92892f26-9449-4f05-922e-40bde23b3ba0",
   "metadata": {},
   "outputs": [],
   "source": [
    "token_details"
   ]
  },
  {
   "cell_type": "markdown",
   "id": "f2e963e0-4612-49e0-9235-eb7bf5adc84f",
   "metadata": {},
   "source": [
    "You can check the current Linux time with the following Python script."
   ]
  },
  {
   "cell_type": "code",
   "execution_count": null,
   "id": "18fd37bb-3db8-4690-9cc3-8a68330b4eb9",
   "metadata": {},
   "outputs": [],
   "source": [
    "import time    \n",
    "epoch_time = int(time.time())\n",
    "print(epoch_time)"
   ]
  },
  {
   "cell_type": "markdown",
   "id": "60d46bd7-bd92-4f24-8652-6c56ef933164",
   "metadata": {},
   "source": [
    "If the time exceeds the expiry time, the token will no longer work and you will have to reauthenticate. The following code will reauthenticate if the current time exceeds the time interval. In order to simplify the passing of parameters, the next cell will create a python variable called `credentials` which will bundle the variables required to authenticate with the server and track the expiry time of the token."
   ]
  },
  {
   "cell_type": "code",
   "execution_count": null,
   "id": "c1287f5c-1c89-4489-8482-1fd0fa928b3e",
   "metadata": {},
   "outputs": [],
   "source": [
    "credentials = {\n",
    "    \"host\"            : \"https://watsonxdata\",\n",
    "    \"port\"            : 9443,\n",
    "    \"lh_instance_id\"  : lh_instance_id,\n",
    "    \"lh_instance_name\": lh_instance_name,\n",
    "    \"password\"        : password,\n",
    "    \"username\"        : username,    \n",
    "    \"expiry\"          : expiry,\n",
    "    \"accesstoken\"     : accesstoken,\n",
    "    \"certfile\"        : certfile\n",
    "}"
   ]
  },
  {
   "cell_type": "markdown",
   "id": "8ac88044-264b-4947-a25a-f92ed520aff0",
   "metadata": {},
   "source": [
    "Now we can define the routine that will authenticate against the RESTful service and track the token and expiry time."
   ]
  },
  {
   "cell_type": "code",
   "execution_count": null,
   "id": "9b663e28-c4e6-4f93-8938-6113098c66a5",
   "metadata": {},
   "outputs": [],
   "source": [
    "def authenticate(credentials):\n",
    "\n",
    "    host, port, lh_instance_id, lh_instance_name, password, username, expiry, accesstoken, certfile = \\\n",
    "    [credentials[k] for k in [\"host\",\"port\",\"lh_instance_id\",\"lh_instance_name\",\"password\",\"username\",\"expiry\",\"accesstoken\",\"certfile\"]]\n",
    "\n",
    "\n",
    "    epoch_time = int(time.time())\n",
    "    if (epoch_time < expiry):\n",
    "        return True\n",
    "        \n",
    "    api      = \"/lakehouse/api/v2\"\n",
    "    service  = \"/auth/authenticate\"\n",
    "    request = {\n",
    "        \"instance_id\"  : lh_instance_id,\n",
    "        \"instance_name\": lh_instance_name,\n",
    "        \"password\"     : password,\n",
    "        \"username\"     : username\n",
    "    }\n",
    "    r = requests.post(f\"{host}:{port}{api}{service}\", json=request, verify=certfile)\n",
    "    \n",
    "    if (r.ok == False):\n",
    "        print(r.reason)\n",
    "        return False\n",
    "        \n",
    "    details = r.json()\n",
    "    accesstoken = details['accessToken']\n",
    "    credentials['accesstoken'] = accesstoken\n",
    "\n",
    "    api_inst = f\"/lakehouse/api/v2/{lh_instance_id}\"\n",
    "    service  = \"/preauth\"\n",
    "    headers = {\n",
    "        \"Content-Type\"   : \"application/json\", \n",
    "        \"AuthInstanceID\" : lh_instance_id,\n",
    "        \"Authorization\"  : f\"Bearer {accesstoken}\"\n",
    "    }\n",
    "\n",
    "    r = requests.post(f\"{host}:{port}{api_inst}{service}\", headers=headers, verify=certfile)\n",
    "    if (r.ok == False):\n",
    "        print(r.reason)\n",
    "        return False\n",
    "        \n",
    "    results = r.json()\n",
    "    credentials[\"expiry\"]      = token_details['exp']\n",
    "    return True"
   ]
  },
  {
   "cell_type": "markdown",
   "id": "a7204f30-fdf8-416d-95cd-04e17f55f403",
   "metadata": {},
   "source": [
    "Check that the routine works by running it with the current credentials and checking the new expiry time after running it."
   ]
  },
  {
   "cell_type": "code",
   "execution_count": null,
   "id": "256bb899-8647-43fc-a7ea-f38615ab539e",
   "metadata": {},
   "outputs": [],
   "source": [
    "authenticate(credentials)\n",
    "print(credentials[\"expiry\"])"
   ]
  },
  {
   "cell_type": "markdown",
   "id": "d3c22c3c-0578-487b-bc67-971e8a8a0200",
   "metadata": {},
   "source": [
    "## Bucket Management\n",
    "The watsonx.data RESTful calls provide a number services for bucket management including:\n",
    "* Get bucket registrations\n",
    "* Register a bucket\n",
    "* Get a bucket\n",
    "* Unregister a bucket\n",
    "* Update a bucket\n",
    "* Activate a bucket\n",
    "* Deactivate a bucket\n",
    "* Check bucket credentials\n",
    "\n",
    "One of the more useful RESTful calls it to get a list of buckets that are found in the watsonx.data system. The service name must be modified to include the instance id for all calls that access resources within the watsonx.data instance. The header is now required in these `GET` requests and the data in the header includes the access token retrieved in the previous call:\n",
    "* Call Type: `GET`\n",
    "* API: `/lakehouse/api/v2/instance_id`\n",
    "* Service: `/bucket_registrations`\n",
    "* Header\n",
    "    * Content-Type: `application/json`\n",
    "    * AuthInstanceID: `0000-0000-0000-0000`\n",
    "    * Authorization:  `Bearer <token>`\n",
    "* Certificate: `filename`"
   ]
  },
  {
   "cell_type": "code",
   "execution_count": null,
   "id": "0c054c0d-38e6-43b1-8635-6c2997d67efa",
   "metadata": {},
   "outputs": [],
   "source": [
    "if (authenticate(credentials) == True):\n",
    "    host, port, lh_instance_id, lh_instance_name, password, username, expiry, accesstoken = \\\n",
    "    [credentials[k] for k in [\"host\", \"port\", \"lh_instance_id\", \"lh_instance_name\", \"password\", \"username\", \"expiry\", \"accesstoken\"]]\n",
    "    api_inst = f\"/lakehouse/api/v2/{lh_instance_id}\"\n",
    "    service  = \"/bucket_registrations\"\n",
    "    headers = {\n",
    "    \"Content-Type\"   : \"application/json\", \n",
    "    \"AuthInstanceID\" : credentials[\"lh_instance_id\"],\n",
    "    \"Authorization\"  : f\"Bearer {accesstoken}\"\n",
    "    }\n",
    "    host, port, lh_instance_id, lh_instance_name, password, username, expiry, accesstoken\n",
    "    r = requests.get(f\"{host}:{port}{api_inst}{service}\", headers=headers, verify=certfile)\n",
    "    print(r.reason)"
   ]
  },
  {
   "cell_type": "markdown",
   "id": "ec673939-f09d-46e1-8ad2-da7c737e340c",
   "metadata": {},
   "source": [
    "The data in the result set includes all of the buckets that are registered in the system. The bucket_details field contains all of the information on a particular bucket, including the catalog it is associated with and the location of the bucket. \n",
    "\n",
    "     \"bucket_details\": {\n",
    "        \"bucket_name\": \"iceberg-bucket\",\n",
    "        \"endpoint\": \"http://xyz-minio-svc:9000\"\n",
    "      },"
   ]
  },
  {
   "cell_type": "code",
   "execution_count": null,
   "id": "3933a5be-35a8-41e5-91ee-461ae13d2015",
   "metadata": {},
   "outputs": [],
   "source": [
    "results = r.json()\n",
    "bucket_registrations = results['bucket_registrations']\n",
    "bucket_name = []\n",
    "bucket_endpoint = []\n",
    "catalog = []\n",
    "for doc in bucket_registrations:\n",
    "    bucket_name.append(doc['bucket_id'])\n",
    "    catalog.append(doc.get('associated_catalog',{}).get('catalog_name',None))\n",
    "    bucket_endpoint.append(doc.get('bucket_details',{}).get('bucket_name', None))\n",
    "df = pd.DataFrame({'bucket_id': bucket_name, 'catalog': catalog, 'endpoint': bucket_endpoint})\n",
    "display(HTML(df.to_html()))"
   ]
  },
  {
   "cell_type": "markdown",
   "id": "325b4fd9-2927-4e79-834c-15745082379e",
   "metadata": {},
   "source": [
    "### Individual Bucket Details\n",
    "If you only wanted the details about an individual bucket, you can append the bucket name to the end of the service URL. The following code will only get the details of the `hive-bucket`."
   ]
  },
  {
   "cell_type": "code",
   "execution_count": null,
   "id": "68cec4cd-ef4a-48fe-8b89-1a8d9a460f08",
   "metadata": {},
   "outputs": [],
   "source": [
    "import json\n",
    "if (authenticate(credentials) == True):\n",
    "    bucket_name = \"hive-bucket\"\n",
    "    host, port, lh_instance_id, lh_instance_name, password, username, expiry, accesstoken = \\\n",
    "    [credentials[k] for k in [\"host\", \"port\", \"lh_instance_id\", \"lh_instance_name\", \"password\", \"username\", \"expiry\", \"accesstoken\"]]\n",
    "    api_inst = f\"/lakehouse/api/v2/{lh_instance_id}\"\n",
    "    service  = f\"/bucket_registrations/{bucket_name}\"\n",
    "    headers = {\n",
    "    \"Content-Type\"   : \"application/json\", \n",
    "    \"AuthInstanceID\" : credentials[\"lh_instance_id\"],\n",
    "    \"Authorization\"  : f\"Bearer {accesstoken}\"\n",
    "    }\n",
    "    host, port, lh_instance_id, lh_instance_name, password, username, expiry, accesstoken\n",
    "    r = requests.get(f\"{host}:{port}{api_inst}{service}\", headers=headers, verify=certfile)\n",
    "    print(json.dumps(r.json(),indent=4))"
   ]
  },
  {
   "cell_type": "markdown",
   "id": "892a5702-ce43-4937-878a-faed2ba8220f",
   "metadata": {},
   "source": [
    "### Bucket Files\n",
    "We can use another RESTful call to get the contents of a bucket. The RESTful call is similar to the previous one, except that the bucket name needs to passed in the RESTful path. This call will get the contents of the `hive-data` bucket."
   ]
  },
  {
   "cell_type": "code",
   "execution_count": null,
   "id": "c15fc537-79b1-4868-9ce4-351bc8b94f42",
   "metadata": {},
   "outputs": [],
   "source": [
    "if (authenticate(credentials) == True):\n",
    "    host, port, lh_instance_id, lh_instance_name, password, username, expiry, accesstoken = \\\n",
    "    [credentials[k] for k in [\"host\", \"port\", \"lh_instance_id\", \"lh_instance_name\", \"password\", \"username\", \"expiry\", \"accesstoken\"]]\n",
    "    bucket   = \"hive-bucket\"\n",
    "    api_inst = f\"/lakehouse/api/v2/{lh_instance_id}\"\n",
    "    service  = f\"/bucket_registrations/{bucket}/objects\"\n",
    "    headers = {\n",
    "        \"Content-Type\"   : \"application/json\", \n",
    "        \"AuthInstanceID\" : lh_instance_id,\n",
    "        \"Authorization\"  : f\"Bearer {accesstoken}\"\n",
    "    }\n",
    "    r = requests.get(f\"{host}:{port}{api_inst}{service}\", headers=headers, verify=certfile)\n",
    "    r.reason\n",
    "    results = r.json()\n",
    "    df = pd.DataFrame({'Object': results['objects']})\n",
    "    display(HTML(df.to_html()))"
   ]
  },
  {
   "cell_type": "markdown",
   "id": "48269ff6-ead9-42d8-a0aa-a778b5e0ead4",
   "metadata": {},
   "source": [
    "## Watsonx.data Objects\n",
    "In order to query the data within watsonx.data, the RESTful calls require details on the objects that the table(s) are tied to. There is a hierarchy to the objects in watsonx.data that are represented in the simple diagram below. \n",
    "```\n",
    "engine - Presto\n",
    " \\\n",
    "  buckets - hive-data, iceberg-data\n",
    "   \\\n",
    "    catalogs - hive_data, iceberg_data\n",
    "     \\\n",
    "      schemas - gosalesdw, ontime, taxi\n",
    "       \\\n",
    "        tables \n",
    "```\n",
    "A table is created in a schema, which in turn is created in a catalog which resides in a bucket. The bucket is then tied to a particular query engine. \n",
    "\n",
    "### Watsonx.data Engines\n",
    "In the watsonx.data developer edition, there is only one Presto engine and it is referred to as `presto-01`. We can query the engines in watsonx.data with the following RESTful call.\n",
    "\n",
    "* Call Type: `GET`\n",
    "* API: `/lakehouse/api/v2`\n",
    "* Service: `/engines`\n",
    "* Header\n",
    "    * Content-Type: `application/json`\n",
    "    * AuthInstanceID: `0000-0000-0000-0000`\n",
    "    * Authorization:  `Bearer <token>`\n",
    "* Certificate: `filename`"
   ]
  },
  {
   "cell_type": "code",
   "execution_count": null,
   "id": "97120b6e-0a11-4c93-8ab6-5e8b65539395",
   "metadata": {},
   "outputs": [],
   "source": [
    "if (authenticate(credentials) == True):\n",
    "    host, port, lh_instance_id, lh_instance_name, password, username, expiry, accesstoken = \\\n",
    "    [credentials[k] for k in [\"host\", \"port\", \"lh_instance_id\", \"lh_instance_name\", \"password\", \"username\", \"expiry\", \"accesstoken\"]]\n",
    "    api_inst = f\"/lakehouse/api/v2\"\n",
    "    service  = f\"/engines\"\n",
    "    headers = {\n",
    "        \"Content-Type\"   : \"application/json\", \n",
    "        \"AuthInstanceID\" : lh_instance_id,\n",
    "        \"Authorization\"  : f\"Bearer {accesstoken}\"\n",
    "    }\n",
    "    r = requests.get(f\"{host}:{port}{api_inst}{service}\", headers=headers, verify=certfile)\n",
    "    print(json.dumps(r.json(),indent=4))"
   ]
  },
  {
   "cell_type": "markdown",
   "id": "9ffa906a-5d84-4c5e-8f23-487e92e6fd80",
   "metadata": {},
   "source": [
    "### Details on the Presto Engines\n",
    "\n",
    "The data returned provides details on all of the engines that have been registered in the system. To get the details of the presto engines, we modify the service to `/presto_engines`."
   ]
  },
  {
   "cell_type": "code",
   "execution_count": null,
   "id": "df515c46-a77a-4e13-8bb7-27d672d6b4d4",
   "metadata": {},
   "outputs": [],
   "source": [
    "if (authenticate(credentials) == True):\n",
    "    host, port, lh_instance_id, lh_instance_name, password, username, expiry, accesstoken = \\\n",
    "    [credentials[k] for k in [\"host\", \"port\", \"lh_instance_id\", \"lh_instance_name\", \"password\", \"username\", \"expiry\", \"accesstoken\"]]\n",
    "    api_inst = f\"/lakehouse/api/v2\"\n",
    "    service  = f\"/presto_engines\"\n",
    "    headers = {\n",
    "        \"Content-Type\"   : \"application/json\", \n",
    "        \"AuthInstanceID\" : lh_instance_id,\n",
    "        \"Authorization\"  : f\"Bearer {accesstoken}\"\n",
    "    }\n",
    "    r = requests.get(f\"{host}:{port}{api_inst}{service}\", headers=headers, verify=certfile)\n",
    "    print(json.dumps(r.json(),indent=4))"
   ]
  },
  {
   "cell_type": "markdown",
   "id": "22860e24-cc2c-4665-a405-9db891625906",
   "metadata": {},
   "source": [
    "For subsequent queries, we will need the name of the Presto engine. The value is extracted from the result set with the next command."
   ]
  },
  {
   "cell_type": "code",
   "execution_count": null,
   "id": "7eec127f-c9e8-4ecd-83e0-cbd8cd6cd57a",
   "metadata": {},
   "outputs": [],
   "source": [
    "results = r.json()\n",
    "presto_id = results['presto_engines'][0]['engine_id']\n",
    "presto_id"
   ]
  },
  {
   "cell_type": "markdown",
   "id": "67e88c22-f8bb-4391-9ecc-cddfa10fe5b0",
   "metadata": {},
   "source": [
    "## Catalogs\n",
    "The step in the object hierarchy is Catalogs. To retrieve the catalogs that are found in watsonx.data. we use the following RESTful call.\n",
    "\n",
    "* Call Type: `GET`\n",
    "* API: `/lakehouse/api/v2`\n",
    "* Service: `/catalogs`\n",
    "* Header\n",
    "    * Content-Type: `application/json`\n",
    "    * AuthInstanceID: `0000-0000-0000-0000`\n",
    "    * Authorization:  `Bearer <token>`\n",
    "* Certificate: `filename`\n",
    "\n",
    "This call will return all catalog entries. To find only the catalogs associated with the Presto engine, we will need to add some additional logic to result set that returned."
   ]
  },
  {
   "cell_type": "code",
   "execution_count": null,
   "id": "6cf050c2-862d-446c-91d2-fd56688a6b52",
   "metadata": {},
   "outputs": [],
   "source": [
    "if (authenticate(credentials) == True):\n",
    "    host, port, lh_instance_id, lh_instance_name, password, username, expiry, accesstoken = \\\n",
    "    [credentials[k] for k in [\"host\", \"port\", \"lh_instance_id\", \"lh_instance_name\", \"password\", \"username\", \"expiry\", \"accesstoken\"]]\n",
    "    api_inst = f\"/lakehouse/api/v2\"\n",
    "    service  = f\"/catalogs\"\n",
    "    headers = {\n",
    "        \"Content-Type\"   : \"application/json\", \n",
    "        \"AuthInstanceID\" : lh_instance_id,\n",
    "        \"Authorization\"  : f\"Bearer {accesstoken}\"\n",
    "    }\n",
    "    r = requests.get(f\"{host}:{port}{api_inst}{service}\", headers=headers, verify=certfile)\n",
    "    results = r.json()\n",
    "    catalog_list = []\n",
    "    catalogs = results['catalogs']\n",
    "    print(\"Catalogs\")\n",
    "    print(\"---------------\")    \n",
    "    for catalog in catalogs:\n",
    "        if (presto_id in catalog['associated_engines']):\n",
    "            print(catalog['catalog_name'])"
   ]
  },
  {
   "cell_type": "markdown",
   "id": "64377f9c-30e7-48ff-a32b-307aeba29cd7",
   "metadata": {},
   "source": [
    "## Schemas\n",
    "Once we have the catalogs associated with an engine, you can request what schemas are associated with a catalog. The format of the RESTful call is:\n",
    "\n",
    "* Call Type: `GET`\n",
    "* API: `/lakehouse/api/v2`\n",
    "* Service: `/catalogs/{catalog_id}/schemas?engine_id=engine_id`\n",
    "* Header\n",
    "    * Content-Type: `application/json`\n",
    "    * AuthInstanceID: `0000-0000-0000-0000`\n",
    "    * Authorization:  `Bearer <token>`\n",
    "* Certificate: `filename`\n",
    "\n",
    "The service name is modifed to include the `catalog_id` and the `schemas` service with the addition of the `engine_id` being passed as a parameter in the URL.\n",
    "\n",
    "To get the schemas associated with the `hive_data` catalog in the `presto-01` engine, the service would be:\n",
    "\n",
    "```bash\n",
    "/catalogs/hive_data/schemas?engine_id=presto-01\n",
    "```\n"
   ]
  },
  {
   "cell_type": "code",
   "execution_count": null,
   "id": "61d88144-6ec4-4e8c-ab90-cff2cc8141d5",
   "metadata": {},
   "outputs": [],
   "source": [
    "catalog_id = \"hive_data\"\n",
    "\n",
    "if (authenticate(credentials) == True):\n",
    "    host, port, lh_instance_id, lh_instance_name, password, username, expiry, accesstoken = \\\n",
    "    [credentials[k] for k in [\"host\", \"port\", \"lh_instance_id\", \"lh_instance_name\", \"password\", \"username\", \"expiry\", \"accesstoken\"]]\n",
    "    api_inst = f\"/lakehouse/api/v2\"\n",
    "    service  = f\"/catalogs/{catalog_id}/schemas?engine_id={presto_id}\"\n",
    "    headers = {\n",
    "        \"Content-Type\"   : \"application/json\", \n",
    "        \"AuthInstanceID\" : lh_instance_id,\n",
    "        \"Authorization\"  : f\"Bearer {accesstoken}\"\n",
    "    }\n",
    "    r = requests.get(f\"{host}:{port}{api_inst}{service}\", headers=headers, verify=certfile)\n",
    "    results = r.json()\n",
    "    schemas = results[\"schemas\"]\n",
    "    print(\"Schemas\")\n",
    "    print(\"---------------\")    \n",
    "    for schema in schemas:\n",
    "        print(schema)"
   ]
  },
  {
   "cell_type": "markdown",
   "id": "759340c4-edd4-4400-95f9-4bbbc0003588",
   "metadata": {},
   "source": [
    "## Tables\n",
    "Once you have the schema list, you can use a RESTful call to return the list of tables that are found in the schema. The call is similar to the SCHEMA example, except that the schema ID must now be added to the service request.\n",
    "\n",
    "* Call Type: `GET`\n",
    "* API: `/lakehouse/api/v2`\n",
    "* Service: `/catalogs/{catalog_id}/schemas/{schema_id}/tables?engine_id=engine_id`\n",
    "* Header\n",
    "    * Content-Type: `application/json`\n",
    "    * AuthInstanceID: `0000-0000-0000-0000`\n",
    "    * Authorization:  `Bearer <token>`\n",
    "* Certificate: `filename`\n",
    "\n",
    "The service name is modifed to include the `catalog_id`, `schema_id` and the `/tables` service, with the addition of the `engine_id` being passed as a parameter in the URL.\n",
    "\n",
    "To get the tables associated with the `ontime` schema, in the `hive_data` catalog, running on the `presto-01` engine, the service would be:\n",
    "\n",
    "```bash\n",
    "/catalogs/hive_data/schemas/ontime/tables?engine_id=presto-01\n",
    "```"
   ]
  },
  {
   "cell_type": "code",
   "execution_count": null,
   "id": "3fda0540-3217-42df-80ad-688a9254e76e",
   "metadata": {},
   "outputs": [],
   "source": [
    "catalog_id = \"hive_data\"\n",
    "schema_id  = \"ontime\"\n",
    "\n",
    "if (authenticate(credentials) == True):\n",
    "    host, port, lh_instance_id, lh_instance_name, password, username, expiry, accesstoken = \\\n",
    "    [credentials[k] for k in [\"host\", \"port\", \"lh_instance_id\", \"lh_instance_name\", \"password\", \"username\", \"expiry\", \"accesstoken\"]]\n",
    "    api_inst = f\"/lakehouse/api/v2\"\n",
    "    service  = f\"/catalogs/{catalog_id}/schemas/{schema_id}/tables?engine_id={presto_id}\"\n",
    "    headers = {\n",
    "        \"Content-Type\"   : \"application/json\", \n",
    "        \"AuthInstanceID\" : lh_instance_id,\n",
    "        \"Authorization\"  : f\"Bearer {accesstoken}\"\n",
    "    }\n",
    "    r = requests.get(f\"{host}:{port}{api_inst}{service}\", headers=headers, verify=certfile)\n",
    "    results = r.json()\n",
    "    tables = results[\"tables\"]\n",
    "    print(\"Tables\")\n",
    "    print(\"---------------\")\n",
    "    for table in tables:\n",
    "        print(table)"
   ]
  },
  {
   "cell_type": "markdown",
   "id": "1bdc9be8-39bb-42b1-9b01-e1b86dd885c1",
   "metadata": {},
   "source": [
    "## Table Details\n",
    "You can get the details of a table by adding the table ID to the previous RESTful call. As you will notice, the service name is extended with additional details (catalog, schema, table, engine) as we get closer to the final object.\n",
    "\n",
    "To request the details of a table, the call is similar to the TABLES example, except that the Table ID must now be added to the service request.\n",
    "\n",
    "* Call Type: `GET`\n",
    "* API: `/lakehouse/api/v2`\n",
    "* Service: `/catalogs/{catalog_id}/schemas/{schema_id}/tables/{table_id}?engine_id=engine_id`\n",
    "* Header\n",
    "    * Content-Type: `application/json`\n",
    "    * AuthInstanceID: `0000-0000-0000-0000`\n",
    "    * Authorization:  `Bearer <token>`\n",
    "* Certificate: `filename`\n",
    "\n",
    "The service name is modifed to include the `catalog_id`, `schema_id`, `table_id` and the `/tables` service, with the addition of the `engine_id` being passed as a parameter in the URL.\n",
    "\n",
    "To get the details of the `ontime` table in the `ontime` schema, in the `hive_data` catalog, running on the `presto-01` engine, the service would be:\n",
    "\n",
    "```bash\n",
    "/catalogs/hive_data/schemas/ontime/tables/ontime?engine_id=presto-01\n",
    "```"
   ]
  },
  {
   "cell_type": "code",
   "execution_count": null,
   "id": "c4ab86fb-a3f7-4475-a08b-162f95e1226c",
   "metadata": {},
   "outputs": [],
   "source": [
    "catalog_id = \"hive_data\"\n",
    "schema_id  = \"ontime\"\n",
    "table_id   = \"ontime\"\n",
    "\n",
    "if (authenticate(credentials) == True):\n",
    "    host, port, lh_instance_id, lh_instance_name, password, username, expiry, accesstoken = \\\n",
    "    [credentials[k] for k in [\"host\", \"port\", \"lh_instance_id\", \"lh_instance_name\", \"password\", \"username\", \"expiry\", \"accesstoken\"]]\n",
    "    api_inst = f\"/lakehouse/api/v2\"\n",
    "    service  = f\"/catalogs/{catalog_id}/schemas/{schema_id}/tables/{table_id}?engine_id={presto_id}\"\n",
    "    headers = {\n",
    "        \"Content-Type\"   : \"application/json\", \n",
    "        \"AuthInstanceID\" : lh_instance_id,\n",
    "        \"Authorization\"  : f\"Bearer {accesstoken}\"\n",
    "    }\n",
    "    r = requests.get(f\"{host}:{port}{api_inst}{service}\", headers=headers, verify=certfile)\n",
    "    results = r.json()\n",
    "    columns = results['columns']\n",
    "    names = []\n",
    "    types = []\n",
    "    for column in columns:\n",
    "        names.append(column['column_name'])\n",
    "        types.append(column['type'])\n",
    "\n",
    "    df = pd.DataFrame({'Column Name': names, 'Type': types})\n",
    "    display(HTML(df.to_html()))    "
   ]
  },
  {
   "cell_type": "markdown",
   "id": "0370bc2d-f33b-4196-8282-45a451c5dc3c",
   "metadata": {},
   "source": [
    "## Querying watsonx.data with a RESTful Call\n",
    "You can query data in Presto by using a RESTful call. There are a number of steps involved when retrieving answer sets from Presto. First of all, a single RESTful call may not result in an answer set immediately. What this means is that the program must \"poll\" the server to determine when to retrieve results. \n",
    "\n",
    "The intial call to RESTful will result in a number of possible responses:\n",
    "\n",
    "* WAITING_FOR_PREQUISITES - Presto is checking that resources are available to run your query\n",
    "* QUEUED - Your SQL is queued for execution\n",
    "* RUNNING - The SQL is running\n",
    "* FINISHED - The SQL has finished\n",
    "* ERROR - An error was found in your SQL\n",
    "\n",
    "The RESTful service uses POST to send a request to the server. The RESTful call requires the following information.\n",
    "\n",
    "* Call Type: `POST`\n",
    "* API: `/lakehouse/api/v2/{lh_instance_id}/v1`\n",
    "* Service: `/statement?engine_id={engine_id}`\n",
    "* Header\n",
    "    * Content-Type: `application/json`\n",
    "    * AuthInstanceID: `0000-0000-0000-0000`\n",
    "    * Authorization:  `Bearer <token>`\n",
    "* JSON\n",
    "    * ccatalog: Catalog name\n",
    "    * host: Internal Presto host (ibm-lh-presto-svc)\n",
    "    * port: Internal Presto port (8443)\n",
    "    * schema: Schema\n",
    "    * sqlQuery: The SQL that you want to run\n",
    "* Certificate: `filename`\n",
    "\n",
    "The program below initiates a POST request with the connection details and the SQL statement. The returned message is found in the `r.json()` field. A field called `stats` contains another field called `state` which indicate what state the RESTful service is in. Based on the current state of execution, the code will continue looping looking for intermediate results or the final results.\n",
    "\n",
    "Every RESTful call (after the initial one) may send data back to the client. This data needs to be appended after each RESTful call. The program may need to make several RESTful calls to retrieve the entire answer set. The returned `r.json()` field will contain the URL (`nextUri`) that should be used to get the next block of rows using a `GET` request. Once the answer set is exhausted, the final block will have a FINISHED status.\n",
    "\n",
    "The presto engine (`presto-01`) is hardcoded in the code below. You could add that to the credentials file if you have more than one presto engine available.\n",
    "\n",
    "In order to reduce the overhead on the Presto service, a delay is added between every call to not overwhelm the server!\n",
    "\n",
    "The `restfulSQL` function takes 4 arguments:\n",
    "* credentials - The userid and password required to connect to the watsonx.data system\n",
    "* catalog - The default catalog that is being used for the query\n",
    "* schema - The default schema that is being used for the query\n",
    "* SQL - The SQL query\n",
    "\n",
    "If the SQL statement does not supply a catalog or schema in the table definition, the default values in the header will be used."
   ]
  },
  {
   "cell_type": "code",
   "execution_count": null,
   "id": "3ca5b447-a9e2-4a52-8fd3-0f451e4707e6",
   "metadata": {},
   "outputs": [],
   "source": [
    "def restfulSQL(credentials,catalog,schema,sql):\n",
    "    \n",
    "    from time import sleep\n",
    "    import pandas as pd\n",
    "\n",
    "    if (authenticate(credentials) == False):\n",
    "        print(\"Unable to authenticate\")\n",
    "        return\n",
    "\n",
    "    presto_id = \"presto-01\"    \n",
    "        \n",
    "    host, port, lh_instance_id, lh_instance_name, password, username, expiry, accesstoken = \\\n",
    "    [credentials[k] for k in [\"host\", \"port\", \"lh_instance_id\", \"lh_instance_name\", \"password\", \"username\", \"expiry\", \"accesstoken\"]]\n",
    "\n",
    "    api_inst = f\"/lakehouse/api/v2/{lh_instance_id}/v1\"\n",
    "    service  = f\"/statement?engine_id={presto_id}\"\n",
    "    headers = {\n",
    "        \"Content-Type\"   : \"application/json\", \n",
    "        \"AuthInstanceID\" : lh_instance_id,\n",
    "        \"LhInstanceId\"   : lh_instance_id,        \n",
    "        \"Authorization\"  : f\"Bearer {accesstoken}\"\n",
    "    }\n",
    "    data = {\n",
    "        \"catalog\"        : catalog,\n",
    "        \"schema\"         : schema,\n",
    "        \"host\"           : \"ibm-lh-presto-svc\",\n",
    "        \"port\"           : 8443,\n",
    "        \"sqlQuery\"       : sql\n",
    "    }\n",
    "    \n",
    "    r = requests.post(f\"{host}:{port}{api_inst}{service}\", headers=headers, json=data, verify=certfile)\n",
    "\n",
    "    columns = []\n",
    "    values  = []\n",
    "\n",
    "    while True:\n",
    "        if (r.ok == False):\n",
    "            try:\n",
    "                results = r.json()\n",
    "                if (results.get('error',None) != None):\n",
    "                    errordata = results['error']\n",
    "                    errormsg  = errordata['message']\n",
    "                    print(f\"Error: {errormsg}\")\n",
    "                    return None\n",
    "            except Exception as e:\n",
    "                print(repr(e))\n",
    "                return None\n",
    "\n",
    "        data = r.json()\n",
    "        results = data[\"data\"]\n",
    "        collect = False\n",
    "        stats = results.get('stats',None)\n",
    "        state = stats['state']\n",
    "        print(state)\n",
    "        if (state in [\"FINISHED\",\"RUNNING\"]):\n",
    "            collect = True\n",
    "        elif (state == \"FAILED\"):\n",
    "            errormsg = results.get('error',None)\n",
    "            if (errormsg != None):\n",
    "                print(f\"Error: {errormsg.get('message')}\")\n",
    "            error = True\n",
    "            break\n",
    "        else:\n",
    "            collect = False\n",
    "    \n",
    "        if (collect == True):\n",
    "            columns = results.get('columns',None)\n",
    "            rows    = results.get('data',None)\n",
    "            if (rows not in [None]):\n",
    "                values.append(rows)\n",
    "    \n",
    "        URI = results.get('nextUri',None)\n",
    "        if (URI != None):    \n",
    "            data = {\n",
    "                \"catalog\"        : catalog,\n",
    "                \"schema\"         : schema,\n",
    "                \"host\"           : \"ibm-lh-presto-svc\",\n",
    "                \"port\"           : 8443,\n",
    "                \"nextUri\"        : URI\n",
    "            }           \n",
    "            sleep(.1)\n",
    "            r = requests.post(f\"{host}:{port}{api_inst}{service}\", headers=headers, json=data, verify=certfile)\n",
    "        else:\n",
    "            break\n",
    "\n",
    "    column_names = []\n",
    "    if (len(columns) > 0):\n",
    "        for col in columns:\n",
    "            column_names.append(col.get(\"name\"))\n",
    "    \n",
    "    data_values = []\n",
    "    if (len(values) > 0):\n",
    "        for row in values[0]:\n",
    "            data_values.append(row)\n",
    "    \n",
    "    df = pd.DataFrame(data=data_values, columns=column_names)\n",
    "    return df\n"
   ]
  },
  {
   "cell_type": "code",
   "execution_count": null,
   "id": "fcbdb9b8-e212-484a-955d-aafbcdf59788",
   "metadata": {},
   "outputs": [],
   "source": [
    "restfulSQL(credentials,\"tpch\",\"tiny\",'select * from \"tpch\".\"tiny\".\"customer\" limit 10')"
   ]
  },
  {
   "cell_type": "markdown",
   "id": "a48973be-bf76-4bc9-9fe1-e03d0194f67e",
   "metadata": {},
   "source": [
    "### Example of Invalid SQL\n",
    "If you send invalid SQL to the engine you will receive a FAILED state back from the RESTful call."
   ]
  },
  {
   "cell_type": "code",
   "execution_count": null,
   "id": "94157f6d-0ee8-428c-9201-58bd8e4338fa",
   "metadata": {},
   "outputs": [],
   "source": [
    "restfulSQL(credentials,'tpch','tiny','select * from \"tpch\".\"tiny\".\"xcustomer\" limit 10')"
   ]
  },
  {
   "cell_type": "markdown",
   "id": "1d1d6baf-1c96-49b0-bff4-8fb222689142",
   "metadata": {},
   "source": [
    "#### Credits: IBM 2025, George Baklarz [baklarz@ca.ibm.com]"
   ]
  }
 ],
 "metadata": {
  "kernelspec": {
   "display_name": "Python 3 (ipykernel)",
   "language": "python",
   "name": "python3"
  },
  "language_info": {
   "codemirror_mode": {
    "name": "ipython",
    "version": 3
   },
   "file_extension": ".py",
   "mimetype": "text/x-python",
   "name": "python",
   "nbconvert_exporter": "python",
   "pygments_lexer": "ipython3",
   "version": "3.9.21"
  }
 },
 "nbformat": 4,
 "nbformat_minor": 5
}
