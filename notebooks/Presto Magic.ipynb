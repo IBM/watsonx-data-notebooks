{
 "cells": [
  {
   "cell_type": "markdown",
   "id": "4aacbda6-b608-41fb-b229-21a28df922a3",
   "metadata": {},
   "source": [
    "![Top <](./images/watsonxdata.png \"watsonxdata\")"
   ]
  },
  {
   "cell_type": "markdown",
   "id": "c5b0f5e3-8f5b-40c8-b65d-1355356a3d20",
   "metadata": {},
   "source": [
    "# Presto Magic Commands\n",
    "Presto Magic commands make it easy to run SQL in cells in your Jupyter Notebook as is, without any Python code. This notebook shows how to enable this feature for watsonx.data and provides some examples of its use."
   ]
  },
  {
   "cell_type": "markdown",
   "id": "bb03be87-0cce-44ab-aedd-0a7fcaa99c67",
   "metadata": {},
   "source": [
    "## Import Presto Magic Commands\n",
    "The SQL code tutorials for Presto rely on a Jupyter notebook extension, commonly referred to as a \"magic\" command. The beginning of any notebook will require the following command which will load the extension and allow the remainder of the notebook to use the `%sql` magic command. Use the Run button or Shift-Enter to run the code in the next cell."
   ]
  },
  {
   "cell_type": "code",
   "execution_count": null,
   "id": "a43aa16f-9ee9-48d6-af7d-cf64a4ef0e64",
   "metadata": {},
   "outputs": [],
   "source": [
    "%run presto.ipynb"
   ]
  },
  {
   "cell_type": "markdown",
   "id": "0005838c-a5ab-4412-9d33-aa39568686ad",
   "metadata": {},
   "source": [
    "The `%run` command will insert the contents of the `presto.ipynb` notebook into this notebook. The `presto` file contains a number of Python commands that provide an interface between the `%sql` syntax and the actual SQL that is presented to the Presto database engine. You can edit the `presto.ipynb` notebook like any other file to see how the magic command is implemented. \n",
    "\n",
    "After loading the presto notebook, all sql commands will use the `%sql` magic command syntax to issue commands against the watsonx.data Presto database. The magic command code is using a combination of the prestodb driver, SQLAlchemy, DBAPI, and Pandas dataframes. Note that this version of the SQL magic command extension does not understand all of the Presto SQL dialect. It is sufficient to run the examples in the notebook however."
   ]
  },
  {
   "cell_type": "markdown",
   "id": "8cc9e9c9-a736-49cf-ac80-e8f64b1759fe",
   "metadata": {},
   "source": [
    "## An Introduction to Magic Commands\n",
    "Magic commands are a feature of Jupyter notebooks. Think of these commands as special routines that take your input and execute some logic against it. There are many types of magic commands available, including ones that allow notebooks to run system commands, time statement execution and other utility functions. The `%sql` command removes the need to understand the underlying Python, Pandas, PrestoDB, DBAPI and SQLAlchemy code. \n",
    "\n",
    "There are two forms of `%sql` command. The single `%` version of the command requires that the entire SQL statement remain on one line. You can extend the line by using the Python continuation character at the end of each line `\\` but that can become tedious on large blocks of code.\n",
    "\n",
    "Use the single form of the `%sql` command when:\n",
    "* The SQL is short\n",
    "* You need to use Python variables\n",
    "* You need to save the output\n",
    "\n",
    "#### Simple SQL statement\n",
    "\n",
    "An example of a simple SQL statement:\n",
    "```sql\n",
    "%sql select count(*) from tiny.customer\n",
    "```\n",
    "Presto SQL can have a semicolon `;` at the end of each statement. The magic command only allows multiple statements in a `%%sql` block.\n",
    "\n",
    "```sql\n",
    "%%sql\n",
    "DROP TABLE IF EXISTS CUSTOMER;\n",
    "CREATE TABLE CUSTOMER ....;\n",
    "```\n",
    "\n",
    "#### Continuation Character\n",
    "\n",
    "You can also use the `\\` character to extend the SQL beyond one line.\n",
    "```sql\n",
    "%sql select city, lastname \\\n",
    "       from tiny.customer \\\n",
    "     order by city, lastname\n",
    "```\n",
    "\n",
    "#### SQL Block\n",
    "\n",
    "The previous statement would have be easier to read and type by using the cell version of the `%%sql` command.\n",
    "```sql\n",
    "%%sql\n",
    "  select city, lastname\n",
    "    from tiny.customer\n",
    "  order by city, lastname\n",
    "```\n",
    "There is less chance of forgetting the `\\` at the end of each line of SQL. Note that only one SQL statement is allowed in `%sql` command, but multiple SQL statements, separated with semi-colons, is permitted with the `%%sql` command.\n",
    "\n",
    "#### Variable Substitution\n",
    "\n",
    "If you want to substitute a Python variable into a SQL statement, you must use the single line version `%sql` and enclose the Python variable names in braces `{variable}`. The following example will search for all employees whose first name is `Fred`.\n",
    "```sql\n",
    "firstname = 'Fred'\n",
    "%sql select * from customer where firstname={firstname}\n",
    "```\n",
    "\n",
    "#### Result Sets\n",
    "\n",
    "If you need to save the result set into a Python variable, you must use the single line version `%sql` and use raw, text, or pandas format for the output (more on this later).\n",
    "```sql\n",
    "result = %sql select * from customer\n",
    "```\n",
    "The result set will be placed into the Python variable `result` that you can further manipulate in your program."
   ]
  },
  {
   "cell_type": "markdown",
   "id": "f678b821-b7ed-44b5-8424-70a6a81a303c",
   "metadata": {},
   "source": [
    "## SQL Magic Command Options\n",
    "The `%sql` magic command provides options to modify how the output is displayed in a Jupyter notebook. There are four display options:\n",
    "* `grid` - This uses the ipydatagrid widget which provides a scrollable table in a notebook cell. This is the preferred way of viewing large answer sets.\n",
    "* `pandas` - Results can be displayed using Pandas dataframes. This format will print the results in a table, but the results will be truncated and the results are not scrollable.\n",
    "* `text` - As the name suggests, the output will be in text only with minimal formatting.\n",
    "* `raw` - The data is returned as an array of rows and columns. This is the raw data being returned by the Presto engine so this will provide you with the most flexibility in formatting the data.\n",
    "\n",
    "Pandas dataframes support extensive graphing, analysis and data manipulation functions. This format is recommend if you plan to do any advanced work against the data.\n",
    "\n",
    "To set the default display mode, use the following syntax:\n",
    "```sql\n",
    "%sql display [ grid | pandas | text | raw ]\n",
    "```\n",
    "\n",
    "The default cell size for the grid display is 150 pixels. You can reduce this value to 100 or set it as high as 500. To change the size, use the display command with a number:\n",
    "```sql\n",
    "%sql display 400\n",
    "```\n",
    "\n",
    "You can temporarily override the output type by using the following flags on the `%sql` command line:\n",
    "* `--grid` - display as grid\n",
    "* `--pandas` - display/output as pandas\n",
    "* `--text` - display/output as text\n",
    "* `--raw` - display/output as an array\n",
    "* `--timer` - return the number of seconds it took to execute the SQL (DML Only)\n",
    "* `--prototype` - turn on or off the prototype mode"
   ]
  },
  {
   "cell_type": "markdown",
   "id": "150241dc-2d7b-4a67-9051-c8ab7ac0d448",
   "metadata": {},
   "source": [
    "## Help\n",
    "If you need a quick check of the `%sql` command syntax, use the help command.\n",
    "<pre>\n",
    "%sql help\n",
    "Presto Magic Command Format\n",
    "Command Format:\n",
    "    %sql command (single line)\n",
    "    %%sql \n",
    "       ... command over multiple lines ...\n",
    " \n",
    "Display options\n",
    "    --grid      - scrollable grid\n",
    "     [50-500]   - grid size\n",
    "    --pandas    - pandas dataframe\n",
    "    --text      - text display\n",
    "    --raw       - array of rows/columns\n",
    "    --timer     - return time to execute the SQL with no output\n",
    "    --prototype - turn on/off the prototype mode to display Python code \n",
    " \n",
    "Connection parameters:\n",
    "%%sql connect \n",
    "      userid=value password=value\n",
    "      certfile=filename\n",
    "      hostname=host port=port\n",
    "      catalog=catalog schema=schema\n",
    " \n",
    "Change catalog: %sql use catalog.schema\n",
    "Change schema : %sql use schema\n",
    "\n",
    "Force SQL Statement Type\n",
    "    [dml]      - The SQL should return an answer set\n",
    "    [ddl]      - This is an SQL command with no results\n",
    "</pre>"
   ]
  },
  {
   "cell_type": "markdown",
   "id": "4fcd26a7-a0af-4e65-8e0a-3ee1eb960be7",
   "metadata": {},
   "source": [
    "## Connecting to Presto\n",
    "In order to connect to the Presto engine, you will require the following information:\n",
    "* Userid - Authorized userid\n",
    "* Password - Password of the userid\n",
    "* Hostname - The symbolic or IP address of the host\n",
    "* Port - The port that the Presto engine is listening to (8443 is the default)\n",
    "* Catalog - The catalog to use when connecting\n",
    "* Schema - The default schema\n",
    "* Certificate file - The `.crt` certificate file that is needed to secure communications to the host\n",
    "\n",
    "The syntax for the connect command is:\n",
    "```\n",
    "%sql connect setting1=value1 setting2=value2 ...\n",
    "```\n",
    "If the settings need to spill over multiple lines, you can use the cell `%%sql` command.\n",
    "\n",
    "```\n",
    "%%sql\n",
    "  connect\n",
    "  setting1=value1\n",
    "  setting2=value2\n",
    "```\n",
    "\n",
    "If no schema currently exists in a catalog, or you are not sure what schema you want to use, the keyword \"none\" can be used for the schema name. All parameters must be in the format `setting=value`. Quotes are not used around values and in some cases may cause an error. \n",
    "\n",
    "The next SQL statement will connect to the watsonx.data server. These values are pre-populated and you do not need to make any changes for this to work. If you were using watsonx.data on a different server you will need to update these settings."
   ]
  },
  {
   "cell_type": "code",
   "execution_count": null,
   "id": "c2ea6601-2517-4bc6-8469-7949473ac7c4",
   "metadata": {},
   "outputs": [],
   "source": [
    "%%sql\n",
    "   connect\n",
    "   userid=ibmlhadmin\n",
    "   password=password\n",
    "   hostname=watsonxdata\n",
    "   port=8443\n",
    "   catalog=tpch\n",
    "   schema=tiny\n",
    "   certfile=/certs/lh-ssl-ts.crt"
   ]
  },
  {
   "cell_type": "markdown",
   "id": "ed170177-9986-4a01-9b5c-82c8d182cbcb",
   "metadata": {},
   "source": [
    "## Setting Catalog and Schemas\n",
    "The USE command is used to change to a different catalog and schema. The syntax is:\n",
    "```sql\n",
    "%sql use catalog.schema\n",
    "```\n",
    "To change only the current schema, supply the schema name to the command.\n",
    "```sql\n",
    "%sql use newworkshop\n",
    "```\n",
    "If you want to change the catalog and the schema, use the `catalog.schema` syntax:\n",
    "```sql\n",
    "%sql use iceberg_data.newworkshop\n",
    "```\n",
    "If you want to change the catalog, but do not know what schema to use (or one may not exist), use `none` as the schema name.\n",
    "```sql\n",
    "%sql use iceberg_data.none\n",
    "```"
   ]
  },
  {
   "cell_type": "markdown",
   "id": "2f92788a-e465-4774-9890-aac0eb6c7fe1",
   "metadata": {},
   "source": [
    "## SQL Support\n",
    "The Presto magic command determines whether your SQL statement is DDL (CREATE, ALTER, DROP, INSERT, ...) or DML (SELECT, SHOW, VALUES, ...). If the program can't determine what type of statement it is, it attempts to guess the results by checking if any output is produced. If you come across SQL that should be returning a result set, but the magic command is not returning any values, use the `[dml]` (Data Manipulate Language) keyword at the front of your SQL. If the SQL should be treated as a command, use the `[ddl]` (Data Definition Language) at the front of the SQL. The reason that these aren't flags (like `--pandas`) is that you may have multiple statements in a SQL block and only one needs to be treated differently.\n",
    "```sql\n",
    "%sql [dml] values 1,2,3,4\n",
    "```"
   ]
  },
  {
   "cell_type": "code",
   "execution_count": null,
   "id": "452a4a28-1495-4cbb-b68b-bcda5319dd92",
   "metadata": {},
   "outputs": [],
   "source": [
    "%sql [dml] values 1,2,3,4"
   ]
  },
  {
   "cell_type": "markdown",
   "id": "3e2fda94-f584-47bc-8b17-f1e3ba514c1e",
   "metadata": {},
   "source": [
    "## SQL Magic Command Examples\n",
    "A magic command starts with the keyword `%sql` or `%%sql`. When using `%sql`, the text after the keyword is sent to the Presto engine for execution. The semi-colon is not recognized as a separator for statements. If you have a SQL statement that is large and spans many lines, you can use the `%%sql` version of the command. When using `%%sql`, the text after the keyword is ignored. The lines after the `%%sql` are considered to be the SQL and are passed to the Presto engine. You can have multiple SQL statements in the text and a semicolon will be the statement terminator.\n",
    "\n",
    "The following is an example of a single line `%sql` statement."
   ]
  },
  {
   "cell_type": "code",
   "execution_count": null,
   "id": "ce268b3f-e40c-4c34-8524-8bd4018b5194",
   "metadata": {},
   "outputs": [],
   "source": [
    "%sql values 1,2,3,4"
   ]
  },
  {
   "cell_type": "markdown",
   "id": "9ff5b125-b527-43bb-ba64-6d04da41e2a2",
   "metadata": {},
   "source": [
    "The previous statement displayed the results in a grid format. If you want to use Pandas format, use the `--pandas` option."
   ]
  },
  {
   "cell_type": "code",
   "execution_count": null,
   "id": "10d16a55-0767-44d6-b2dd-f81a189fce47",
   "metadata": {},
   "outputs": [],
   "source": [
    "%sql --pandas values 1,2,3,4"
   ]
  },
  {
   "cell_type": "markdown",
   "id": "bfeb756b-353a-468c-96a2-49ee319269be",
   "metadata": {},
   "source": [
    "You can save the results of a `--pandas` or `--raw` format to a Python variable."
   ]
  },
  {
   "cell_type": "code",
   "execution_count": null,
   "id": "db873437-0c9c-46f2-9561-7be11032766a",
   "metadata": {},
   "outputs": [],
   "source": [
    "x = %sql --pandas values 1,2,3,4"
   ]
  },
  {
   "cell_type": "markdown",
   "id": "89bdaafb-d5bc-465b-a085-3387ba030db7",
   "metadata": {},
   "source": [
    "The variable `x` now contains the results as a Pandas dataframe which you can manipulate."
   ]
  },
  {
   "cell_type": "code",
   "execution_count": null,
   "id": "ffc1cf26-6e56-4812-b0bc-d233d6335131",
   "metadata": {},
   "outputs": [],
   "source": [
    "x"
   ]
  },
  {
   "cell_type": "markdown",
   "id": "ee958dca-6dfd-4f11-92d3-4ec7a804c872",
   "metadata": {},
   "source": [
    "The raw format only provides the data in rows and columns without a header."
   ]
  },
  {
   "cell_type": "code",
   "execution_count": null,
   "id": "05287347-b879-4424-ad1c-f66d5cde3f88",
   "metadata": {},
   "outputs": [],
   "source": [
    "x = %sql --raw values 1,2,3,4\n",
    "x"
   ]
  },
  {
   "cell_type": "markdown",
   "id": "23fbdadf-53f6-4293-b43f-14515f10dbd5",
   "metadata": {},
   "source": [
    "### Multiline SQL\n",
    "You can spread SQL out over multiple lines instead of using continuation characters. The following two SQL blocks are identical."
   ]
  },
  {
   "cell_type": "code",
   "execution_count": null,
   "id": "6ddd0366-611a-49f3-bc0f-211eed62843f",
   "metadata": {},
   "outputs": [],
   "source": [
    "%sql values 1,\\\n",
    "            2,\\\n",
    "            3,\\\n",
    "            4"
   ]
  },
  {
   "cell_type": "code",
   "execution_count": null,
   "id": "75393e82-ced6-4114-afd0-f2bb4207c57a",
   "metadata": {},
   "outputs": [],
   "source": [
    "%%sql\n",
    "values\n",
    "     1, \n",
    "     2,\n",
    "     3,\n",
    "     4"
   ]
  },
  {
   "cell_type": "markdown",
   "id": "9b5fbf4c-2bdd-4aa7-b7c0-fa571d921315",
   "metadata": {},
   "source": [
    "### Variable Substitution\n",
    "You must use the single line `%sql` format to use Python variables in your SQL. Here is an example of using Python substitution in a SQL statement."
   ]
  },
  {
   "cell_type": "code",
   "execution_count": null,
   "id": "76e22605-cb6f-4aec-94f9-fbe580c3ebf1",
   "metadata": {},
   "outputs": [],
   "source": [
    "values = 587\n",
    "%sql values {values}"
   ]
  },
  {
   "cell_type": "markdown",
   "id": "556c1f97-4c88-40e1-929b-addcdbf5c7ab",
   "metadata": {},
   "source": [
    "## Overview of Schemas and Catalogs\n",
    "\n",
    "A watsonx.data catalog contains schemas and references a data source via a connector. A connector is like a driver for a database. The following commands are used to view the catalogs and schemas that are available.\n",
    "\n",
    "Display the catalogs."
   ]
  },
  {
   "cell_type": "code",
   "execution_count": null,
   "id": "d6b2e4fd-0dd7-4ce1-85f2-344d4664188f",
   "metadata": {},
   "outputs": [],
   "source": [
    "%sql show catalogs"
   ]
  },
  {
   "cell_type": "markdown",
   "id": "0ce323df-77ad-4e17-ac23-bc5739ba2262",
   "metadata": {},
   "source": [
    "Let's look up what schemas are available with any given catalog. We will use the TPCH catalog which is an internal PrestoDB auto-generated catalog and look at the available schemas."
   ]
  },
  {
   "cell_type": "code",
   "execution_count": null,
   "id": "ec364738-6bee-4937-80cb-4188f71846f2",
   "metadata": {},
   "outputs": [],
   "source": [
    "%sql show schemas in tpch"
   ]
  },
  {
   "cell_type": "markdown",
   "id": "c8068509-0b65-4318-a121-30764a42ae88",
   "metadata": {},
   "source": [
    "You can connect to a specific catalog and schema and look at the tables. This requires that you update the catalog and schema that you want to view. The `%sql` driver uses the `USE` command:\n",
    "```\n",
    "%sql USE [schema_name]\n",
    "%sql USE [catalog_name].[schema_name]\n",
    "```\n",
    "Connect to the `tpch` catalog and set the schema to `tiny`."
   ]
  },
  {
   "cell_type": "code",
   "execution_count": null,
   "id": "33cc81f5-bca0-4fd5-b4ba-eb96ea4cd595",
   "metadata": {},
   "outputs": [],
   "source": [
    "%sql use tpch.tiny"
   ]
  },
  {
   "cell_type": "markdown",
   "id": "71230e6a-23b3-42d5-a0af-a48d6ae25b34",
   "metadata": {},
   "source": [
    "Look at the available tables in the `TPCH` catalog under the `tiny` schema."
   ]
  },
  {
   "cell_type": "code",
   "execution_count": null,
   "id": "f77ae7f3-835b-4417-88ff-dc50183d0ab8",
   "metadata": {},
   "outputs": [],
   "source": [
    "%sql show tables"
   ]
  },
  {
   "cell_type": "markdown",
   "id": "94462002-8d96-412b-b60a-37b3b3ca3bd6",
   "metadata": {},
   "source": [
    "Inspect schema of the customer table."
   ]
  },
  {
   "cell_type": "code",
   "execution_count": null,
   "id": "c2e6f00b-3ff3-4f4b-b984-a00b94667c3f",
   "metadata": {},
   "outputs": [],
   "source": [
    "%sql describe customer"
   ]
  },
  {
   "cell_type": "markdown",
   "id": "2a2c97e1-9602-4a0e-aa1a-eabcdafcacb4",
   "metadata": {},
   "source": [
    "You could also use the syntax below to achieve the same result."
   ]
  },
  {
   "cell_type": "code",
   "execution_count": null,
   "id": "e6dc6fe5-6ff0-40a3-995a-6f10f3860f10",
   "metadata": {},
   "outputs": [],
   "source": [
    "%sql show columns from customer"
   ]
  },
  {
   "cell_type": "markdown",
   "id": "01a9425c-864d-48f3-b573-4bdf1776333c",
   "metadata": {},
   "source": [
    "Inspect available functions."
   ]
  },
  {
   "cell_type": "code",
   "execution_count": null,
   "id": "56b46949-0d70-4daa-8aa6-b2b0464d2c6e",
   "metadata": {},
   "outputs": [],
   "source": [
    "%sql show functions like 'date%'"
   ]
  },
  {
   "cell_type": "markdown",
   "id": "a01cbc29-ab1d-41b2-ba96-8bb0ceabd701",
   "metadata": {},
   "source": [
    "Switch to a different schema. The `USE [schema]` command is used to switch to a different schema. "
   ]
  },
  {
   "cell_type": "code",
   "execution_count": null,
   "id": "1753d84a-a28d-43a3-b924-fd782343cd0d",
   "metadata": {},
   "outputs": [],
   "source": [
    "%sql use sf1"
   ]
  },
  {
   "cell_type": "markdown",
   "id": "185f5e65-6138-43ff-afc4-d705eda017cf",
   "metadata": {},
   "source": [
    "Display the Tables in the schema."
   ]
  },
  {
   "cell_type": "code",
   "execution_count": null,
   "id": "c9e9d7be-aac5-49d0-8a65-c419d1499b9a",
   "metadata": {},
   "outputs": [],
   "source": [
    "%sql show tables"
   ]
  },
  {
   "cell_type": "markdown",
   "id": "c6cad6dc-8675-4137-91aa-4423c468f808",
   "metadata": {},
   "source": [
    "Query data from customer table."
   ]
  },
  {
   "cell_type": "code",
   "execution_count": null,
   "id": "4f4536d1-192e-4ea1-a1dd-4ae11a150c5b",
   "metadata": {},
   "outputs": [],
   "source": [
    "%sql select * from customer limit 5"
   ]
  },
  {
   "cell_type": "markdown",
   "id": "55e2571b-4a7c-4cbc-872d-a6f7c890c52a",
   "metadata": {},
   "source": [
    "Gather statistics on a given table."
   ]
  },
  {
   "cell_type": "code",
   "execution_count": null,
   "id": "7da4dde7-f8e4-4e95-8789-c962264cea46",
   "metadata": {},
   "outputs": [],
   "source": [
    "%sql show stats for customer"
   ]
  },
  {
   "cell_type": "markdown",
   "id": "88071558-b5c7-42aa-9818-d8e38fece7d1",
   "metadata": {},
   "source": [
    "## Prototype Setting\n",
    "The following command will turn on the prototype mode for the Presto magic commands.\n",
    "```sql\n",
    "%sql --prototype\n",
    "```\n",
    "This command is used by itself and any additional text will be ignored. This setting will toggle the prototype switch in the program between on and off. When the setting is on, the Presto magic command will print the Python statements that were executed when using the magic command format. This setting is useful when you want to develop code that does not rely on the magic commands and want to use native Python calls.\n",
    "\n",
    "The next command will turn on prototype mode."
   ]
  },
  {
   "cell_type": "code",
   "execution_count": null,
   "id": "1f6ef486-aff3-482e-a43b-c3dc86180343",
   "metadata": {},
   "outputs": [],
   "source": [
    "%sql --prototype"
   ]
  },
  {
   "cell_type": "markdown",
   "id": "862ad033-24e7-4bcb-80c4-ba25cb8e464f",
   "metadata": {},
   "source": [
    "The code that was generated in the previous command will need to be used in a Python program to make sure the proper libraries are available to connect to the Presto (watsonx.data) database. The next block will run this code."
   ]
  },
  {
   "cell_type": "code",
   "execution_count": null,
   "id": "9b0095ca-b6ad-4c04-9cb4-41bbaa60a657",
   "metadata": {},
   "outputs": [],
   "source": [
    "# All Python code will be displayed during execution\n",
    "# Imports required to connect to watsonx.data\n",
    "import prestodb\n",
    "from prestodb import transaction\n",
    "import pandas as pd\n",
    "import sqlalchemy\n",
    "from sqlalchemy import create_engine\n",
    "import warnings\n",
    "warnings.filterwarnings(\"ignore\")"
   ]
  },
  {
   "cell_type": "markdown",
   "id": "5451dcd8-5949-47ea-ac48-14484af41a0e",
   "metadata": {},
   "source": [
    "The next statement will connect to the database and generate the connection code."
   ]
  },
  {
   "cell_type": "code",
   "execution_count": null,
   "id": "4a150759-13bf-4225-81e1-22e45229fca5",
   "metadata": {},
   "outputs": [],
   "source": [
    "%%sql\n",
    "   connect\n",
    "   userid=ibmlhadmin\n",
    "   password=password\n",
    "   hostname=watsonxdata\n",
    "   port=8443\n",
    "   catalog=tpch\n",
    "   schema=tiny\n",
    "   certfile=/certs/lh-ssl-ts.crt"
   ]
  },
  {
   "cell_type": "markdown",
   "id": "b8117de0-42ac-4be9-88b4-8361b0454b41",
   "metadata": {},
   "source": [
    "The generated connect statement is shown below."
   ]
  },
  {
   "cell_type": "code",
   "execution_count": null,
   "id": "6991905a-587e-4021-aff3-8bbd8af79d87",
   "metadata": {},
   "outputs": [],
   "source": [
    "# Connection Parameters\n",
    "userid     = \"ibmlhadmin\"\n",
    "password   = \"password\"\n",
    "hostname   = \"watsonxdata\"\n",
    "port       = \"8443\"\n",
    "catalog    = \"tpch\"\n",
    "schema     = \"tiny\"\n",
    "certfile   = \"/certs/lh-ssl-ts.crt\"\n",
    "\n",
    "# Connect Statement\n",
    "try:\n",
    "    connection = prestodb.dbapi.connect(\n",
    "            host=hostname,\n",
    "            port=port,\n",
    "            user=userid,\n",
    "            catalog=catalog,\n",
    "            schema=schema,\n",
    "            http_scheme='https',\n",
    "            auth=prestodb.auth.BasicAuthentication(userid, password)\n",
    "    )\n",
    "    connection._http_session.verify = certfile\n",
    "    cursor = connection.cursor()\n",
    "    print(\"Connection successful\")\n",
    "except Exception as e:\n",
    "    print(\"Unable to connect to the database.\")\n",
    "    print(repr(e))"
   ]
  },
  {
   "cell_type": "markdown",
   "id": "00a05371-ca04-42a8-9913-6fcb1f065c4b",
   "metadata": {},
   "source": [
    "The final step will issue a SELECT statement to return some data into a variable."
   ]
  },
  {
   "cell_type": "code",
   "execution_count": null,
   "id": "4829af0c-ec86-4b87-a3a9-dee054ad8e49",
   "metadata": {},
   "outputs": [],
   "source": [
    "%sql select * from customer limit 5"
   ]
  },
  {
   "cell_type": "markdown",
   "id": "61edec1a-65af-40b3-b115-881a46f10bd1",
   "metadata": {},
   "source": [
    "The generated code is found in the next cell."
   ]
  },
  {
   "cell_type": "code",
   "execution_count": null,
   "id": "18743023-fd39-43dc-ab40-3fd8deb06d58",
   "metadata": {},
   "outputs": [],
   "source": [
    "# SQL\n",
    "sql = '''\n",
    "select * from customer limit 5 \n",
    "'''\n",
    "\n",
    "# Executing SQL Statement (Returning Dataframe)\n",
    "# Variable df contains the answer set in a Pandas dataframe\n",
    "try:\n",
    "    df = pd.read_sql(sql,connection)\n",
    "    if (len(df) == 0):\n",
    "        print(\"No rows found.\")\n",
    "except Exception as e:\n",
    "    print(repr(e))"
   ]
  },
  {
   "cell_type": "markdown",
   "id": "698a5b8a-1c85-4765-8cee-80dcea904a51",
   "metadata": {},
   "source": [
    "The result set is placed into the variable `df`. The next line will display the results."
   ]
  },
  {
   "cell_type": "code",
   "execution_count": null,
   "id": "eb92d81b-4a9c-4800-858b-cc2e4cfce1ce",
   "metadata": {},
   "outputs": [],
   "source": [
    "df"
   ]
  },
  {
   "cell_type": "markdown",
   "id": "006fa19a-221a-48a9-82b3-e8e74f397679",
   "metadata": {},
   "source": [
    "If you prefer to have the results in a Python array, you can use the `--raw` flag. Note that you have to use an assignment statement to place the results into a variable, otherwise the values will be printed out."
   ]
  },
  {
   "cell_type": "code",
   "execution_count": null,
   "id": "e1c54e30-7671-4f41-ab0b-9a6cd20b7055",
   "metadata": {},
   "outputs": [],
   "source": [
    "results = %sql --raw select * from customer limit 5"
   ]
  },
  {
   "cell_type": "markdown",
   "id": "cd5bf17d-a2ce-495b-badf-c3154d27e963",
   "metadata": {},
   "source": [
    "The code is executed below. Note that the variable `rows` will contain the result set because the magic command does not know what variable it is returning the result set to. "
   ]
  },
  {
   "cell_type": "code",
   "execution_count": null,
   "id": "74a00063-8023-434d-bf63-acaa724e8b3b",
   "metadata": {},
   "outputs": [],
   "source": [
    "# SQL\n",
    "sql = '''\n",
    " select * from customer limit 5 \n",
    "'''\n",
    "\n",
    "# Executing SQL Statement (Returning Array)\n",
    "# Variable rows contains an array of values from the answer set\n",
    "try:\n",
    "    cursor.execute(sql)\n",
    "    rows = cursor.fetchall()\n",
    "except Exception as e:\n",
    "    print(repr(e))"
   ]
  },
  {
   "cell_type": "markdown",
   "id": "5fe8b45f-31a7-42cc-b105-cb5715937ff2",
   "metadata": {},
   "source": [
    "To view the results, print the contents of the `rows` variable."
   ]
  },
  {
   "cell_type": "code",
   "execution_count": null,
   "id": "c0d66f78-c821-41c2-bf42-aee47da58f13",
   "metadata": {},
   "outputs": [],
   "source": [
    "rows"
   ]
  },
  {
   "cell_type": "markdown",
   "id": "9a981cac-83a3-4596-ba56-3e8c9098b5c2",
   "metadata": {},
   "source": [
    "To turn off prototype mode, run the `--prototype` command again."
   ]
  },
  {
   "cell_type": "code",
   "execution_count": null,
   "id": "49cc397d-ba04-4aad-aa57-5e2fdc15d847",
   "metadata": {},
   "outputs": [],
   "source": [
    "%sql --prototype"
   ]
  },
  {
   "cell_type": "markdown",
   "id": "5b720449-bd9e-4931-abdf-ad9077e1dbae",
   "metadata": {},
   "source": [
    "#### Credits: IBM 2024, George Baklarz [baklarz@ca.ibm.com]"
   ]
  }
 ],
 "metadata": {
  "kernelspec": {
   "display_name": "Python 3 (ipykernel)",
   "language": "python",
   "name": "python3"
  },
  "language_info": {
   "codemirror_mode": {
    "name": "ipython",
    "version": 3
   },
   "file_extension": ".py",
   "mimetype": "text/x-python",
   "name": "python",
   "nbconvert_exporter": "python",
   "pygments_lexer": "ipython3",
   "version": "3.9.18"
  }
 },
 "nbformat": 4,
 "nbformat_minor": 5
}
