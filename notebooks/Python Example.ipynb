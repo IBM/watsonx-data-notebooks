{
 "cells": [
  {
   "cell_type": "markdown",
   "id": "2b66939a-e939-4ff1-9265-76734f5dcf78",
   "metadata": {},
   "source": [
    "![Top <](./images/watsonxdata.png \"watsonxdata\")"
   ]
  },
  {
   "cell_type": "markdown",
   "id": "465d7032-7d5a-4ca3-a093-ef717815be4e",
   "metadata": {},
   "source": [
    "# Python Code example\n",
    "This code will connect to watsonx.data and display some data from an existing table that was created in Presto. Note that the certificate is available in this Jupyter notebook environment in the /certs directory."
   ]
  },
  {
   "cell_type": "code",
   "execution_count": null,
   "id": "357544ef-65b1-417b-a24b-a95cc60047cc",
   "metadata": {},
   "outputs": [],
   "source": [
    "import prestodb\n",
    "\n",
    "conn = prestodb.dbapi.connect(\n",
    "       host='watsonxdata',\n",
    "       port=8443,\n",
    "       user='ibmlhadmin',\n",
    "       catalog='tpch',\n",
    "       schema='tiny',\n",
    "       http_scheme='https',\n",
    "       auth=prestodb.auth.BasicAuthentication(\"ibmlhadmin\", \"password\")\n",
    ")\n",
    "conn._http_session.verify = '/certs/lh-ssl-ts.crt'\n",
    "cur = conn.cursor()"
   ]
  },
  {
   "cell_type": "markdown",
   "id": "011e4ba6-1073-4074-ad5c-3f3d027f347f",
   "metadata": {},
   "source": [
    "The next statement will execute a query and retrieve the entire result set."
   ]
  },
  {
   "cell_type": "code",
   "execution_count": null,
   "id": "84e0b425-bff7-4c6f-92ee-17fd709cf776",
   "metadata": {},
   "outputs": [],
   "source": [
    "cur.execute(\"SELECT * FROM tpch.tiny.customer\")\n",
    "rows = cur.fetchall()"
   ]
  },
  {
   "cell_type": "markdown",
   "id": "8a3d2d9e-b74a-4d6e-9246-e5a1bd6b0211",
   "metadata": {},
   "source": [
    "#### Column Descriptions\n",
    "Use the description function to get details of the columns that are being returned by the answer set."
   ]
  },
  {
   "cell_type": "code",
   "execution_count": null,
   "id": "9504526e-f754-4649-927c-d9c4a561300e",
   "metadata": {},
   "outputs": [],
   "source": [
    "cur.description"
   ]
  },
  {
   "cell_type": "markdown",
   "id": "5c172aca-b451-482d-ac96-f73b772b55e7",
   "metadata": {},
   "source": [
    "#### View Contents of the First Row"
   ]
  },
  {
   "cell_type": "code",
   "execution_count": null,
   "id": "027cb903-9aa9-49f0-a8b4-3d024c036789",
   "metadata": {},
   "outputs": [],
   "source": [
    "rows[0]"
   ]
  },
  {
   "cell_type": "markdown",
   "id": "13ed0b4d-f702-432e-bb61-44d7c7345c97",
   "metadata": {},
   "source": [
    "#### Iterate Through the Answer Set and Display the Results"
   ]
  },
  {
   "cell_type": "code",
   "execution_count": null,
   "id": "e69123ca-c007-4667-9199-c3ba73eb2824",
   "metadata": {},
   "outputs": [],
   "source": [
    "header = \"\"\n",
    "for column in cur.description:\n",
    "    if (header == \"\"):\n",
    "        header = '{!s:<15s}'.format(column[0])\n",
    "    else:\n",
    "        header = '{0} {1!s:<15s}'.format(header,column[0])\n",
    "print(header)\n",
    "\n",
    "count = 0\n",
    "for row in rows:\n",
    "    count += 1\n",
    "    line = \"\"\n",
    "    for column in row:\n",
    "        if (line == \"\"):\n",
    "            line = '{!s:<15s}'.format(column)\n",
    "        else:\n",
    "            line = '{0} {1!s:<15.15s}'.format(line,column)\n",
    "    if (count == 10):\n",
    "        break\n",
    "    print(line,end=\"\\n\")\n",
    "        "
   ]
  },
  {
   "cell_type": "markdown",
   "id": "7aa6607c-7ebc-45de-9f15-74bde4480957",
   "metadata": {},
   "source": [
    "#### Credits: IBM 2025, George Baklarz [baklarz@ca.ibm.com]"
   ]
  }
 ],
 "metadata": {
  "kernelspec": {
   "display_name": "Python 3 (ipykernel)",
   "language": "python",
   "name": "python3"
  },
  "language_info": {
   "codemirror_mode": {
    "name": "ipython",
    "version": 3
   },
   "file_extension": ".py",
   "mimetype": "text/x-python",
   "name": "python",
   "nbconvert_exporter": "python",
   "pygments_lexer": "ipython3",
   "version": "3.9.21"
  }
 },
 "nbformat": 4,
 "nbformat_minor": 5
}
