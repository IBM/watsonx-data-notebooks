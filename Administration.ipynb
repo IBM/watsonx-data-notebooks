{
 "cells": [
  {
   "cell_type": "markdown",
   "id": "11ddbc6d-37d1-46a4-b765-837a5457248e",
   "metadata": {},
   "source": [
    "![Top <](./images/watsonxdata.png \"watsonxdata\")"
   ]
  },
  {
   "cell_type": "markdown",
   "id": "65f8e269-4de3-4026-a560-d8c94ebbdc40",
   "metadata": {},
   "source": [
    "# Watsonx.data User Administration\n",
    "User account management and access management varies between the different deployment\n",
    "options for watsonx.data. With the standalone watsonx.data software, users can be added within the console’s Access control page. In\n",
    "the Developer Edition, users can be added using a command line tool.\n",
    "\n",
    "The `user-mgmt` command is found in the `/root/ibm-lh-dev/bin` directory. Examples of using the command are found below."
   ]
  },
  {
   "cell_type": "markdown",
   "id": "2ab35e0b-3410-49db-991a-6a498d6daba2",
   "metadata": {},
   "source": [
    "### Add a User\n",
    "The syntax for adding a user is:\n",
    "```bash\n",
    "./user-mgmt add-user <username> [User | Admin] <password>\n",
    "```\n",
    "The values are:\n",
    "* `username` - The name of the user\n",
    "* `[User|Admin]` - The type of user. Note that the type of user is case-sensitive!\n",
    "* `password` - The password for the user.\n",
    "\n",
    "The following command will add the user `watsonx` with a password of `watsonx.data`. This will be a standard user with no privileges."
   ]
  },
  {
   "cell_type": "code",
   "execution_count": null,
   "id": "370ca9d1-cb3b-4b26-a640-8321c9e1736c",
   "metadata": {},
   "outputs": [],
   "source": [
    "path=\"/root/ibm-lh-dev/bin\"\n",
    "%system {path}/user-mgmt add-user watsonx User watsonx.data"
   ]
  },
  {
   "cell_type": "markdown",
   "id": "df5c8c94-bd70-4c5c-a7b9-b3db5241cab7",
   "metadata": {},
   "source": [
    "### Change a User's Password\n",
    "The syntax for changing a password is:\n",
    "```bash\n",
    "./user-mgmt change-password <username>\n",
    "```\n",
    "\n",
    "This command will require that the user enter the new password. The way to simulate the enter command is to use the Linux `yes` function which repeats a value multiple times.\n",
    "\n",
    "The following command will change the password of `watsonx` to `hellowatson`."
   ]
  },
  {
   "cell_type": "code",
   "execution_count": null,
   "id": "3d6fea4c-1dc3-4ab6-851f-79c67ccc19fd",
   "metadata": {},
   "outputs": [],
   "source": [
    "%system yes hellowatson | {path}/user-mgmt change-password watsonx"
   ]
  },
  {
   "cell_type": "markdown",
   "id": "27a34536-6e61-411c-9bbc-84f57a82f9d3",
   "metadata": {},
   "source": [
    "### Validate a User's Password\n",
    "You can validate a password by using the following command:\n",
    "```bash\n",
    "./user-mgmt test-user-cred <username>\n",
    "```\n",
    "\n",
    "The `username` is the name of the user that you want to change the password for. This command will require that the user enter the existing password to check it. The way to simulate the enter command is to use the Linux `yes` function which repeats a value multiple times.\n",
    "\n",
    "The following command will check that we have changed the password of `watsonx` to `hellowatson`."
   ]
  },
  {
   "cell_type": "code",
   "execution_count": null,
   "id": "3c9bbe0b-1658-4b9f-ac6f-0020843f2776",
   "metadata": {},
   "outputs": [],
   "source": [
    "%system yes hellowatson | {path}/user-mgmt test-user-cred watsonx"
   ]
  },
  {
   "cell_type": "markdown",
   "id": "f9514e1c-b409-4cc4-9e37-eb602f75705e",
   "metadata": {},
   "source": [
    "### Delete a User\n",
    "To delete a user, use the following command:You can validate a password by using the following command:\n",
    "```bash\n",
    "./user-mgmt delete-user <username>\n",
    "```\n",
    "\n",
    "The error messages on group ownership can be safely ignored.\n",
    "\n",
    "The following command will remove our watsonx user."
   ]
  },
  {
   "cell_type": "code",
   "execution_count": null,
   "id": "3b86831b-e83c-43c0-8282-ee289500d617",
   "metadata": {},
   "outputs": [],
   "source": [
    "%system {path}//user-mgmt delete-user watsonx"
   ]
  },
  {
   "cell_type": "markdown",
   "id": "1d1d6baf-1c96-49b0-bff4-8fb222689142",
   "metadata": {},
   "source": [
    "#### Credits: IBM 2024, George Baklarz [baklarz@ca.ibm.com]"
   ]
  }
 ],
 "metadata": {
  "kernelspec": {
   "display_name": "Python 3 (ipykernel)",
   "language": "python",
   "name": "python3"
  },
  "language_info": {
   "codemirror_mode": {
    "name": "ipython",
    "version": 3
   },
   "file_extension": ".py",
   "mimetype": "text/x-python",
   "name": "python",
   "nbconvert_exporter": "python",
   "pygments_lexer": "ipython3",
   "version": "3.9.18"
  }
 },
 "nbformat": 4,
 "nbformat_minor": 5
}
