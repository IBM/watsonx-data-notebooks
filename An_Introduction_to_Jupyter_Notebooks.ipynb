{
 "cells": [
  {
   "cell_type": "markdown",
   "metadata": {},
   "source": [
    "![Top <](./images/watsonxdata.png \"watsonxdata\")"
   ]
  },
  {
   "cell_type": "markdown",
   "metadata": {},
   "source": [
    "# An Introduction to Jupyter Notebooks\n",
    "You are now officially using a Jupyter notebook! This tutorial will show you some of the basics of using a notebook, including how to create the cells, run code, and save files for future use.\n",
    "\n",
    "Jupyter notebooks are based on IPython which started in development in the 2006/7 timeframe. The existing Python interpreter was limited in functionality and work was started to create a richer development environment. By 2011 the development efforts resulted in IPython being released (http://blog.fperez.org/2012/01/ipython-notebook-historical.html).\n",
    "\n",
    "Jupyter notebooks were a spinoff (2014) from the original IPython project. IPython continues to be the kernel that Jupyter runs on, but the notebooks are now a project on their own.\n",
    "\n",
    "Jupyter notebooks run in a browser and communicate to the backend IPython server which renders this content. These notebooks are used extensively by data scientists and anyone wanting to document, plot, and execute their code in an interactive environment. The beauty of Jupyter notebooks is that you document what you do as you go along."
   ]
  },
  {
   "cell_type": "markdown",
   "metadata": {},
   "source": [
    "## A Quick Tour\n",
    "\n",
    "This brief introduction will explain the various parts of a Jupyter notebook and how you interact with it. The remainder of the labs in this series will be using Jupyter notebooks so you will have to become familiar with them!\n",
    "\n",
    "You will have started this notebook by selecting it from the table of contents, so for this notebook, you would have selected _An Introduction to Jupyter Notebooks_. \n",
    "\n",
    "Each notebook is independent from the others. This means that there is no sharing of data or variables between each notebook because they are running on different threads. When you shut down a notebook, you are stopping its process or thread in the system."
   ]
  },
  {
   "cell_type": "markdown",
   "metadata": {},
   "source": [
    "## The Tool Bar\n",
    "At the top of this page, you should see the following toolbar.\n",
    "<br>\n",
    "![Jupyter Tool Bar]( ./images/jupyter-toolbar.png \"Jupyter Toolbar\")"
   ]
  },
  {
   "cell_type": "markdown",
   "metadata": {},
   "source": [
    "The tool bar is found at the top of all Jupyter Notebooks. There are three sections that you need to be familiar with.\n",
    "* Title (An Introduction...)\n",
    "* File/Edit/View... Menu\n",
    "* Save/Add Cell/... Icons\n"
   ]
  },
  {
   "cell_type": "markdown",
   "metadata": {},
   "source": [
    "### Title\n",
    "The top of the notebook has the title of the contents. The name of the notebook can be changed by clicking on the title. This will open a dialog which gives you the option of changing the name of the notebook.\n",
    "<br>\n",
    "![Change Title]( ./images/change-title.png \"Change the Title\")\n",
    "<br>\n",
    "Note that this will create a new copy of the notebook with this name. One important behavior of Jupyter notebooks is that notebooks \"autosave\" the contents every few minutes (you know how much we hate losing work in the event of a crash). Changing the name of the title will make sure any changes get saved under the new name. However, changes will probably have been saved to the old name up to this point because of autosave. For that reason, it is better to make a new copy of the notebook before starting to edit it."
   ]
  },
  {
   "cell_type": "markdown",
   "metadata": {},
   "source": [
    "### File/Edit/View Menu\n",
    "The menu bar contains options to `File`, `Edit`, `View`, and perform other administrative actions within the Jupyter notebook. The `File` option gives you options to save the file as a checkpoint (a version that you can revert to), make a copy of the notebook, rename it, or download it. Of particular interest is the `Copy` command. This will make a copy of the existing notebook and start that up in a separate tab in the browser. You can then view and edit this copy rather than changing the original. \n",
    "\n",
    "The seven additional menu items are:\n",
    "* **Edit** - These menu items are used for editing the cells. The icons below the menus are equivalent to most of these menus\n",
    "* **View** - View will turn on Header information, Line numbers, Tool bars and additional Cell information\n",
    "* **Run** - Run code inside the Jupyter notebook\n",
    "* **Kernel** - The kernel that is running the current notebook can be restarted or stopped if there appears to be a problem with it\n",
    "* **Settings** - Settings for the notebook \n",
    "* **Help** - If you need help, check out this menu\n",
    "\n",
    "Some important menu items that you may want to use:\n",
    "- **View/Show Line Numbers** should be turned on if you have a substantial amount of code. This makes it easier to find errors when Python generates an error message with a line number. Note that this only applies to code cells.\n",
    "- **Edit/Clear Outputs of all Cells** will get rid of any output that your notebook has produced so that you can start over again.\n",
    "- **Cell/Run All Cells** is useful if you are lazy or just want to test your entire notebook at once!\n",
    "- **Kernel/Restart & Clear Output** should be used if the notebook appears to hang and you want to start from scratch again."
   ]
  },
  {
   "cell_type": "markdown",
   "metadata": {},
   "source": [
    "### Cell Edit\n",
    "There are icons on the far right of every cell that provide editting controls.\n",
    "<br>\n",
    "![Change Title]( ./images/line-edit.png \"Edit Cell\")\n",
    "<br>\n",
    "The controls provide the following functions:\n",
    "* Duplicate current cell\n",
    "* Move up a cell\n",
    "* Move down a cell\n",
    "* Insert cell below\n",
    "* Insert cell above\n",
    "* Delete current cell"
   ]
  },
  {
   "cell_type": "markdown",
   "metadata": {},
   "source": [
    "### Cell Contents\n",
    "\n",
    "A Jupyter notebook contains multiple \"cells\" which can contain one of three different types of objects:\n",
    "- **Code** - A cell that contains code that will run (usually Python)\n",
    "- **Markdown** - A cell that contains text and formatting using a language called Markdown\n",
    "- **Raw NBConvert** - A specialized cell that is rendered (displayed) using an extension, like mathematical formulas\n",
    "\n",
    "We are going to keep it simple and only look at the two most common types of cells: code and markdown. The first example below is a code cell."
   ]
  },
  {
   "cell_type": "code",
   "execution_count": null,
   "metadata": {},
   "outputs": [],
   "source": [
    "print('Hello World')"
   ]
  },
  {
   "cell_type": "markdown",
   "metadata": {},
   "source": [
    "You can tell that this is a code cell because of the **\"`In [ ]:`\"** beside the cell and probably because it has some code in the cell! To \"execute\" the contents of the cell, you must click on the cell (place focus on the cell) and the either hit the run button icon **`[>Run]`** or Shift-Return on your keyboard. You can tell when the focus is on the code cell because it will be highlighted with a thin blue box. Cells that contain text will also be highlighted when you select them. \n",
    "\n",
    "**Action:** Try executing the code in the cell above.\n",
    "\n",
    "If you were successful, it should have printed \"Hello World\" below the cell. Any output, including errors, from a cell is placed immediately below the cell for you to view. If the code is running for an extended period, the notebook will display **`[*]`** until the statement completes.\n",
    "\n",
    "The contents of the code cell can contain anything that the Jupyter/IPython interpreter can execute. Usually this is Python code, magic extensions, or even Scala, Java, etc... if the proper extensions have been added to the notebook."
   ]
  },
  {
   "cell_type": "markdown",
   "metadata": {},
   "source": [
    "### Cell Icons"
   ]
  },
  {
   "cell_type": "markdown",
   "metadata": {},
   "source": [
    "The icons below the menu bar are used to edit the cells within the notebook. \n",
    "<br>\n",
    "![Jupyter Tool Bar]( ./images/icons.png \"Jupyter Toolbar\")\n",
    "<br>"
   ]
  },
  {
   "cell_type": "markdown",
   "metadata": {},
   "source": [
    "The icons from left to right are:\n",
    "* **Save** - save the current notebook. Note: This is not a checkpoint save so you are saving a new copy.\n",
    "* **[+]** - Add a new cell below the current cell\n",
    "* **Cut** - Delete the current cell, but a copy is kept in the event you want to paste it somewhere else in the notebook\n",
    "* **Copy** - Copy the current cell\n",
    "* **Paste** - Paste a cell below the current cell\n",
    "* **[>]** - Execute the current code in the cell, or render the markdown content\n",
    "* **Stop** - Stop any execution that is currently taking place\n",
    "* **Restart** - Restart the kernel (to clear out all previous variables, etc.)\n",
    "* **[>>]** - Restart the kernel and run all of the commands in the notebook\n",
    "* **Cell Type** - Change the type of cell\n",
    "\n",
    "When you create a new cell, it will default to containing code, so if you want it to contain Markdown, you will need to select `Markdown` from the cell type list. The cut/copy/paste are like any other program with one exception. You can't use Ctrl-C and Ctrl-V to cut and paste cells. These shortcuts can be used for text, but not for an entire cell. Jupyter notebooks will issue a warning if you try to use these to manipulate cells. In addition, if you copy a cell in one notebook, it will not paste into a different notebook! You need to select the contents of the cell and then paste into the cell in the other notebook. "
   ]
  },
  {
   "cell_type": "markdown",
   "metadata": {},
   "source": [
    "## Summary\n",
    "In summary, you've learned how to start, create, update, and edit Jupyter notebooks. Jupyter notebooks are used extensively by the data science community, but it is finding its way into many other areas as well. If you are interested in what other applications use Jupyter notebooks, look at the list maintained on this web site: https://github.com/jupyter/jupyter/wiki/A-gallery-of-interesting-Jupyter-Notebooks."
   ]
  },
  {
   "cell_type": "markdown",
   "metadata": {},
   "source": [
    "#### Credits: IBM 2023, George Baklarz [baklarz@ca.ibm.com]"
   ]
  }
 ],
 "metadata": {
  "kernelspec": {
   "display_name": "Python 3",
   "language": "python",
   "name": "python3"
  },
  "language_info": {
   "codemirror_mode": {
    "name": "ipython",
    "version": 3
   },
   "file_extension": ".py",
   "mimetype": "text/x-python",
   "name": "python",
   "nbconvert_exporter": "python",
   "pygments_lexer": "ipython3",
   "version": "3.6.8"
  }
 },
 "nbformat": 4,
 "nbformat_minor": 4
}
