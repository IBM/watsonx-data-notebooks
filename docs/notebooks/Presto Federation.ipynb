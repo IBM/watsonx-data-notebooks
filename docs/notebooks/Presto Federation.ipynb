{
 "cells": [
  {
   "cell_type": "markdown",
   "id": "babf0d52-9514-49e6-b7f8-bc17a2fc1947",
   "metadata": {},
   "source": [
    "![Top <](./images/watsonxdata.png \"watsonxdata\")"
   ]
  },
  {
   "cell_type": "markdown",
   "id": "2762daf0-a443-459a-b87c-d069b0f32cbf",
   "metadata": {},
   "source": [
    "# Federation with watsonx.data\n",
    "Watsonx.data can federate data from other data sources, there are a few out of box connectors and one could create additional connectors using the SDK if need be (This does involve some programming and testing effort) and not a trivial exercise. We will use the existing PostgreSQL instance, add some data, and test the federation capabilities. \n",
    "\n",
    "### PostgreSQL Properties\n",
    "To set up federation, we need to get the credentials for the PostgreSQL database. Use the following command to get the database password."
   ]
  },
  {
   "cell_type": "code",
   "execution_count": null,
   "id": "c7f2056b-cd6a-4e07-961b-8a3c72a9ee7b",
   "metadata": {},
   "outputs": [],
   "source": [
    "postgres = !cat /certs/passwords | grep Postgres\n",
    "credentials = postgres[0].split()\n",
    "print(f\"Userid   : {credentials[1]}\")\n",
    "print(f\"Password : {credentials[2]}\")"
   ]
  },
  {
   "cell_type": "markdown",
   "id": "342df2a3-d83e-465f-bba0-6835544a8ed3",
   "metadata": {},
   "source": [
    "You will need to use the watsonx.data UI for the next step. Open your browser and connect to the watsonx.data UI. Navigate to the Infrastructure manager by clicking on the icon below the Home symbol.\n",
    "\n",
    "![Browser](./images/watsonx-icon-infra.png)\n",
    "  \n",
    "You should see a panel like the following.\n",
    "\n",
    "![Browser](./images/watsonx-infrastructure-1.png)\n",
    " \n",
    "On the top right-hand corner, select Add Component.\n",
    "\n",
    "![Browser](./images/watsonx-add-component.png)\n",
    " \n",
    "Scroll to the list of Data Sources and select Postgres.\n",
    "\n",
    "![Browser](./images/watsonx-select-postgres.png)\n",
    "\n",
    "Press Next.\n",
    "\n",
    "![Browser](./images/watsonx-add-postgres.png)\n",
    "\n",
    "Since we will associate the database with a catalog, select the \"Associate catalog\" checkbox.\n",
    "\n",
    "![Browser](./images/watsonx-add-postgres-catalog.png)\n",
    "      \n",
    "Enter the following values:\n",
    "\n",
    "   * Display name – <code style=\"color:blue;font-size:medium;\">gosales</code>\n",
    "   * Database name – <code style=\"color:blue;font-size:medium;\">gosales</code>\n",
    "   * Hostname –<code style=\"color:blue;font-size:medium;\">ibm-lh-postgres</code>\n",
    "   * Port – <code style=\"color:blue;font-size:medium;\">5432</code>\n",
    "   * Username – <code style=\"color:blue;font-size:medium;\">admin</code>\n",
    "   * Password – The value that was extracted in the earlier step\n",
    "   * Catalog Name – <code style=\"color:blue;font-size:medium;\">pg_gosales</code>\n",
    "   \n",
    "Your screen should look like the one below. You can test the connection at this point. When satisfied that the information is correct, hit the Create button.\n",
    "\n",
    "![Browser](./images/watsonx-adddb-filled.png)\n",
    "\n",
    "The infrastructure screen should now show the Postgres database.\n",
    "\n",
    "![Browser](./images/watsonx-infrastructure-2.png)\n",
    " \n",
    "What we are currently missing the connection between the Presto engine and the data in the gosales database. We must connect the gosales database to the Presto engine. Use your mouse to hover over the pg_gosales icon until you see the Associate connection icon:\n",
    "\n",
    "![Browser](./images/watsonx-associate-icon.png)\n",
    " \n",
    "Click on the association icon. You should see the following confirmation dialog:\n",
    "\n",
    "![Browser](./images/watsonx-associate-engine.png)\n",
    "\n",
    "Select the <code style=\"color:blue;font-size:medium;\">presto-01</code> engine and press **Save and restart engine**.\n",
    " \n",
    "Press the Associate button and the screen will update to show the connection.\n",
    "\n",
    "![Browser](./images/watsonx-infrastructure-3.png)\n",
    " "
   ]
  },
  {
   "cell_type": "markdown",
   "id": "d1c81e5c-f5c6-499f-91d2-65c666a8fac1",
   "metadata": {},
   "source": [
    "## Connect to watsonx.data and Presto\n",
    "This notebook will use magic commands (`%sql`) to issue commands against the watsonx.data Presto database. The next command will load the presto magic command into this notebook."
   ]
  },
  {
   "cell_type": "code",
   "execution_count": null,
   "id": "bcffb574-670a-4778-99a9-f99ad8463558",
   "metadata": {},
   "outputs": [],
   "source": [
    "%run presto.ipynb"
   ]
  },
  {
   "cell_type": "markdown",
   "id": "c4a7cf9c-0527-4127-bd31-bc887cc79fb9",
   "metadata": {},
   "source": [
    "Next we connect to the database. **Note:** The connection may fail if the Presto engine has not completely started. If the connection does fail, just re-run the SQL statement after a minute."
   ]
  },
  {
   "cell_type": "code",
   "execution_count": null,
   "id": "503c3bda-5131-4c17-9bdc-015cd85cda9d",
   "metadata": {},
   "outputs": [],
   "source": [
    "%%sql\n",
    "   connect\n",
    "   userid=ibmlhadmin\n",
    "   password=password\n",
    "   hostname=watsonxdata\n",
    "   port=8443\n",
    "   catalog=tpch\n",
    "   schema=tiny\n",
    "   certfile=/certs/lh-ssl-ts.crt"
   ]
  },
  {
   "cell_type": "markdown",
   "id": "744dd414-36d0-4b9e-9194-90a931525cbf",
   "metadata": {},
   "source": [
    "### Presto Federation\n",
    "\n",
    "First check to make sure that the Presto engine has finished starting. The following command checks what queries are running in the database. If it fails you know that the presto engine is not yet up and running. "
   ]
  },
  {
   "cell_type": "code",
   "execution_count": null,
   "id": "b7da0bb6-424a-4cb1-938b-56a19b6b3bbb",
   "metadata": {},
   "outputs": [],
   "source": [
    "%sql select * from \"system\".runtime.queries limit 5"
   ]
  },
  {
   "cell_type": "markdown",
   "id": "d46f1d6b-7159-4e19-b5d9-eb21beed9912",
   "metadata": {},
   "source": [
    "Connect to the `pg_gosales` catalog. Note that we use a schema of `none` since we don't know which one we want to connect to."
   ]
  },
  {
   "cell_type": "code",
   "execution_count": null,
   "id": "302c9cb6-eaae-4b06-9bf0-91c8e60c51ec",
   "metadata": {},
   "outputs": [],
   "source": [
    "%sql use pg_gosales.none"
   ]
  },
  {
   "cell_type": "markdown",
   "id": "e0184b42-53b9-4e9f-b55f-f67b444de260",
   "metadata": {},
   "source": [
    "Show the current schemas. "
   ]
  },
  {
   "cell_type": "code",
   "execution_count": null,
   "id": "8eda84b7-33fe-455d-9d16-ba518f3909a4",
   "metadata": {},
   "outputs": [],
   "source": [
    "%sql show schemas"
   ]
  },
  {
   "cell_type": "markdown",
   "id": "62229253-94ad-4b69-84fc-1d9e687f6259",
   "metadata": {},
   "source": [
    "Switch to the `gosalesdw` schema."
   ]
  },
  {
   "cell_type": "code",
   "execution_count": null,
   "id": "6f8f8fb5-a85f-4922-9032-61b9267c8e62",
   "metadata": {},
   "outputs": [],
   "source": [
    "%sql use gosalesdw"
   ]
  },
  {
   "cell_type": "markdown",
   "id": "99f2f995-af74-49e9-8eb7-68776a68df53",
   "metadata": {},
   "source": [
    "Show the tables in the `gosalesdw` schema (there are a lot!)."
   ]
  },
  {
   "cell_type": "code",
   "execution_count": null,
   "id": "1e43f059-9ba6-4b2f-89d8-c45ed7ba7f37",
   "metadata": {},
   "outputs": [],
   "source": [
    "%sql show tables"
   ]
  },
  {
   "cell_type": "markdown",
   "id": "42f8f891-75a4-4563-b50c-2ab4e6b6aab8",
   "metadata": {},
   "source": [
    "Describe the columns in the MRK_RTL_SURVEY_FACT table."
   ]
  },
  {
   "cell_type": "code",
   "execution_count": null,
   "id": "62a87f48-44ca-4b82-b7df-49af1a517ca1",
   "metadata": {},
   "outputs": [],
   "source": [
    "%sql show columns in mrk_rtl_survey_fact"
   ]
  },
  {
   "cell_type": "markdown",
   "id": "58c90d1b-9522-4c70-bb40-d9450e5e8cc2",
   "metadata": {},
   "source": [
    "Show the columns in the TPCH customer table."
   ]
  },
  {
   "cell_type": "code",
   "execution_count": null,
   "id": "80ad90f5-d203-4b24-a3db-ff711b159f84",
   "metadata": {},
   "outputs": [],
   "source": [
    "%sql describe tpch.tiny.customer"
   ]
  },
  {
   "cell_type": "markdown",
   "id": "bd7de74e-afa5-4312-b5c6-1bcf74cd7079",
   "metadata": {},
   "source": [
    "Alternate way of describing the columns in the customer table."
   ]
  },
  {
   "cell_type": "code",
   "execution_count": null,
   "id": "7cb8b02b-b4b5-42ac-a384-77257f9a86ea",
   "metadata": {},
   "outputs": [],
   "source": [
    "%%sql\n",
    "prepare tiny from select * from tpch.tiny.customer;\n",
    "describe output tiny;"
   ]
  },
  {
   "cell_type": "markdown",
   "id": "356f09cd-c1b8-4afd-ac9c-f73aa155f6fa",
   "metadata": {},
   "source": [
    "Retrieve the first 10 rows from the table."
   ]
  },
  {
   "cell_type": "code",
   "execution_count": null,
   "id": "08582fb2-5fe3-4cc2-bade-86f00ae024ff",
   "metadata": {},
   "outputs": [],
   "source": [
    "%sql select * from tpch.tiny.customer limit 10"
   ]
  },
  {
   "cell_type": "markdown",
   "id": "a79cd1db-6152-47b2-bee3-aa7777cae7c3",
   "metadata": {},
   "source": [
    "Join with data between these two tables (Sample TPCH+PostgreSQL)"
   ]
  },
  {
   "cell_type": "code",
   "execution_count": null,
   "id": "474554ea-0b78-4868-9e27-6b4f889d328e",
   "metadata": {},
   "outputs": [],
   "source": [
    "%%sql \n",
    "select t.c_name\n",
    "from   mrk_rtl_survey_fact m, \n",
    "       tpch.tiny.customer t\n",
    "where  m.RETAILER_SURVEY_KEY = t.c_custkey\n",
    "limit 10"
   ]
  },
  {
   "cell_type": "markdown",
   "id": "5b720449-bd9e-4931-abdf-ad9077e1dbae",
   "metadata": {},
   "source": [
    "#### Credits: IBM 2025, George Baklarz [baklarz@ca.ibm.com]"
   ]
  }
 ],
 "metadata": {
  "kernelspec": {
   "display_name": "Python 3 (ipykernel)",
   "language": "python",
   "name": "python3"
  },
  "language_info": {
   "codemirror_mode": {
    "name": "ipython",
    "version": 3
   },
   "file_extension": ".py",
   "mimetype": "text/x-python",
   "name": "python",
   "nbconvert_exporter": "python",
   "pygments_lexer": "ipython3",
   "version": "3.9.21"
  }
 },
 "nbformat": 4,
 "nbformat_minor": 5
}
