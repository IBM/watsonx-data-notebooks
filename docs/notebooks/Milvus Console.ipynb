{
 "cells": [
  {
   "cell_type": "markdown",
   "id": "03add16d-8c31-4603-bba1-6a1ab8703bf9",
   "metadata": {},
   "source": [
    "![Top <](./images/watsonxdata.png \"watsonxdata\")"
   ]
  },
  {
   "cell_type": "markdown",
   "id": "acbc29d5-76b4-4c9c-abdd-eaf8b4c00ebf",
   "metadata": {},
   "source": [
    "# Milvus Console\n",
    "\n",
    "The Milvus vector database does not ship with a console in watsonx.data. If you want to use the supported console you will need to use this notebook to start up the Attu console. Details on the Milvus console (Attu) can be found at the [Github](https://github.com/zilliztech/attu) site<sup style=\"color: blue;\">1</code></sup>.\n",
    "\n",
    "<p style=\"font-size: small;line-height: 0.4;\"><sup>1. Thanks to Zineddine Gherari and Julien Pradier for help on getting the settings to work."
   ]
  },
  {
   "cell_type": "markdown",
   "id": "84009c01-1b26-456f-a6ef-158fc21092bd",
   "metadata": {},
   "source": [
    "## Credentials and Server Addresses\n",
    "The Attu console requires the name or address of the server that will be running the console, along with the Milvus database. This value will be different for each user of this system. Gather the following information from your server reservation:\n",
    "\n",
    "* Watsonx Server URL - This will be the URL at the beginning of all service addresses. For example: `useast.services.cloud.techzone.ibm.com`.\n",
    "* Milvus External Port - The port number that the Milvus database is exposed to the outside world\n",
    "* Attu External Port 1 - Open port #1 in the reservation. If you are using Open port #1, choose #2 instead.\n",
    "* Attu Internal Port - Use 10000 for open port #1 or 10001 for open port #2\n",
    "\n",
    "Fill in the values in the next cell and execute it."
   ]
  },
  {
   "cell_type": "code",
   "execution_count": null,
   "id": "1887d67a-8ff5-401c-9a60-8f534c6ef7f2",
   "metadata": {},
   "outputs": [],
   "source": [
    "watsonx_server_url   = \"useast.services.cloud.techzone.ibm.com\"\n",
    "milvus_external_port = \"37924\"\n",
    "attu_external_port   = \"21042\"\n",
    "attu_internal_port   = \"10000\"\n",
    "attu_URL             = f\"http://{watsonx_server_url}:{attu_external_port}\"\n",
    "milvus_URL           = f\"http://{watsonx_server_url}:{milvus_external_port}\""
   ]
  },
  {
   "cell_type": "markdown",
   "id": "0eee45d3-d16b-4ffc-904d-e1aa60f4669a",
   "metadata": {},
   "source": [
    "### Start the Attu Service\n",
    "The next command will remove any existing Attu console and restart it with the settings you have provided above."
   ]
  },
  {
   "cell_type": "code",
   "execution_count": null,
   "id": "f2e16cd6-0fea-431c-999f-66f27ce5f47e",
   "metadata": {},
   "outputs": [],
   "source": [
    "%system docker stop attu\n",
    "%system docker rm attu\n",
    "%system docker run --name attu -d -p {attu_internal_port}:3000 -v /certs:/app/certs -e HOST_URL={attu_URL} -e MILVUS_URL={milvus_URL} -e ROOT_CERT_PATH=/app/certs/presto.crt zilliz/attu:latest"
   ]
  },
  {
   "cell_type": "markdown",
   "id": "0b2a35d1-90e3-4d32-9f8d-0e932a66e3bd",
   "metadata": {},
   "source": [
    "Check that the service is running."
   ]
  },
  {
   "cell_type": "code",
   "execution_count": null,
   "id": "b5fec29d-a16f-4ca5-adb4-52b07f5d53c7",
   "metadata": {},
   "outputs": [],
   "source": [
    "%system docker ps | grep attu"
   ]
  },
  {
   "cell_type": "markdown",
   "id": "2b48edc3-a6a5-478a-b62e-85765c1eb2a4",
   "metadata": {},
   "source": [
    "### Connect to the Console\n",
    "The next command will print the URL for the Attu console. Click on the link that is generated."
   ]
  },
  {
   "cell_type": "code",
   "execution_count": null,
   "id": "ebd4178c-1267-4b15-9716-1e98f34a3ffc",
   "metadata": {},
   "outputs": [],
   "source": [
    "attu_URL"
   ]
  },
  {
   "cell_type": "markdown",
   "id": "f7a101d7-e52d-443f-9ddd-a3abebadd08b",
   "metadata": {},
   "source": [
    "You must fill in the following fields. The URL will already be set. Select authentication `on` and enter `ibmlhadmin` as the userid and `password` as the password.\n",
    "\n",
    "![Attu Login](images/attu-logon.png)"
   ]
  },
  {
   "cell_type": "markdown",
   "id": "973aacbd-645d-45af-be98-0bf59dd40e1c",
   "metadata": {},
   "source": [
    "Run the following code to get the values for the fields"
   ]
  },
  {
   "cell_type": "code",
   "execution_count": null,
   "id": "679633b0-2e55-4a70-8c60-cd53ba7fb3c0",
   "metadata": {},
   "outputs": [],
   "source": [
    "print(\"Login credentials for Attu Console\")\n",
    "print(\"----------------------------------\")\n",
    "print(f\"Milvus Address : {milvus_URL}\")\n",
    "print(f\"Milvus Database: default\")\n",
    "print(f\"Authentication : on\")\n",
    "print(f\"Token          : empty\")\n",
    "print(f\"Username       : ibmlhadmin\")\n",
    "print(f\"Password       : password\")"
   ]
  },
  {
   "cell_type": "markdown",
   "id": "cce825f9-347c-4f63-a131-8b5e52e1458e",
   "metadata": {},
   "source": [
    "Once you authenticate you will see the Attu console. Note that you may get an authentication error but this doesn't prevent you from using the console.\n",
    "\n",
    "![Attu Login](images/attu-console.png)"
   ]
  },
  {
   "cell_type": "markdown",
   "id": "d2792b3d-37f6-4725-9110-839cd5d4f7fb",
   "metadata": {},
   "source": [
    "## Stop the Attu Console\n",
    "Use the following command to stop the console."
   ]
  },
  {
   "cell_type": "code",
   "execution_count": null,
   "id": "36208664-eb54-49ba-ac9a-3828d577753c",
   "metadata": {},
   "outputs": [],
   "source": [
    "%system docker stop attu\n",
    "%system docker rm attu"
   ]
  },
  {
   "cell_type": "markdown",
   "id": "9b26ac2c-c7e4-4f4e-8025-89fe9696810f",
   "metadata": {},
   "source": [
    "#### Credits: IBM 2024, George Baklarz [baklarz@ca.ibm.com], Zineddine Gherari, Julien Pradier"
   ]
  }
 ],
 "metadata": {
  "kernelspec": {
   "display_name": "Python 3 (ipykernel)",
   "language": "python",
   "name": "python3"
  },
  "language_info": {
   "codemirror_mode": {
    "name": "ipython",
    "version": 3
   },
   "file_extension": ".py",
   "mimetype": "text/x-python",
   "name": "python",
   "nbconvert_exporter": "python",
   "pygments_lexer": "ipython3",
   "version": "3.9.18"
  },
  "vscode": {
   "interpreter": {
    "hash": "aee8b7b246df8f9039afb4144a1f6fd8d2ca17a180786b69acc140d282b71a49"
   }
  }
 },
 "nbformat": 4,
 "nbformat_minor": 5
}
