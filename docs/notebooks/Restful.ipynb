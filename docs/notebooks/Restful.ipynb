{
 "cells": [
  {
   "cell_type": "markdown",
   "id": "b09a288b-7761-44dd-9d4b-4aa9539664ee",
   "metadata": {},
   "source": [
    "![Top <](./images/watsonxdata.png \"watsonxdata\")"
   ]
  },
  {
   "cell_type": "markdown",
   "id": "183874ae-2185-4297-8b9f-216b45fb57a2",
   "metadata": {},
   "source": [
    "# Accessing watsonx.data with RESTful Calls\n",
    "Representational state transfer (REST) is a software architectural style that defines a set of constraints to be used for creating Web services. Web services that conform to the REST architectural style, called RESTful Web services, provide interoperability between computer systems on the internet. RESTful Web services allow the requesting systems to access and manipulate textual representations of Web resources by using a uniform and predefined set of stateless operations.\n",
    "\n",
    "\n",
    "Apache Kafka® <sup style=\"color: blue;\">1,2</code></sup> is an event streaming platform. Kafka combines three capabilities so you can implement your use cases for event streaming.\n",
    "\n",
    "* To publish (write) and subscribe to (read) streams of events, including continuous import/export of your data from other systems.\n",
    "* To store streams of events durably and reliably for as long as you want.\n",
    "* To process streams of events as they occur or retrospectively.\n",
    "\n",
    "#### Producers and Consumers\n",
    "Producers are those client applications that publish (write) events to Kafka, and consumers are those that subscribe to (read and process) these events. In Kafka, producers and consumers are fully decoupled and agnostic of each other, which is a key design element to achieve the high scalability that Kafka is known for. For example, producers never need to wait for consumers. Kafka provides various guarantees such as the ability to process events exactly-once.\n",
    "\n",
    "#### Events\n",
    "Events are organized and durably stored in topics. Very simplified, a topic is similar to a folder in a filesystem, and the events are the files in that folder. An example topic name could be \"payments\". Topics in Kafka are always multi-producer and multi-subscriber: a topic can have zero, one, or many producers that write events to it, as well as zero, one, or many consumers that subscribe to these events. Events in a topic can be read as often as needed—unlike traditional messaging systems, events are not deleted after consumption. Instead, you define for how long Kafka should retain your events through a per-topic configuration setting, after which old events will be discarded. Kafka's performance is effectively constant with respect to data size, so storing data for a long time is perfectly fine.\n",
    "\n",
    "<p style=\"font-size: small;line-height: 0.4;\"><sup>1. Additional details can be found on the <a href=\"https://kafka.apache.org/documentation/#gettingStarted\">Kafka website</a>.</sup></p>\n",
    "<p style=\"font-size: small;line-height: 0.4;\"><sup>2. Thanks to Chunyu Jiang for prototyping the Kafka connector and suggestions on the code.</sup></p>"
   ]
  },
  {
   "cell_type": "code",
   "execution_count": 3,
   "id": "9f856e64-01e7-4d01-ae00-fe4752e9b874",
   "metadata": {},
   "outputs": [],
   "source": [
    "import requests\n",
    "import base64"
   ]
  },
  {
   "cell_type": "code",
   "execution_count": 69,
   "id": "b975679d-d3b3-4eb4-a998-40ef49f937a5",
   "metadata": {},
   "outputs": [],
   "source": [
    "presto_userid     = %system docker exec ibm-lh-presto printenv PRESTO_USER\n",
    "presto_password   = %system docker exec ibm-lh-presto printenv LH_INSTANCE_SECRET"
   ]
  },
  {
   "cell_type": "code",
   "execution_count": 71,
   "id": "1aa3ee2a-9418-4181-926e-9095ed9ef3ed",
   "metadata": {},
   "outputs": [],
   "source": [
    "credentials_bytes = f\"{presto_userid[0]}:{presto_password[0]}\".encode(\"ascii\") \n",
    "credentials       = base64.b64encode(credentials_bytes) \n",
    "host              = \"https://watsonxdata\"\n",
    "port              = 8443\n",
    "api               = \"/v1\"\n",
    "certfile          = \"/certs/lh-ssl-ts.crt\""
   ]
  },
  {
   "cell_type": "code",
   "execution_count": 77,
   "id": "a582d585-eb30-4318-bdc4-5ce4ec53382f",
   "metadata": {},
   "outputs": [
    {
     "name": "stdout",
     "output_type": "stream",
     "text": [
      "prestoadm:b0d61f17346cddea16360861\n"
     ]
    }
   ],
   "source": [
    "print(f\"{presto_userid[0]}:{presto_password[0]}\")"
   ]
  },
  {
   "cell_type": "code",
   "execution_count": 91,
   "id": "c8a99487-e01a-446a-baeb-bcc93b953066",
   "metadata": {},
   "outputs": [],
   "source": [
    "bytes = f\"{presto_userid[0]}:{presto_password[0]}\".encode(\"ascii\")\n",
    "credentials = base64.b64encode(bytes).decode(\"ascii\")"
   ]
  },
  {
   "cell_type": "code",
   "execution_count": 92,
   "id": "f51ec037-d84b-4f58-b308-c68e04ff8e5d",
   "metadata": {},
   "outputs": [
    {
     "data": {
      "text/plain": [
       "'cHJlc3RvYWRtOmIwZDYxZjE3MzQ2Y2RkZWExNjM2MDg2MQ=='"
      ]
     },
     "execution_count": 92,
     "metadata": {},
     "output_type": "execute_result"
    }
   ],
   "source": [
    "credentials"
   ]
  },
  {
   "cell_type": "code",
   "execution_count": 126,
   "id": "cf95682e-3c93-4c4e-9af8-5329265cb281",
   "metadata": {},
   "outputs": [],
   "source": [
    "auth_header = {\n",
    "    \"Content-Type\"  : \"text/javascript\",\n",
    "    \"Authorization\" : f\"Basic {credentials}\",\n",
    "    \"X-Presto-User\" : \"ibmlhadmin\"\n",
    "}"
   ]
  },
  {
   "cell_type": "markdown",
   "id": "805ca5e3-93cf-4ef6-8764-e79dd33f3a4a",
   "metadata": {},
   "source": [
    "### Check the Status of the Presto Engine\n",
    "If the engine is running okay, the reason code should return `OK`."
   ]
  },
  {
   "cell_type": "code",
   "execution_count": 127,
   "id": "72ed8497-1947-4965-be44-103e05ce22fb",
   "metadata": {},
   "outputs": [
    {
     "data": {
      "text/plain": [
       "'OK'"
      ]
     },
     "execution_count": 127,
     "metadata": {},
     "output_type": "execute_result"
    }
   ],
   "source": [
    "service = \"/info\"\n",
    "request = {}\n",
    "r = requests.get(f\"{host}:{port}{api}{service}\", headers=auth_header, json=request, verify=certfile)\n",
    "r.reason"
   ]
  },
  {
   "cell_type": "code",
   "execution_count": 131,
   "id": "f8fc546e-dcdf-497c-ab5e-5a4a6ac3b04d",
   "metadata": {},
   "outputs": [
    {
     "name": "stdout",
     "output_type": "stream",
     "text": [
      "Ok\n"
     ]
    }
   ],
   "source": [
    "service = \"/node\"\n",
    "request = {}\n",
    "r = requests.get(f\"{host}:{port}{api}{service}\", headers=auth_header, json=request, verify=certfile)\n",
    "if (r.ok == True):\n",
    "    print(\"Ok\")"
   ]
  },
  {
   "cell_type": "code",
   "execution_count": 132,
   "id": "fb3ae8a2-d606-424c-96c2-35a83121d813",
   "metadata": {},
   "outputs": [
    {
     "data": {
      "text/plain": [
       "[]"
      ]
     },
     "execution_count": 132,
     "metadata": {},
     "output_type": "execute_result"
    }
   ],
   "source": [
    "r.json()"
   ]
  },
  {
   "cell_type": "code",
   "execution_count": 180,
   "id": "a3676f6b-0824-49e4-bcf9-f5cd81b5ec69",
   "metadata": {},
   "outputs": [
    {
     "name": "stdout",
     "output_type": "stream",
     "text": [
      "Still processing: WAITING_FOR_PREREQUISITES\n",
      "Still processing: QUEUED\n",
      "data is here\n",
      "We are done\n",
      "No data to collect\n"
     ]
    },
    {
     "ename": "KeyError",
     "evalue": "'nextUri'",
     "output_type": "error",
     "traceback": [
      "\u001b[0;31m---------------------------------------------------------------------------\u001b[0m",
      "\u001b[0;31mKeyError\u001b[0m                                  Traceback (most recent call last)",
      "Cell \u001b[0;32mIn[180], line 25\u001b[0m\n\u001b[1;32m     23\u001b[0m \u001b[38;5;28;01mif\u001b[39;00m (results\u001b[38;5;241m.\u001b[39mget(\u001b[38;5;124m'\u001b[39m\u001b[38;5;124mdata\u001b[39m\u001b[38;5;124m'\u001b[39m,\u001b[38;5;28;01mNone\u001b[39;00m) \u001b[38;5;241m==\u001b[39m \u001b[38;5;28;01mNone\u001b[39;00m):\n\u001b[1;32m     24\u001b[0m     \u001b[38;5;28mprint\u001b[39m(\u001b[38;5;124m\"\u001b[39m\u001b[38;5;124mNo data to collect\u001b[39m\u001b[38;5;124m\"\u001b[39m)\n\u001b[0;32m---> 25\u001b[0m URI \u001b[38;5;241m=\u001b[39m \u001b[43mresults\u001b[49m\u001b[43m[\u001b[49m\u001b[38;5;124;43m'\u001b[39;49m\u001b[38;5;124;43mnextUri\u001b[39;49m\u001b[38;5;124;43m'\u001b[39;49m\u001b[43m]\u001b[49m\n\u001b[1;32m     26\u001b[0m \u001b[38;5;28mprint\u001b[39m(\u001b[38;5;124m\"\u001b[39m\u001b[38;5;124mdata is here\u001b[39m\u001b[38;5;124m\"\u001b[39m)        \n\u001b[1;32m     27\u001b[0m \u001b[38;5;28;01mbreak\u001b[39;00m\n",
      "\u001b[0;31mKeyError\u001b[0m: 'nextUri'"
     ]
    }
   ],
   "source": [
    "from time import sleep\n",
    "service = \"/statement\"\n",
    "sql = 'select * from \"tpch\".\"tiny\".\"customer\" limit 10'\n",
    "\n",
    "URI = f\"{host}:{port}{api}{service}\"\n",
    "r = requests.post(URI, headers=auth_header, data=sql, verify=certfile)\n",
    "while r.ok == True: \n",
    "    results = r.json()\n",
    "    stats = results.get('stats',None)\n",
    "    if (stats == None):\n",
    "        if (results.get('columns',None) == None):\n",
    "            print(\"No columns\")\n",
    "            break\n",
    "        if (results.get('data',None) == None):\n",
    "            print(\"No data\")\n",
    "            break\n",
    "        print(\"data is here\")\n",
    "        break\n",
    "    if (stats['state'] == \"FINISHED\"):\n",
    "        print(\"We are done\")\n",
    "        if (results.get('columns',None) == None):\n",
    "            print(\"No columns to collect\")\n",
    "        if (results.get('data',None) == None):\n",
    "            print(\"No data to collect\")\n",
    "        URI = results['nextUri']\n",
    "        print(\"data is here\")        \n",
    "        break\n",
    "    elif (stats['state'] != \"RUNNING\"):\n",
    "        print(f\"Still processing: {stats['state']}\")\n",
    "        URI = results['nextUri']\n",
    "        sleep(1)\n",
    "        r = requests.get(URI, headers=auth_header, verify=certfile)        \n",
    "    elif (stats['state'] == \"ERROR\"):\n",
    "        print(\"Oops error\")\n",
    "        break\n",
    "    else:\n",
    "        if (results.get('columns',None) == None):\n",
    "            print(\"No columns to collect\")\n",
    "        if (results.get('data',None) == None):\n",
    "            print(\"No data to collect\")\n",
    "        URI = results['nextUri']\n",
    "        print(\"data is here\")\n",
    "        sleep(1)\n",
    "        r = requests.get(URI, headers=auth_header, verify=certfile)\n",
    "        \n",
    "print(\"Done\")"
   ]
  },
  {
   "cell_type": "code",
   "execution_count": 200,
   "id": "b8817f59-25b1-4af5-be80-d5d4112bfefb",
   "metadata": {},
   "outputs": [
    {
     "name": "stdout",
     "output_type": "stream",
     "text": [
      "WAITING_FOR_PREREQUISITES\n",
      "QUEUED\n",
      "RUNNING\n",
      "FINISHED\n",
      "Done\n",
      "[[[1, 'Customer#000000001', 'IVhzIApeRb ot,c,E', 15, '25-989-741-2988', 711.56, 'BUILDING', 'to the even, regular platelets. regular, ironic epitaphs nag e'], [2, 'Customer#000000002', 'XSTf4,NCwDVaWNe6tEgvwfmRchLXak', 13, '23-768-687-3665', 121.65, 'AUTOMOBILE', 'l accounts. blithely ironic theodolites integrate boldly: caref'], [3, 'Customer#000000003', 'MG9kdTD2WBHm', 1, '11-719-748-3364', 7498.12, 'AUTOMOBILE', ' deposits eat slyly ironic, even instructions. express foxes detect slyly. blithely even accounts abov'], [4, 'Customer#000000004', 'XxVSJsLAGtn', 4, '14-128-190-5944', 2866.83, 'MACHINERY', ' requests. final, regular ideas sleep final accou'], [5, 'Customer#000000005', 'KvpyuHCplrB84WgAiGV6sYpZq7Tj', 3, '13-750-942-6364', 794.47, 'HOUSEHOLD', 'n accounts will have to unwind. foxes cajole accor'], [6, 'Customer#000000006', 'sKZz0CsnMD7mp4Xd0YrBvx,LREYKUWAh yVn', 20, '30-114-968-4951', 7638.57, 'AUTOMOBILE', 'tions. even deposits boost according to the slyly bold packages. final accounts cajole requests. furious'], [7, 'Customer#000000007', 'TcGe5gaZNgVePxU5kRrvXBfkasDTea', 18, '28-190-982-9759', 9561.95, 'AUTOMOBILE', 'ainst the ironic, express theodolites. express, even pinto beans among the exp'], [8, 'Customer#000000008', 'I0B10bB0AymmC, 0PrRYBCP1yGJ8xcBPmWhl5', 17, '27-147-574-9335', 6819.74, 'BUILDING', 'among the slyly regular theodolites kindle blithely courts. carefully even theodolites haggle slyly along the ide'], [9, 'Customer#000000009', 'xKiAFTjUsCuxfeleNqefumTrjS', 8, '18-338-906-3675', 8324.07, 'FURNITURE', 'r theodolites according to the requests wake thinly excuses: pending requests haggle furiousl'], [10, 'Customer#000000010', '6LrEaV6KR6PLVcgl2ArL Q3rqzLzcT1 v2', 5, '15-741-346-9870', 2753.54, 'HOUSEHOLD', 'es regular deposits haggle. fur']]]\n",
      "[{'name': 'custkey', 'type': 'bigint', 'typeSignature': {'rawType': 'bigint', 'typeArguments': [], 'literalArguments': [], 'arguments': []}}, {'name': 'name', 'type': 'varchar(25)', 'typeSignature': {'rawType': 'varchar', 'typeArguments': [], 'literalArguments': [], 'arguments': [{'kind': 'LONG_LITERAL', 'value': 25}]}}, {'name': 'address', 'type': 'varchar(40)', 'typeSignature': {'rawType': 'varchar', 'typeArguments': [], 'literalArguments': [], 'arguments': [{'kind': 'LONG_LITERAL', 'value': 40}]}}, {'name': 'nationkey', 'type': 'bigint', 'typeSignature': {'rawType': 'bigint', 'typeArguments': [], 'literalArguments': [], 'arguments': []}}, {'name': 'phone', 'type': 'varchar(15)', 'typeSignature': {'rawType': 'varchar', 'typeArguments': [], 'literalArguments': [], 'arguments': [{'kind': 'LONG_LITERAL', 'value': 15}]}}, {'name': 'acctbal', 'type': 'double', 'typeSignature': {'rawType': 'double', 'typeArguments': [], 'literalArguments': [], 'arguments': []}}, {'name': 'mktsegment', 'type': 'varchar(10)', 'typeSignature': {'rawType': 'varchar', 'typeArguments': [], 'literalArguments': [], 'arguments': [{'kind': 'LONG_LITERAL', 'value': 10}]}}, {'name': 'comment', 'type': 'varchar(117)', 'typeSignature': {'rawType': 'varchar', 'typeArguments': [], 'literalArguments': [], 'arguments': [{'kind': 'LONG_LITERAL', 'value': 117}]}}]\n"
     ]
    }
   ],
   "source": [
    "from time import sleep\n",
    "service = \"/statement\"\n",
    "sql = 'select * from tpch.tiny.customer limit 10'\n",
    "\n",
    "URI = f\"{host}:{port}{api}{service}\"\n",
    "r = requests.post(URI, headers=auth_header, data=sql, verify=certfile)\n",
    "data = []\n",
    "while r.ok == True: \n",
    "    results = r.json()\n",
    "    collect = False\n",
    "    stats = results.get('stats',None)\n",
    "    state = stats['state']\n",
    "    print(state)\n",
    "    if (state in [\"FINISHED\",\"RUNNING\"]):\n",
    "        collect = True\n",
    "    elif (state == \"FAILED\"):\n",
    "        print(\"Oops\")\n",
    "        break\n",
    "    else:\n",
    "        collect = False\n",
    "\n",
    "    if (collect == True):\n",
    "        columns = results.get('columns',None)\n",
    "        result  = results.get('data',None)\n",
    "        if (result not in [None]):\n",
    "            data.append(result)\n",
    "\n",
    "    URI = results.get('nextUri',None)\n",
    "    if (URI != None):    \n",
    "        sleep(1)\n",
    "        r = requests.get(URI, headers=auth_header, verify=certfile)\n",
    "    else:\n",
    "        break\n",
    "        \n",
    "print(\"Done\")\n",
    "print(data)\n",
    "print(columns)"
   ]
  },
  {
   "cell_type": "code",
   "execution_count": 216,
   "id": "352836eb-78ae-447b-83f2-f2152ebe2e9a",
   "metadata": {},
   "outputs": [
    {
     "data": {
      "text/html": [
       "<table border=\"1\" class=\"dataframe\">\n",
       "  <thead>\n",
       "    <tr style=\"text-align: right;\">\n",
       "      <th></th>\n",
       "      <th>custkey</th>\n",
       "      <th>name</th>\n",
       "      <th>address</th>\n",
       "      <th>nationkey</th>\n",
       "      <th>phone</th>\n",
       "      <th>acctbal</th>\n",
       "      <th>mktsegment</th>\n",
       "      <th>comment</th>\n",
       "    </tr>\n",
       "  </thead>\n",
       "  <tbody>\n",
       "    <tr>\n",
       "      <th>0</th>\n",
       "      <td>1</td>\n",
       "      <td>Customer#000000001</td>\n",
       "      <td>IVhzIApeRb ot,c,E</td>\n",
       "      <td>15</td>\n",
       "      <td>25-989-741-2988</td>\n",
       "      <td>711.56</td>\n",
       "      <td>BUILDING</td>\n",
       "      <td>to the even, regular platelets. regular, ironic epitaphs nag e</td>\n",
       "    </tr>\n",
       "    <tr>\n",
       "      <th>1</th>\n",
       "      <td>2</td>\n",
       "      <td>Customer#000000002</td>\n",
       "      <td>XSTf4,NCwDVaWNe6tEgvwfmRchLXak</td>\n",
       "      <td>13</td>\n",
       "      <td>23-768-687-3665</td>\n",
       "      <td>121.65</td>\n",
       "      <td>AUTOMOBILE</td>\n",
       "      <td>l accounts. blithely ironic theodolites integrate boldly: caref</td>\n",
       "    </tr>\n",
       "    <tr>\n",
       "      <th>2</th>\n",
       "      <td>3</td>\n",
       "      <td>Customer#000000003</td>\n",
       "      <td>MG9kdTD2WBHm</td>\n",
       "      <td>1</td>\n",
       "      <td>11-719-748-3364</td>\n",
       "      <td>7498.12</td>\n",
       "      <td>AUTOMOBILE</td>\n",
       "      <td>deposits eat slyly ironic, even instructions. express foxes detect slyly. blithely even accounts abov</td>\n",
       "    </tr>\n",
       "    <tr>\n",
       "      <th>3</th>\n",
       "      <td>4</td>\n",
       "      <td>Customer#000000004</td>\n",
       "      <td>XxVSJsLAGtn</td>\n",
       "      <td>4</td>\n",
       "      <td>14-128-190-5944</td>\n",
       "      <td>2866.83</td>\n",
       "      <td>MACHINERY</td>\n",
       "      <td>requests. final, regular ideas sleep final accou</td>\n",
       "    </tr>\n",
       "    <tr>\n",
       "      <th>4</th>\n",
       "      <td>5</td>\n",
       "      <td>Customer#000000005</td>\n",
       "      <td>KvpyuHCplrB84WgAiGV6sYpZq7Tj</td>\n",
       "      <td>3</td>\n",
       "      <td>13-750-942-6364</td>\n",
       "      <td>794.47</td>\n",
       "      <td>HOUSEHOLD</td>\n",
       "      <td>n accounts will have to unwind. foxes cajole accor</td>\n",
       "    </tr>\n",
       "    <tr>\n",
       "      <th>5</th>\n",
       "      <td>6</td>\n",
       "      <td>Customer#000000006</td>\n",
       "      <td>sKZz0CsnMD7mp4Xd0YrBvx,LREYKUWAh yVn</td>\n",
       "      <td>20</td>\n",
       "      <td>30-114-968-4951</td>\n",
       "      <td>7638.57</td>\n",
       "      <td>AUTOMOBILE</td>\n",
       "      <td>tions. even deposits boost according to the slyly bold packages. final accounts cajole requests. furious</td>\n",
       "    </tr>\n",
       "    <tr>\n",
       "      <th>6</th>\n",
       "      <td>7</td>\n",
       "      <td>Customer#000000007</td>\n",
       "      <td>TcGe5gaZNgVePxU5kRrvXBfkasDTea</td>\n",
       "      <td>18</td>\n",
       "      <td>28-190-982-9759</td>\n",
       "      <td>9561.95</td>\n",
       "      <td>AUTOMOBILE</td>\n",
       "      <td>ainst the ironic, express theodolites. express, even pinto beans among the exp</td>\n",
       "    </tr>\n",
       "    <tr>\n",
       "      <th>7</th>\n",
       "      <td>8</td>\n",
       "      <td>Customer#000000008</td>\n",
       "      <td>I0B10bB0AymmC, 0PrRYBCP1yGJ8xcBPmWhl5</td>\n",
       "      <td>17</td>\n",
       "      <td>27-147-574-9335</td>\n",
       "      <td>6819.74</td>\n",
       "      <td>BUILDING</td>\n",
       "      <td>among the slyly regular theodolites kindle blithely courts. carefully even theodolites haggle slyly along the ide</td>\n",
       "    </tr>\n",
       "    <tr>\n",
       "      <th>8</th>\n",
       "      <td>9</td>\n",
       "      <td>Customer#000000009</td>\n",
       "      <td>xKiAFTjUsCuxfeleNqefumTrjS</td>\n",
       "      <td>8</td>\n",
       "      <td>18-338-906-3675</td>\n",
       "      <td>8324.07</td>\n",
       "      <td>FURNITURE</td>\n",
       "      <td>r theodolites according to the requests wake thinly excuses: pending requests haggle furiousl</td>\n",
       "    </tr>\n",
       "    <tr>\n",
       "      <th>9</th>\n",
       "      <td>10</td>\n",
       "      <td>Customer#000000010</td>\n",
       "      <td>6LrEaV6KR6PLVcgl2ArL Q3rqzLzcT1 v2</td>\n",
       "      <td>5</td>\n",
       "      <td>15-741-346-9870</td>\n",
       "      <td>2753.54</td>\n",
       "      <td>HOUSEHOLD</td>\n",
       "      <td>es regular deposits haggle. fur</td>\n",
       "    </tr>\n",
       "  </tbody>\n",
       "</table>"
      ],
      "text/plain": [
       "<IPython.core.display.HTML object>"
      ]
     },
     "metadata": {},
     "output_type": "display_data"
    }
   ],
   "source": [
    "from IPython.display import display, HTML\n",
    "import pandas as pd\n",
    "column_names = []\n",
    "for col in columns:\n",
    "    column_names.append(col.get(\"name\"))\n",
    "data_values = []\n",
    "for row in data[0]:\n",
    "    data_values.append(row)\n",
    "df = pd.DataFrame(data=data_values, columns=column_names)\n",
    "display(HTML(df.to_html()))"
   ]
  },
  {
   "cell_type": "code",
   "execution_count": 218,
   "id": "8264a2ae-331d-4833-a056-2c6552d86deb",
   "metadata": {},
   "outputs": [
    {
     "data": {
      "text/html": [
       "<div>\n",
       "<style scoped>\n",
       "    .dataframe tbody tr th:only-of-type {\n",
       "        vertical-align: middle;\n",
       "    }\n",
       "\n",
       "    .dataframe tbody tr th {\n",
       "        vertical-align: top;\n",
       "    }\n",
       "\n",
       "    .dataframe thead th {\n",
       "        text-align: right;\n",
       "    }\n",
       "</style>\n",
       "<table border=\"1\" class=\"dataframe\">\n",
       "  <thead>\n",
       "    <tr style=\"text-align: right;\">\n",
       "      <th></th>\n",
       "      <th>custkey</th>\n",
       "      <th>name</th>\n",
       "      <th>address</th>\n",
       "      <th>nationkey</th>\n",
       "      <th>phone</th>\n",
       "      <th>acctbal</th>\n",
       "      <th>mktsegment</th>\n",
       "      <th>comment</th>\n",
       "    </tr>\n",
       "  </thead>\n",
       "  <tbody>\n",
       "    <tr>\n",
       "      <th>0</th>\n",
       "      <td>1</td>\n",
       "      <td>Customer#000000001</td>\n",
       "      <td>IVhzIApeRb ot,c,E</td>\n",
       "      <td>15</td>\n",
       "      <td>25-989-741-2988</td>\n",
       "      <td>711.56</td>\n",
       "      <td>BUILDING</td>\n",
       "      <td>to the even, regular platelets. regular, ironi...</td>\n",
       "    </tr>\n",
       "    <tr>\n",
       "      <th>1</th>\n",
       "      <td>2</td>\n",
       "      <td>Customer#000000002</td>\n",
       "      <td>XSTf4,NCwDVaWNe6tEgvwfmRchLXak</td>\n",
       "      <td>13</td>\n",
       "      <td>23-768-687-3665</td>\n",
       "      <td>121.65</td>\n",
       "      <td>AUTOMOBILE</td>\n",
       "      <td>l accounts. blithely ironic theodolites integr...</td>\n",
       "    </tr>\n",
       "    <tr>\n",
       "      <th>2</th>\n",
       "      <td>3</td>\n",
       "      <td>Customer#000000003</td>\n",
       "      <td>MG9kdTD2WBHm</td>\n",
       "      <td>1</td>\n",
       "      <td>11-719-748-3364</td>\n",
       "      <td>7498.12</td>\n",
       "      <td>AUTOMOBILE</td>\n",
       "      <td>deposits eat slyly ironic, even instructions....</td>\n",
       "    </tr>\n",
       "    <tr>\n",
       "      <th>3</th>\n",
       "      <td>4</td>\n",
       "      <td>Customer#000000004</td>\n",
       "      <td>XxVSJsLAGtn</td>\n",
       "      <td>4</td>\n",
       "      <td>14-128-190-5944</td>\n",
       "      <td>2866.83</td>\n",
       "      <td>MACHINERY</td>\n",
       "      <td>requests. final, regular ideas sleep final accou</td>\n",
       "    </tr>\n",
       "    <tr>\n",
       "      <th>4</th>\n",
       "      <td>5</td>\n",
       "      <td>Customer#000000005</td>\n",
       "      <td>KvpyuHCplrB84WgAiGV6sYpZq7Tj</td>\n",
       "      <td>3</td>\n",
       "      <td>13-750-942-6364</td>\n",
       "      <td>794.47</td>\n",
       "      <td>HOUSEHOLD</td>\n",
       "      <td>n accounts will have to unwind. foxes cajole a...</td>\n",
       "    </tr>\n",
       "    <tr>\n",
       "      <th>5</th>\n",
       "      <td>6</td>\n",
       "      <td>Customer#000000006</td>\n",
       "      <td>sKZz0CsnMD7mp4Xd0YrBvx,LREYKUWAh yVn</td>\n",
       "      <td>20</td>\n",
       "      <td>30-114-968-4951</td>\n",
       "      <td>7638.57</td>\n",
       "      <td>AUTOMOBILE</td>\n",
       "      <td>tions. even deposits boost according to the sl...</td>\n",
       "    </tr>\n",
       "    <tr>\n",
       "      <th>6</th>\n",
       "      <td>7</td>\n",
       "      <td>Customer#000000007</td>\n",
       "      <td>TcGe5gaZNgVePxU5kRrvXBfkasDTea</td>\n",
       "      <td>18</td>\n",
       "      <td>28-190-982-9759</td>\n",
       "      <td>9561.95</td>\n",
       "      <td>AUTOMOBILE</td>\n",
       "      <td>ainst the ironic, express theodolites. express...</td>\n",
       "    </tr>\n",
       "    <tr>\n",
       "      <th>7</th>\n",
       "      <td>8</td>\n",
       "      <td>Customer#000000008</td>\n",
       "      <td>I0B10bB0AymmC, 0PrRYBCP1yGJ8xcBPmWhl5</td>\n",
       "      <td>17</td>\n",
       "      <td>27-147-574-9335</td>\n",
       "      <td>6819.74</td>\n",
       "      <td>BUILDING</td>\n",
       "      <td>among the slyly regular theodolites kindle bli...</td>\n",
       "    </tr>\n",
       "    <tr>\n",
       "      <th>8</th>\n",
       "      <td>9</td>\n",
       "      <td>Customer#000000009</td>\n",
       "      <td>xKiAFTjUsCuxfeleNqefumTrjS</td>\n",
       "      <td>8</td>\n",
       "      <td>18-338-906-3675</td>\n",
       "      <td>8324.07</td>\n",
       "      <td>FURNITURE</td>\n",
       "      <td>r theodolites according to the requests wake t...</td>\n",
       "    </tr>\n",
       "    <tr>\n",
       "      <th>9</th>\n",
       "      <td>10</td>\n",
       "      <td>Customer#000000010</td>\n",
       "      <td>6LrEaV6KR6PLVcgl2ArL Q3rqzLzcT1 v2</td>\n",
       "      <td>5</td>\n",
       "      <td>15-741-346-9870</td>\n",
       "      <td>2753.54</td>\n",
       "      <td>HOUSEHOLD</td>\n",
       "      <td>es regular deposits haggle. fur</td>\n",
       "    </tr>\n",
       "  </tbody>\n",
       "</table>\n",
       "</div>"
      ],
      "text/plain": [
       "   custkey                name                                address  \\\n",
       "0        1  Customer#000000001                      IVhzIApeRb ot,c,E   \n",
       "1        2  Customer#000000002         XSTf4,NCwDVaWNe6tEgvwfmRchLXak   \n",
       "2        3  Customer#000000003                           MG9kdTD2WBHm   \n",
       "3        4  Customer#000000004                            XxVSJsLAGtn   \n",
       "4        5  Customer#000000005           KvpyuHCplrB84WgAiGV6sYpZq7Tj   \n",
       "5        6  Customer#000000006   sKZz0CsnMD7mp4Xd0YrBvx,LREYKUWAh yVn   \n",
       "6        7  Customer#000000007         TcGe5gaZNgVePxU5kRrvXBfkasDTea   \n",
       "7        8  Customer#000000008  I0B10bB0AymmC, 0PrRYBCP1yGJ8xcBPmWhl5   \n",
       "8        9  Customer#000000009             xKiAFTjUsCuxfeleNqefumTrjS   \n",
       "9       10  Customer#000000010     6LrEaV6KR6PLVcgl2ArL Q3rqzLzcT1 v2   \n",
       "\n",
       "   nationkey            phone  acctbal  mktsegment  \\\n",
       "0         15  25-989-741-2988   711.56    BUILDING   \n",
       "1         13  23-768-687-3665   121.65  AUTOMOBILE   \n",
       "2          1  11-719-748-3364  7498.12  AUTOMOBILE   \n",
       "3          4  14-128-190-5944  2866.83   MACHINERY   \n",
       "4          3  13-750-942-6364   794.47   HOUSEHOLD   \n",
       "5         20  30-114-968-4951  7638.57  AUTOMOBILE   \n",
       "6         18  28-190-982-9759  9561.95  AUTOMOBILE   \n",
       "7         17  27-147-574-9335  6819.74    BUILDING   \n",
       "8          8  18-338-906-3675  8324.07   FURNITURE   \n",
       "9          5  15-741-346-9870  2753.54   HOUSEHOLD   \n",
       "\n",
       "                                             comment  \n",
       "0  to the even, regular platelets. regular, ironi...  \n",
       "1  l accounts. blithely ironic theodolites integr...  \n",
       "2   deposits eat slyly ironic, even instructions....  \n",
       "3   requests. final, regular ideas sleep final accou  \n",
       "4  n accounts will have to unwind. foxes cajole a...  \n",
       "5  tions. even deposits boost according to the sl...  \n",
       "6  ainst the ironic, express theodolites. express...  \n",
       "7  among the slyly regular theodolites kindle bli...  \n",
       "8  r theodolites according to the requests wake t...  \n",
       "9                    es regular deposits haggle. fur  "
      ]
     },
     "execution_count": 218,
     "metadata": {},
     "output_type": "execute_result"
    }
   ],
   "source": [
    "df"
   ]
  },
  {
   "cell_type": "code",
   "execution_count": 205,
   "id": "8c2bde76-3f21-4f54-b690-9badf0eaba86",
   "metadata": {},
   "outputs": [
    {
     "name": "stdout",
     "output_type": "stream",
     "text": [
      "[1, 'Customer#000000001', 'IVhzIApeRb ot,c,E', 15, '25-989-741-2988', 711.56, 'BUILDING', 'to the even, regular platelets. regular, ironic epitaphs nag e']\n"
     ]
    }
   ],
   "source": [
    "print(data[0][0])"
   ]
  },
  {
   "cell_type": "code",
   "execution_count": 172,
   "id": "40aa8424-77d8-4a58-8748-c97864a91aab",
   "metadata": {},
   "outputs": [
    {
     "data": {
      "text/plain": [
       "'OK'"
      ]
     },
     "execution_count": 172,
     "metadata": {},
     "output_type": "execute_result"
    }
   ],
   "source": [
    "r.reason"
   ]
  },
  {
   "cell_type": "code",
   "execution_count": 173,
   "id": "39a77ee5-0494-4cf8-843e-50b47c95ab0b",
   "metadata": {},
   "outputs": [
    {
     "data": {
      "text/plain": [
       "{'id': '20240410_210545_00159_qjxmz',\n",
       " 'infoUri': 'https://watsonxdata:8443/ui/query.html?20240410_210545_00159_qjxmz',\n",
       " 'nextUri': 'https://watsonxdata:8443/v1/statement/queued/20240410_210545_00159_qjxmz/1?slug=xe41c1606e93a4806a7021251f6ed5ad8',\n",
       " 'stats': {'state': 'WAITING_FOR_PREREQUISITES',\n",
       "  'waitingForPrerequisites': True,\n",
       "  'queued': False,\n",
       "  'scheduled': False,\n",
       "  'nodes': 0,\n",
       "  'totalSplits': 0,\n",
       "  'queuedSplits': 0,\n",
       "  'runningSplits': 0,\n",
       "  'completedSplits': 0,\n",
       "  'cpuTimeMillis': 0,\n",
       "  'wallTimeMillis': 0,\n",
       "  'waitingForPrerequisitesTimeMillis': 0,\n",
       "  'queuedTimeMillis': 0,\n",
       "  'elapsedTimeMillis': 0,\n",
       "  'processedRows': 0,\n",
       "  'processedBytes': 0,\n",
       "  'peakMemoryBytes': 0,\n",
       "  'peakTotalMemoryBytes': 0,\n",
       "  'peakTaskTotalMemoryBytes': 0,\n",
       "  'spilledBytes': 0},\n",
       " 'warnings': []}"
      ]
     },
     "execution_count": 173,
     "metadata": {},
     "output_type": "execute_result"
    }
   ],
   "source": [
    "r.json()"
   ]
  },
  {
   "cell_type": "code",
   "execution_count": 174,
   "id": "149a0ead-5ae7-43fe-8ad5-318f5935f169",
   "metadata": {},
   "outputs": [],
   "source": [
    "query_results = r.json()['nextUri']"
   ]
  },
  {
   "cell_type": "code",
   "execution_count": 175,
   "id": "d3fa5c9d-b358-470a-affe-4b410ef936fc",
   "metadata": {},
   "outputs": [],
   "source": [
    "r = requests.get(query_results, headers=auth_header, verify=certfile)"
   ]
  },
  {
   "cell_type": "code",
   "execution_count": 176,
   "id": "0e014734-4638-4600-8203-168f95caa056",
   "metadata": {},
   "outputs": [
    {
     "data": {
      "text/plain": [
       "200"
      ]
     },
     "execution_count": 176,
     "metadata": {},
     "output_type": "execute_result"
    }
   ],
   "source": [
    "r.status_code"
   ]
  },
  {
   "cell_type": "markdown",
   "id": "513e471a-e49f-4e2e-b73d-41bc39f9b2cb",
   "metadata": {},
   "source": [
    "if stats -> running\n",
    "\n",
    "if data -> get data\n",
    "if columns -> get columns\n"
   ]
  },
  {
   "cell_type": "code",
   "execution_count": 169,
   "id": "836c42ec-66d0-4a2a-969e-7602470b43b4",
   "metadata": {},
   "outputs": [
    {
     "data": {
      "text/plain": [
       "{'id': '20240410_210311_00158_qjxmz',\n",
       " 'infoUri': 'https://watsonxdata:8443/ui/query.html?20240410_210311_00158_qjxmz',\n",
       " 'partialCancelUri': 'https://ibm-lh-presto-svc:8443/v1/stage/20240410_210311_00158_qjxmz.0',\n",
       " 'nextUri': 'https://watsonxdata:8443/v1/statement/executing/20240410_210311_00158_qjxmz/1?slug=xda42e967336646038933c5e8a4002898',\n",
       " 'columns': [{'name': 'custkey',\n",
       "   'type': 'bigint',\n",
       "   'typeSignature': {'rawType': 'bigint',\n",
       "    'typeArguments': [],\n",
       "    'literalArguments': [],\n",
       "    'arguments': []}},\n",
       "  {'name': 'name',\n",
       "   'type': 'varchar(25)',\n",
       "   'typeSignature': {'rawType': 'varchar',\n",
       "    'typeArguments': [],\n",
       "    'literalArguments': [],\n",
       "    'arguments': [{'kind': 'LONG_LITERAL', 'value': 25}]}},\n",
       "  {'name': 'address',\n",
       "   'type': 'varchar(40)',\n",
       "   'typeSignature': {'rawType': 'varchar',\n",
       "    'typeArguments': [],\n",
       "    'literalArguments': [],\n",
       "    'arguments': [{'kind': 'LONG_LITERAL', 'value': 40}]}},\n",
       "  {'name': 'nationkey',\n",
       "   'type': 'bigint',\n",
       "   'typeSignature': {'rawType': 'bigint',\n",
       "    'typeArguments': [],\n",
       "    'literalArguments': [],\n",
       "    'arguments': []}},\n",
       "  {'name': 'phone',\n",
       "   'type': 'varchar(15)',\n",
       "   'typeSignature': {'rawType': 'varchar',\n",
       "    'typeArguments': [],\n",
       "    'literalArguments': [],\n",
       "    'arguments': [{'kind': 'LONG_LITERAL', 'value': 15}]}},\n",
       "  {'name': 'acctbal',\n",
       "   'type': 'double',\n",
       "   'typeSignature': {'rawType': 'double',\n",
       "    'typeArguments': [],\n",
       "    'literalArguments': [],\n",
       "    'arguments': []}},\n",
       "  {'name': 'mktsegment',\n",
       "   'type': 'varchar(10)',\n",
       "   'typeSignature': {'rawType': 'varchar',\n",
       "    'typeArguments': [],\n",
       "    'literalArguments': [],\n",
       "    'arguments': [{'kind': 'LONG_LITERAL', 'value': 10}]}},\n",
       "  {'name': 'comment',\n",
       "   'type': 'varchar(117)',\n",
       "   'typeSignature': {'rawType': 'varchar',\n",
       "    'typeArguments': [],\n",
       "    'literalArguments': [],\n",
       "    'arguments': [{'kind': 'LONG_LITERAL', 'value': 117}]}}],\n",
       " 'data': [[376,\n",
       "   'Customer#000000376',\n",
       "   '4NwsvFQU T4mSgzvU1Rx2ZtHOGyaNyhe',\n",
       "   16,\n",
       "   '26-437-952-8986',\n",
       "   4231.45,\n",
       "   'AUTOMOBILE',\n",
       "   'gs cajole quickly. bold asymptotes wake regularly along the quickly '],\n",
       "  [377,\n",
       "   'Customer#000000377',\n",
       "   'PA4levhyD,Rvr0JHQ4QNOqJ9gW YXE',\n",
       "   23,\n",
       "   '33-260-610-4079',\n",
       "   1043.72,\n",
       "   'MACHINERY',\n",
       "   '. slyly regular ideas cajole blithely. slyly ironic foxes are carefully after the thinly special accou'],\n",
       "  [378,\n",
       "   'Customer#000000378',\n",
       "   '133stqM9 LT,a2BSlbm49 nXreFggaZgW6P6J',\n",
       "   22,\n",
       "   '32-147-793-4825',\n",
       "   5718.05,\n",
       "   'BUILDING',\n",
       "   'ackages haggle fluffily ironic packages.'],\n",
       "  [379,\n",
       "   'Customer#000000379',\n",
       "   't3QzCf,q1NbshmjOIUY',\n",
       "   7,\n",
       "   '17-228-550-9246',\n",
       "   5348.11,\n",
       "   'AUTOMOBILE',\n",
       "   'l deposits cajole blithely blithely final deposits. express, even foxes grow carefully about the sile'],\n",
       "  [380,\n",
       "   'Customer#000000380',\n",
       "   'n2w3Jd1bipwICbOVgrELzcNRexmWSklo',\n",
       "   21,\n",
       "   '31-538-493-4229',\n",
       "   2755.46,\n",
       "   'BUILDING',\n",
       "   'riously special accounts. slyly final accounts sleep; blithely special requests integrate carefully slyly en'],\n",
       "  [381,\n",
       "   'Customer#000000381',\n",
       "   'w3zVseYDbjBbzLld',\n",
       "   5,\n",
       "   '15-860-208-7093',\n",
       "   9931.71,\n",
       "   'BUILDING',\n",
       "   't regular, bold accounts. carefully quick packages haggle. care'],\n",
       "  [382,\n",
       "   'Customer#000000382',\n",
       "   'UdgAMamK5JnSykA,ZPfR5W5zRFatDUye',\n",
       "   8,\n",
       "   '18-942-650-6657',\n",
       "   6269.42,\n",
       "   'AUTOMOBILE',\n",
       "   '. blithely express notornis according to the blithely even requests are never fina'],\n",
       "  [383,\n",
       "   'Customer#000000383',\n",
       "   'iBIHYgXvVDpu6qq7FlqXVcAIDAzv4qs',\n",
       "   2,\n",
       "   '12-868-920-9034',\n",
       "   -849.44,\n",
       "   'MACHINERY',\n",
       "   'slyly express ideas haggle blithely unusual dugouts. ironic pinto beans are ironic ideas.'],\n",
       "  [384,\n",
       "   'Customer#000000384',\n",
       "   'kDDMb3ML nUSu2Sn7CUHyZVedAFUx9',\n",
       "   9,\n",
       "   '19-271-453-8361',\n",
       "   -614.3,\n",
       "   'HOUSEHOLD',\n",
       "   'olites. express, unusual dolphins cajole carefully about the '],\n",
       "  [385,\n",
       "   'Customer#000000385',\n",
       "   'zJvPI24TSPpiFzYfu3RvTKQ9',\n",
       "   3,\n",
       "   '13-741-675-6890',\n",
       "   2457.09,\n",
       "   'AUTOMOBILE',\n",
       "   'rs. blithely ironic deposits nag furiously across the furiously ironic accounts. bold deposits sleep express']],\n",
       " 'stats': {'state': 'RUNNING',\n",
       "  'waitingForPrerequisites': False,\n",
       "  'queued': False,\n",
       "  'scheduled': True,\n",
       "  'nodes': 1,\n",
       "  'totalSplits': 21,\n",
       "  'queuedSplits': 0,\n",
       "  'runningSplits': 0,\n",
       "  'completedSplits': 21,\n",
       "  'cpuTimeMillis': 5361,\n",
       "  'wallTimeMillis': 21880,\n",
       "  'waitingForPrerequisitesTimeMillis': 2,\n",
       "  'queuedTimeMillis': 1,\n",
       "  'elapsedTimeMillis': 20327,\n",
       "  'processedRows': 1500,\n",
       "  'processedBytes': 0,\n",
       "  'peakMemoryBytes': 0,\n",
       "  'peakTotalMemoryBytes': 2245,\n",
       "  'peakTaskTotalMemoryBytes': 2245,\n",
       "  'spilledBytes': 0,\n",
       "  'rootStage': {'stageId': '0',\n",
       "   'state': 'RUNNING',\n",
       "   'done': False,\n",
       "   'nodes': 1,\n",
       "   'totalSplits': 17,\n",
       "   'queuedSplits': 0,\n",
       "   'runningSplits': 0,\n",
       "   'completedSplits': 17,\n",
       "   'cpuTimeMillis': 8,\n",
       "   'wallTimeMillis': 15,\n",
       "   'processedRows': 10,\n",
       "   'processedBytes': 2162,\n",
       "   'subStages': [{'stageId': '1',\n",
       "     'state': 'FINISHED',\n",
       "     'done': True,\n",
       "     'nodes': 1,\n",
       "     'totalSplits': 4,\n",
       "     'queuedSplits': 0,\n",
       "     'runningSplits': 0,\n",
       "     'completedSplits': 4,\n",
       "     'cpuTimeMillis': 5353,\n",
       "     'wallTimeMillis': 21865,\n",
       "     'processedRows': 1500,\n",
       "     'processedBytes': 0,\n",
       "     'subStages': []}]},\n",
       "  'runtimeStats': {'getColumnHandleTimeNanos': {'name': 'getColumnHandleTimeNanos',\n",
       "    'unit': 'NANO',\n",
       "    'sum': 401897,\n",
       "    'count': 1,\n",
       "    'max': 401897,\n",
       "    'min': 401897},\n",
       "   'S0-taskScheduledTimeNanos': {'name': 'S0-taskScheduledTimeNanos',\n",
       "    'unit': 'NANO',\n",
       "    'sum': 14743144,\n",
       "    'count': 1,\n",
       "    'max': 14743144,\n",
       "    'min': 14743144},\n",
       "   'S1-taskScheduledTimeNanos': {'name': 'S1-taskScheduledTimeNanos',\n",
       "    'unit': 'NANO',\n",
       "    'sum': 21865047990,\n",
       "    'count': 1,\n",
       "    'max': 21865047990,\n",
       "    'min': 21865047990},\n",
       "   'optimizerTimeNanos': {'name': 'optimizerTimeNanos',\n",
       "    'unit': 'NANO',\n",
       "    'sum': 19529443,\n",
       "    'count': 1,\n",
       "    'max': 19529443,\n",
       "    'min': 19529443},\n",
       "   'getColumnMetadataTimeNanos': {'name': 'getColumnMetadataTimeNanos',\n",
       "    'unit': 'NANO',\n",
       "    'sum': 143541,\n",
       "    'count': 1,\n",
       "    'max': 143541,\n",
       "    'min': 143541},\n",
       "   'getMaterializedViewTimeNanos': {'name': 'getMaterializedViewTimeNanos',\n",
       "    'unit': 'NANO',\n",
       "    'sum': 24738,\n",
       "    'count': 1,\n",
       "    'max': 24738,\n",
       "    'min': 24738},\n",
       "   'S1-driverCountPerTask': {'name': 'S1-driverCountPerTask',\n",
       "    'unit': 'NONE',\n",
       "    'sum': 4,\n",
       "    'count': 1,\n",
       "    'max': 4,\n",
       "    'min': 4},\n",
       "   'getLayoutTimeNanos': {'name': 'getLayoutTimeNanos',\n",
       "    'unit': 'NANO',\n",
       "    'sum': 1359466,\n",
       "    'count': 2,\n",
       "    'max': 1066013,\n",
       "    'min': 293453},\n",
       "   'S0-taskBlockedTimeNanos': {'name': 'S0-taskBlockedTimeNanos',\n",
       "    'unit': 'NANO',\n",
       "    'sum': 92947170056,\n",
       "    'count': 1,\n",
       "    'max': 92947170056,\n",
       "    'min': 92947170056},\n",
       "   'S1-taskElapsedTimeNanos': {'name': 'S1-taskElapsedTimeNanos',\n",
       "    'unit': 'NANO',\n",
       "    'sum': 5503283571,\n",
       "    'count': 1,\n",
       "    'max': 5503283571,\n",
       "    'min': 5503283571},\n",
       "   'fragmentPlanTimeNanos': {'name': 'fragmentPlanTimeNanos',\n",
       "    'unit': 'NANO',\n",
       "    'sum': 17947407,\n",
       "    'count': 1,\n",
       "    'max': 17947407,\n",
       "    'min': 17947407},\n",
       "   'S0-taskQueuedTimeNanos': {'name': 'S0-taskQueuedTimeNanos',\n",
       "    'unit': 'NANO',\n",
       "    'sum': 15132857,\n",
       "    'count': 1,\n",
       "    'max': 15132857,\n",
       "    'min': 15132857},\n",
       "   'S1-getSplitsTimeNanos': {'name': 'S1-getSplitsTimeNanos',\n",
       "    'unit': 'NANO',\n",
       "    'sum': 9504,\n",
       "    'count': 1,\n",
       "    'max': 9504,\n",
       "    'min': 9504},\n",
       "   'logicalPlannerTimeNanos': {'name': 'logicalPlannerTimeNanos',\n",
       "    'unit': 'NANO',\n",
       "    'sum': 5577144,\n",
       "    'count': 1,\n",
       "    'max': 5577144,\n",
       "    'min': 5577144},\n",
       "   'S0-driverCountPerTask': {'name': 'S0-driverCountPerTask',\n",
       "    'unit': 'NONE',\n",
       "    'sum': 17,\n",
       "    'count': 1,\n",
       "    'max': 17,\n",
       "    'min': 17},\n",
       "   'S0-taskElapsedTimeNanos': {'name': 'S0-taskElapsedTimeNanos',\n",
       "    'unit': 'NANO',\n",
       "    'sum': 0,\n",
       "    'count': 1,\n",
       "    'max': 0,\n",
       "    'min': 0},\n",
       "   'S1-taskQueuedTimeNanos': {'name': 'S1-taskQueuedTimeNanos',\n",
       "    'unit': 'NANO',\n",
       "    'sum': 10310410,\n",
       "    'count': 1,\n",
       "    'max': 10310410,\n",
       "    'min': 10310410},\n",
       "   'getViewTimeNanos': {'name': 'getViewTimeNanos',\n",
       "    'unit': 'NANO',\n",
       "    'sum': 360047,\n",
       "    'count': 1,\n",
       "    'max': 360047,\n",
       "    'min': 360047},\n",
       "   'getTableHandleTimeNanos': {'name': 'getTableHandleTimeNanos',\n",
       "    'unit': 'NANO',\n",
       "    'sum': 50162,\n",
       "    'count': 1,\n",
       "    'max': 50162,\n",
       "    'min': 50162}},\n",
       "  'progressPercentage': 100.0},\n",
       " 'warnings': []}"
      ]
     },
     "execution_count": 169,
     "metadata": {},
     "output_type": "execute_result"
    }
   ],
   "source": [
    "r.json()"
   ]
  },
  {
   "cell_type": "code",
   "execution_count": null,
   "id": "ff00be28-0209-4dfc-b4cb-9fa6530c6c2f",
   "metadata": {},
   "outputs": [],
   "source": [
    "presto_readiness() {\n",
    "    containerName=$1\n",
    "    echo \"Checking container: $containerName\"\n",
    "    containerID=$($dockerexe container ls --all --quiet --filter \"name=${containerName}\")\n",
    "    if [[ $containerID == \"\" ]]; then\n",
    "        echo \"No contianer process of $containerName running. Unable to fetch health status.\"\n",
    "    else\n",
    "        echo \"Container ID for $containerName is: $containerID\" \n",
    "        containerCredentials=$($DRY_RUN $dockerexe exec $args $containerID /bin/bash -c \"echo -n \\${PRESTO_USER}:\\${LH_INSTANCE_SECRET}\")\n",
    "        encodedCredentials=$(echo -n $containerCredentials | base64 -w 0)\n",
    "\n",
    "        # Make API call and get the HTTP response code\n",
    "        apiResponse=$($DRY_RUN $dockerexe exec $args $containerID /bin/bash -c \"curl -s -w '%{http_code}' --location --request GET 'https://localhost:8443/v1/info' -k --header 'Content-Type: application/json' --header 'Authorization: Basic $encodedCredentials' --data ''\")\n",
    "        httpCode=${apiResponse: -3}  # Extract last 3 characters (HTTP code)\n",
    "        responseBody=${apiResponse::-3}  # Remove last 3 characters (HTTP code)\n",
    "\n",
    "        echo \"HTTP Code: $httpCode\"\n",
    "        echo \"Response Body: $responseBody\"\n",
    "        body=\"${apiResponse%$httpCode}\"\n",
    "\n",
    "        if [ \"$httpCode\" == \"200\" ] && [[ \"$body\" == *\"\\\"starting\\\":false\"* ]]; then\n",
    "            status=$(${lh_bin_dir}/presto-run <<< \"show catalogs;\")\n",
    "            if [[ $status == *\"FINISHED\"* ]]; then\n",
    "                echo -e \"The Presto image is ready. Readiness check status was: API call successful. $status\\n\"\n",
    "                break\n",
    "            else\n",
    "                echo -e \"The Presto image is not yet ready...\"\n",
    "            fi\n",
    "        else\n",
    "            echo -e \"API response: $body\"\n",
    "            echo -e \"The Presto image is not ready. Readiness check status was: API call returned HTTP code $httpCode.\\n\"\n",
    "        fi\n",
    "    fi\n",
    "}"
   ]
  },
  {
   "attachments": {},
   "cell_type": "markdown",
   "id": "57383907-b9e4-49a1-b16a-87a06b84ffe4",
   "metadata": {},
   "source": [
    "## Creating a Kafka Service\n",
    "\n",
    "The first step is to create a Kafka service in our system. The following command will create the control file required to create the Kafka Docker images. The system does not contain any topics when it starts up."
   ]
  },
  {
   "cell_type": "code",
   "execution_count": null,
   "id": "377fc650-e59b-4585-bb84-58c3d2725633",
   "metadata": {},
   "outputs": [],
   "source": [
    "kafka_compose = '''\n",
    "version: '3'\n",
    "services:\n",
    "  zookeeper:\n",
    "    image: confluentinc/cp-zookeeper:latest\n",
    "    environment:\n",
    "      ZOOKEEPER_CLIENT_PORT: 2181\n",
    "      ZOOKEEPER_TICK_TIME: 2000\n",
    "    ports:\n",
    "      - 22181:2181\n",
    "  \n",
    "  kafka:\n",
    "    image: confluentinc/cp-kafka:latest\n",
    "    depends_on:\n",
    "      - zookeeper\n",
    "    ports:\n",
    "      - 29092:29092\n",
    "    environment:\n",
    "      KAFKA_BROKER_ID: 1\n",
    "      KAFKA_ZOOKEEPER_CONNECT: zookeeper:2181\n",
    "      KAFKA_ADVERTISED_LISTENERS: PLAINTEXT://kafka:9092,PLAINTEXT_HOST://watsonxdata:29092\n",
    "      KAFKA_LISTENER_SECURITY_PROTOCOL_MAP: PLAINTEXT:PLAINTEXT,PLAINTEXT_HOST:PLAINTEXT\n",
    "      KAFKA_INTER_BROKER_LISTENER_NAME: PLAINTEXT\n",
    "      KAFKA_OFFSETS_TOPIC_REPLICATION_FACTOR: 1\n",
    "'''\n",
    "with open(\"kafka-compose.yaml\",\"w\") as fd:\n",
    "    fd.write(kafka_compose)"
   ]
  },
  {
   "cell_type": "markdown",
   "id": "81f26855-0285-4b31-9de7-13e299f75796",
   "metadata": {},
   "source": [
    "Now we can start the Kafka and Zookeeper service. The default Kafka port is 29092. "
   ]
  },
  {
   "cell_type": "code",
   "execution_count": null,
   "id": "3e5b484c-461b-468f-92fe-09fd8986c762",
   "metadata": {},
   "outputs": [],
   "source": [
    "%system docker compose -p kafka -f kafka-compose.yaml up --detach"
   ]
  },
  {
   "cell_type": "markdown",
   "id": "89afbc70-b54e-44c0-b9fa-a9622bdf19c0",
   "metadata": {},
   "source": [
    "### Load Kafka Libraries\n",
    "Before we start using the system, we need to load the Python libraries required to communicate with Kafka."
   ]
  },
  {
   "cell_type": "code",
   "execution_count": null,
   "id": "946af311-8a88-45c4-a8da-42e86647cc78",
   "metadata": {},
   "outputs": [],
   "source": [
    "%system python3 -m pip install confluent-kafka"
   ]
  },
  {
   "cell_type": "markdown",
   "id": "89be6c74-a38e-4630-9897-33739ccc5e9e",
   "metadata": {},
   "source": [
    "### Open up the Kafka Port\n",
    "We need to open the port that is used by Kafka so the client can communicate with the service."
   ]
  },
  {
   "cell_type": "code",
   "execution_count": null,
   "id": "b10c4d8c-8d5a-45b6-8f13-081a694cfb9f",
   "metadata": {},
   "outputs": [],
   "source": [
    "%system firewall-cmd --add-port=29092/tcp --zone=public --permanent\n",
    "%system firewall-cmd --reload"
   ]
  },
  {
   "attachments": {},
   "cell_type": "markdown",
   "id": "e34f4dd4-559c-4e84-b35e-bdddb2b3cd3c",
   "metadata": {},
   "source": [
    "## Create a Topic\n",
    "\n",
    "Message queues are referred to as topics in the Kafka documentation. We need to create a topic that Kafka will use in our system. The following code will connect to the Kafka server and add the topic <code style=\"color:blue;background-color:transparent;\">watsonxdata</code>. The first step is to establish a connection to the Kafka service. If you receive an error message when running this code, it indicates that the Kafka service has not yet initialized. Try running the code again after a few seconds and then check to see if the topic has been created."
   ]
  },
  {
   "cell_type": "code",
   "execution_count": null,
   "id": "a7d0a9ee-d94b-4dc4-a07c-84dfccf0b6df",
   "metadata": {},
   "outputs": [],
   "source": [
    "from confluent_kafka.admin import AdminClient, NewTopic\n",
    "\n",
    "admin_client = AdminClient(\n",
    "    {\n",
    "        'bootstrap.servers': 'watsonxdata:29092',\n",
    "    }\n",
    ")\n",
    "\n",
    "try:\n",
    "    res = admin_client.create_topics(new_topics=[\n",
    "            NewTopic(\n",
    "                topic='watsonxdata',\n",
    "                num_partitions=1,\n",
    "                replication_factor=1,\n",
    "            )\n",
    "        ],\n",
    "        validate_only=False,\n",
    "        operation_timeout=10,\n",
    "    )\n",
    "except Exception as err:\n",
    "    print(repr(err))"
   ]
  },
  {
   "cell_type": "markdown",
   "id": "cbb07a53-4550-4a58-baf5-17d78cebf8d8",
   "metadata": {},
   "source": [
    "Check that our topic is there. "
   ]
  },
  {
   "cell_type": "code",
   "execution_count": null,
   "id": "3685cffd-6736-418e-83aa-507fc8b70588",
   "metadata": {},
   "outputs": [],
   "source": [
    "try:\n",
    "    topics = False\n",
    "    metadata = admin_client.list_topics()\n",
    "    for t in iter(metadata.topics.values()):\n",
    "        topics = True\n",
    "        print(f\"Topic: {t.topic}\")   \n",
    "except Exception as err:\n",
    "    print(repr(err))   \n",
    "\n",
    "if (topics == False):\n",
    "    print(\"No topics found\")"
   ]
  },
  {
   "cell_type": "markdown",
   "id": "2a813bca-a823-4562-b2d3-263be1e0eca9",
   "metadata": {},
   "source": [
    "## Registering the Kafka Service\n",
    "The next step is to register the Kafka service with watsonx.data. Navigate to your watsonx.data UI screen and click on the infrastructure icon.\n",
    "\n",
    "![Add Database](images/watsonx-kafka-add-database.png)"
   ]
  },
  {
   "cell_type": "markdown",
   "id": "a7855064-48c3-4ef1-8b76-bd7cb7ed90ce",
   "metadata": {},
   "source": [
    "Select the Add database option and select Apache Kafka as the source.\n",
    "\n",
    "![Add Database](images/watsonx-kafka-add-kafka.png)"
   ]
  },
  {
   "cell_type": "markdown",
   "id": "27822e90-64ac-43e0-b1b6-1e4a7603af20",
   "metadata": {},
   "source": [
    "Enter the following settings into the dialog.\n",
    "\n",
    "* Display name - <code style=\"color:blue;background-color: transparent;\">kafka</code>\n",
    "* Hostname - <code style=\"color:blue;background-color: transparent;\">watsonxdata<code style=\"color:blue;background-color: transparent;\">\n",
    "* Port - <code style=\"color:blue;background-color: transparent;\">29092<code style=\"color:blue;background-color: transparent;\">\n",
    "* Topics - <code style=\"color:blue;background-color: transparent;\">watsonxdata<code style=\"color:blue;background-color: transparent;\">\n",
    "\n",
    "If your Kafka service had multiple topics, you can list them all in the Topics line."
   ]
  },
  {
   "cell_type": "markdown",
   "id": "05c966b7-5d98-4669-afc8-c1496e170d3a",
   "metadata": {},
   "source": [
    "![Add Database](images/watsonx-kafka-settings.png)"
   ]
  },
  {
   "cell_type": "markdown",
   "id": "95f55bcc-49c5-42a0-ad79-c07c87b17655",
   "metadata": {},
   "source": [
    "Once you have entered these values into the panel, use the Test Connection link to make sure the Kafka server is reachable. Once you register the Kafka service, you should see it reflected in the infrastructure screen.\n",
    "\n",
    "![Add Database](images/watsonx-kafka-infrastructure.png)"
   ]
  },
  {
   "cell_type": "markdown",
   "id": "7590d2b3-3741-4487-aebf-9ec8105eaf58",
   "metadata": {},
   "source": [
    "At this point you must associate the Kafka service with the Presto engine. Hover over the Kafka catalog until you see the association icon. Click on that to view the associate dialog.\n",
    "\n",
    "![Add Database](images/watsonx-kafka-associate.png)"
   ]
  },
  {
   "cell_type": "markdown",
   "id": "a1cfafa5-2c4a-43d5-80de-cddfde143ab7",
   "metadata": {},
   "source": [
    "Select the presto-01 engine and press Save and restart engine. The Kafka service should now show as connected to the Presto engine.\n",
    "\n",
    "![Add Database](images/watsonx-kafka-associated.png)"
   ]
  },
  {
   "cell_type": "markdown",
   "id": "fb7b4a07-fae7-429e-bc05-80204a0254cd",
   "metadata": {},
   "source": [
    "It may take a few moments for the Presto engine to restart so any error codes you may receive in the following steps are due to the Presto service not being available yet.\n",
    "\n",
    "Switch to the Data Manager view.\n",
    "\n",
    "![Add Database](images/watsonx-kafka-datamanger-1.png)"
   ]
  },
  {
   "cell_type": "markdown",
   "id": "4592cea7-a984-4dea-aaa5-0e1833900c8f",
   "metadata": {},
   "source": [
    "You should see the Kafka catalog in the list on the left. The schema is called <code style=\"color:blue;background-color: transparent;\">default</code>. If you don't see the service, you may need to refresh the screen to wait for Presto to become available. Clicking on the <code style=\"color:blue;background-color: transparent;\">watsonxdata</code> topic (which is mapped to a table) will display information about this queue.\n",
    "\n",
    "![Add Database](images/watsonx-kafka-datamanger-2.png)"
   ]
  },
  {
   "cell_type": "markdown",
   "id": "9ff9af97-ca3a-4fc7-a2e9-25e96756a1a5",
   "metadata": {},
   "source": [
    "When data is loaded into the queue, you will be able to click on the Data sample tab to look at the messages that have come in.\n",
    "\n",
    "![Add Database](images/watsonx-kafka-data.png)\n"
   ]
  },
  {
   "cell_type": "markdown",
   "id": "77dbd468-b0c8-432e-9892-0cbfce6a855f",
   "metadata": {},
   "source": [
    "Note that the data will not be shown on your system yet since the messages have not yet been loaded into the queue."
   ]
  },
  {
   "cell_type": "markdown",
   "id": "75b8ee53-17a5-4597-9e26-a288e66643eb",
   "metadata": {},
   "source": [
    "## Producers and Consumers\n",
    "Kafka uses the concept of producers and consumers which was discussed at the beginning of this notebook. A producer will generate records that are sent to the Kafka topic (queue) and held for consumers to read. In this system, we are going to write a Python program that will read the customer.csv file (found in the staging-bucket directory) and place the records into the Kafka queue (watsonxdata) at a rate of 10 record per second. As these records are produced, we can view the queue in the watsonx.data UI or through SQL.\n",
    "\n",
    "The first step is to register a producer connection."
   ]
  },
  {
   "cell_type": "code",
   "execution_count": null,
   "id": "7523b90e-b71a-46a8-a286-5c7206882c68",
   "metadata": {},
   "outputs": [],
   "source": [
    "from confluent_kafka import Producer\n",
    "\n",
    "producer = Producer(\n",
    "   {'bootstrap.servers': 'watsonxdata:29092'}\n",
    ")"
   ]
  },
  {
   "cell_type": "markdown",
   "id": "eb886781-9ad0-4bfa-a7da-e6a68b764757",
   "metadata": {},
   "source": [
    "### Read the CSV file into Pandas\n",
    "This code will import the CSV file and create a JSON record for each one."
   ]
  },
  {
   "cell_type": "code",
   "execution_count": null,
   "id": "d2dd8bad-4cb9-4c45-9c51-e360661c880f",
   "metadata": {},
   "outputs": [],
   "source": [
    "import csv\n",
    "\n",
    "csv_in = \"staging-bucket/customer.csv\"\n",
    "csv_in = \"staging-bucket/orders.csv\"\n",
    "with open(csv_in, newline='') as csvfile:\n",
    "    reader = csv.DictReader(csvfile)\n",
    "    data = [row for row in reader]"
   ]
  },
  {
   "cell_type": "markdown",
   "id": "cf508d20-bec8-4f24-86c5-37b3f9925cfe",
   "metadata": {},
   "source": [
    "### Create the Workload Function\n",
    "When you run the next block of code, it will take each JSON record and send it to the Kafka queue. There is a check done to make sure that the <code style=\"color:blue;background-color: transparent;\">unit_price</code> value is a number and positive. There are some records in the data set that are invalid and this will remove them from the data. \n",
    "\n",
    "The function will first delete the contents of the Topic queue (watsonxdata) and then it will insert records per second into the queue. If you run the function in the foreground, there is no delay in the insert time. If the function is run in the background, it will insert 20 rows per second. \n",
    "\n",
    "Running the next cell will only register the function, not run it. You have two options for running this code:\n",
    "\n",
    "  * <code style=\"color:blue;background-color: transparent;\">sendMessages(True)</code> - The mode will run in the foreground, placing the records in the queue (No delay)\n",
    "  * <code style=\"color:blue;background-color: transparent;\">sendMessages(False)</code> - This is the default mode where the code will run in the background (10 messages/sec)"
   ]
  },
  {
   "cell_type": "code",
   "execution_count": null,
   "id": "71d0962f-beb3-406f-8166-80e1f6cae146",
   "metadata": {},
   "outputs": [],
   "source": [
    "def sendMessages(inline=False):\n",
    "    \n",
    "    from time import sleep\n",
    "    from multiprocessing.pool import ThreadPool    \n",
    "    from confluent_kafka.admin import AdminClient, KafkaException\n",
    "    import json\n",
    "    import decimal\n",
    "\n",
    "    global running\n",
    "\n",
    "    def callback(message):\n",
    "        global running\n",
    "        running = False\n",
    "    \n",
    "    def insertMessages(inline):\n",
    "\n",
    "        if (inline == True):\n",
    "            pause = .01\n",
    "        else:\n",
    "            pause = .05        \n",
    "        \n",
    "        row_count = len(data)\n",
    "        current_row = 0\n",
    "        if (inline == True):\n",
    "            print(f\"Loading {row_count} rows into the queue\")\n",
    "        for row in data:\n",
    "            current_row += 1  \n",
    "            order_id    = row.get(\"order_id\",\"\").strip()\n",
    "            order_date  = row.get(\"order_date\",\"\").strip()\n",
    "            customer_id = row.get(\"customer_id\",\"\").strip()\n",
    "            product_id  = row.get(\"product_id\",\"\").strip()\n",
    "            quantity    = row.get(\"quantity\",\"\").strip()\n",
    "            unit_price  = row.get(\"unit_price\",\"\").strip()\n",
    "            if (order_id in [None,\"\"] or\n",
    "                order_date in [None,\"\"] or\n",
    "                customer_id in [None,\"\"] or\n",
    "                product_id in [None,\"\"] or\n",
    "                quantity in [None,\"\"] or\n",
    "                unit_price in [None,\"\"]):\n",
    "                if (inline == True): \n",
    "                    print(f\"\\nRow {current_row:4d} Skipped (invalid data)\")\n",
    "                continue\n",
    "            \n",
    "            try:\n",
    "                uprice = decimal.Decimal(unit_price)\n",
    "                if (uprice <= 0):\n",
    "                    if (inline == True): \n",
    "                        print(f\"\\nRow {current_row:4d} Skipped (invalid price)\")\n",
    "                    continue\n",
    "            except:\n",
    "                if (inline == True): \n",
    "                    print(f\"\\nRow {current_row:4d} Skipped (invalid price)\")\n",
    "                continue\n",
    "\n",
    "            if (inline == True):\n",
    "                print(f\"Row {current_row:4d}/{row_count} Loaded                    \",end=\"\\r\")\n",
    "        \n",
    "            try:\n",
    "                producer.produce(\"watsonxdata\",value=json.dumps(row))\n",
    "                producer.flush()\n",
    "            except Exception as err:\n",
    "                return False\n",
    "            sleep(pause)\n",
    "\n",
    "        return False\n",
    "\n",
    "    running = True\n",
    " \n",
    "    if (inline == False):\n",
    "        pool = ThreadPool(processes=1)\n",
    "        async_result = pool.apply_async(insertMessages, (False,), callback=callback)    \n",
    "        print(\"Messages are being inserted in the background\")\n",
    "    else:\n",
    "        insertMessages(True)"
   ]
  },
  {
   "cell_type": "markdown",
   "id": "88e87a61-a42d-42e0-bfee-534472038dfd",
   "metadata": {},
   "source": [
    "## Connect to watsonx.data\n",
    "\n",
    "You can now connect to this Kafka queue through watsonx.data using a Presto connection. First load the Presto Magic commands."
   ]
  },
  {
   "cell_type": "code",
   "execution_count": null,
   "id": "04accaa4-ffcc-4e09-82a4-b8689573830a",
   "metadata": {},
   "outputs": [],
   "source": [
    "%run presto.ipynb"
   ]
  },
  {
   "cell_type": "markdown",
   "id": "3de5b0b6-bab4-43cc-a7f5-02cd1842281a",
   "metadata": {},
   "source": [
    "We then connect to the watsonx.data engine with a connect command."
   ]
  },
  {
   "cell_type": "code",
   "execution_count": null,
   "id": "488edee7-0402-4309-b398-6a18f9217cf1",
   "metadata": {},
   "outputs": [],
   "source": [
    "%%sql\n",
    "   connect\n",
    "   userid=ibmlhadmin\n",
    "   password=password\n",
    "   hostname=watsonxdata\n",
    "   port=8443\n",
    "   catalog=tpch\n",
    "   schema=tiny\n",
    "   certfile=/certs/lh-ssl-ts.crt"
   ]
  },
  {
   "cell_type": "markdown",
   "id": "0042ee15-f357-486d-bc04-d18b0b58a197",
   "metadata": {},
   "source": [
    "### Delete the Contents of a Topic\n",
    "The data is available through the <code style=\"color:blue;background-color: transparent;\">kafka</code> catalog. The schema is called <code style=\"color:blue;background-color: transparent;\">default</code> when it is added to the watsonx.data system. The table name will be the name of the topic (queue). The next cell will make sure that there is no data in the queue."
   ]
  },
  {
   "cell_type": "code",
   "execution_count": null,
   "id": "8bff33ad-b33f-4cce-a233-ce66d22cc996",
   "metadata": {},
   "outputs": [],
   "source": [
    "admin_client = AdminClient(\n",
    "    {\n",
    "        'bootstrap.servers': 'watsonxdata:29092',\n",
    "    }\n",
    ")    \n",
    "\n",
    "try:\n",
    "    metadata = admin_client.delete_topics(['watsonxdata'])\n",
    "    for topic, f in metadata.items():\n",
    "        print(f\"Topic {topic} deleted\")\n",
    "    \n",
    "except Exception as err:\n",
    "    print(repr(err))   "
   ]
  },
  {
   "cell_type": "markdown",
   "id": "7399bff9-51f8-4d9b-b222-de9616fc10bc",
   "metadata": {},
   "source": [
    "The Kafka server has been configured to auto-create Topics. What this means is that when a Topic is deleted (and the messages discarded), the Topic no longer exists, but will be recreated when a producer or consumer sends a request to use that topic. Trying to run the above command will result in an error message after a Topic has been deleted. However, the Topic does exist in the Kafka catalog.\n",
    "\n",
    "You can check that the topic does not exist using the next command."
   ]
  },
  {
   "cell_type": "code",
   "execution_count": null,
   "id": "f838eaa7-472a-4a40-83de-dcd54e9277d8",
   "metadata": {},
   "outputs": [],
   "source": [
    "try:\n",
    "    topics = False\n",
    "    metadata = admin_client.list_topics()\n",
    "    for t in iter(metadata.topics.values()):\n",
    "        topics = True\n",
    "        print(f\"Topic: {t.topic}\")   \n",
    "except Exception as err:\n",
    "    print(repr(err))   \n",
    "\n",
    "if (topics == False):\n",
    "    print(\"No topics found\")"
   ]
  },
  {
   "cell_type": "markdown",
   "id": "173fd0c9-9565-4904-af9d-1100f63a6469",
   "metadata": {},
   "source": [
    "We can also check using the watsonx.data connection to get a count of messages in the Topic."
   ]
  },
  {
   "cell_type": "code",
   "execution_count": null,
   "id": "8d527346-934f-4bd4-9910-cc5d47aa738a",
   "metadata": {},
   "outputs": [],
   "source": [
    "%sql select count(*) from  \"kafka\".\"default\".\"watsonxdata\""
   ]
  },
  {
   "cell_type": "markdown",
   "id": "1aa11d74-7659-4595-88b8-0c483cbcd74d",
   "metadata": {},
   "source": [
    "Note how the topic has now been recreated!"
   ]
  },
  {
   "cell_type": "code",
   "execution_count": null,
   "id": "ca9c3f2e-b1a7-481a-a908-636a4984d87d",
   "metadata": {},
   "outputs": [],
   "source": [
    "try:\n",
    "    topics = False\n",
    "    metadata = admin_client.list_topics()\n",
    "    for t in iter(metadata.topics.values()):\n",
    "        topics = True\n",
    "        print(f\"Topic: {t.topic}\")   \n",
    "except Exception as err:\n",
    "    print(repr(err))   \n",
    "\n",
    "if (topics == False):\n",
    "    print(\"No topics found\")  "
   ]
  },
  {
   "cell_type": "markdown",
   "id": "004a8c5f-fc49-4d76-b533-6fc41ac2ddb7",
   "metadata": {},
   "source": [
    "### Start the Workload\n",
    "The next statement will begin inserting messages into the queue. If you want to load all messages immediately, change the <code style=\"color:blue;background-color: transparent;\">run_foreground</code> parameter from <code style=\"color:blue;background-color: transparent;\">False</code> to <code style=\"color:blue;background-color: transparent;\">True</code>. Approximately 500 rows will be placed into the queue."
   ]
  },
  {
   "cell_type": "code",
   "execution_count": null,
   "id": "25c6682f-a7e3-462d-9ee9-cc95cc5fc518",
   "metadata": {},
   "outputs": [],
   "source": [
    "run_foreground = False\n",
    "sendMessages(run_foreground)"
   ]
  },
  {
   "cell_type": "markdown",
   "id": "66cd1f3e-c0ec-470c-b6e4-b481fe916822",
   "metadata": {},
   "source": [
    "If the program is running in the background, we can check the progress by using SQL. The sendMessages code (above) will set a Python variable (running) to False when it stops creating messages.\n",
    "\n",
    "The next block of code will run until the insert process is complete. The code checks the record count every second."
   ]
  },
  {
   "cell_type": "code",
   "execution_count": null,
   "id": "0cad29b9-8a34-465d-b79b-5d48ffd2a3f5",
   "metadata": {},
   "outputs": [],
   "source": [
    "from time import sleep\n",
    "while (running == True):\n",
    "    x = %sql --raw select count(*) from \"kafka\".\"default\".\"watsonxdata\"\n",
    "    print(f\"SQL count  : {x[0][0]:4}\",end=\"\\r\")\n",
    "    sleep(1)\n",
    "\n",
    "x = %sql --raw select count(*) from \"kafka\".\"default\".\"watsonxdata\"\n",
    "print(f\"\\nFinal count: {x[0][0]:4}\")"
   ]
  },
  {
   "cell_type": "markdown",
   "id": "628d4cd6-a2de-473a-bc73-a41304207e35",
   "metadata": {},
   "source": [
    "## Kafka Consumer\n",
    "Once the messages are on the queue, you can read them by using a Kafka Consumer. This block of code will connect to the <code style=\"color:blue;background-color: transparent;\">watsonxdata</code> Topic and read the records on the queue. The returned JSON records will be shredded and placed into a Pandas dataframe for viewing.\n",
    "\n",
    "The <code style=\"color:blue;background-color: transparent;\">group.id</code> in the program below is generated each time the code is run. This guarantees that the program will see all of the messages since the topic was created (offest: earliest). If you place a value in there (i.e., watsonx), the program will read the data on the first run. After that, it will only read messages that are \"new\". The code will exit after 10 attempts at reading something from the topic. "
   ]
  },
  {
   "cell_type": "code",
   "execution_count": null,
   "id": "ddfdfa8b-33b1-4dc4-a945-3253745f4854",
   "metadata": {},
   "outputs": [],
   "source": [
    "from confluent_kafka import Consumer\n",
    "from IPython.display import display, HTML\n",
    "import uuid\n",
    "\n",
    "consumer = Consumer(\n",
    "   {\n",
    "    'bootstrap.servers'   : 'watsonxdata:29092',\n",
    "    'group.id'            : uuid.uuid1(),\n",
    "    'session.timeout.ms'  : 6000,\n",
    "    'default.topic.config': {\n",
    "        'auto.offset.reset': 'earliest'\n",
    "    } \n",
    "   }\n",
    ")\n",
    "\n",
    "consumer.subscribe([\"watsonxdata\"])\n",
    "\n",
    "rows = []\n",
    "\n",
    "retries = 0\n",
    "\n",
    "try:\n",
    "    while True:\n",
    "        msg = consumer.poll(1)\n",
    "        if msg is None:\n",
    "            retries += 1\n",
    "            if (retries <= 10 and len(rows) == 0):\n",
    "                pass\n",
    "            else:\n",
    "                break\n",
    "        elif msg.error():\n",
    "            print(\"Error: %s\".format(msg.error()))\n",
    "            break\n",
    "        else:\n",
    "            retries = 0\n",
    "            row = msg.value().decode('utf8')\n",
    "            rows.append(row)\n",
    "            \n",
    "except KeyboardInterrupt:\n",
    "    pass\n",
    "finally:\n",
    "    consumer.close()\n",
    "\n",
    "if (len(rows) > 0):\n",
    "    json_array = [ json.loads(row) for row in rows ]\n",
    "    df = pd.DataFrame(json_array)\n",
    "    display(HTML(df.to_html()))\n",
    "else:\n",
    "    print(\"No records found\")"
   ]
  },
  {
   "cell_type": "markdown",
   "id": "c0594998-6e44-4e7b-af27-9b4d0836282a",
   "metadata": {},
   "source": [
    "## Watsonx.data SQL\n",
    "You can view the data in watsonx.data using the SQL interface in the UI. You can also use Presto SQL to view the data. The following example will shred the message contents into column using the built-in JSON functions."
   ]
  },
  {
   "cell_type": "code",
   "execution_count": null,
   "id": "9bc1c794-1325-4779-8e29-cf298a9858f2",
   "metadata": {},
   "outputs": [],
   "source": [
    "%%sql\n",
    "SELECT\n",
    "  cast(json_extract_scalar(_message,'order_id') as integer) as order_id,\n",
    "  cast(json_extract_scalar(_message,'order_date') as date) as order_date,\n",
    "  cast(json_extract_scalar(_message,'customer_id') as integer) as customer_id,\n",
    "  cast(json_extract_scalar(_message,'product_id') as integer) as product_id,\n",
    "  cast(json_extract_scalar(_message,'quantity') as integer)  as quantity,\n",
    "  cast(json_extract_scalar(_message,'unit_price') as decimal(7,2)) as unit_price\n",
    "FROM\n",
    "  \"kafka\".\"default\".\"watsonxdata\""
   ]
  },
  {
   "cell_type": "markdown",
   "id": "cb75c4e3-7510-43d2-a2f9-acdbc7b94ce3",
   "metadata": {},
   "source": [
    "### Clear the Messages\n",
    "We can clear the messages from the topic (Queue) and attempt to query the data again to recreate the topic."
   ]
  },
  {
   "cell_type": "code",
   "execution_count": null,
   "id": "99ab0ea9-740b-473a-84aa-8234827dd119",
   "metadata": {},
   "outputs": [],
   "source": [
    "admin_client = AdminClient(\n",
    "    {\n",
    "        'bootstrap.servers': 'watsonxdata:29092',\n",
    "    }\n",
    ")    \n",
    "try:\n",
    "    res = admin_client.delete_topics(['watsonxdata'])\n",
    "except Exception as err:\n",
    "    print(repr(err))\n",
    "\n",
    "%sql select count(*) from \"kafka\".\"default\".\"watsonxdata\""
   ]
  },
  {
   "cell_type": "markdown",
   "id": "71a5f218-2451-4364-aca0-f0fcd0e70bb9",
   "metadata": {},
   "source": [
    "## Shutdown Kafka\n",
    "The following code will shutdown our Kafka service. This will remove all of the Topics that were created so that the scripts in this section can be run again."
   ]
  },
  {
   "cell_type": "code",
   "execution_count": null,
   "id": "fa3d688e-b8f7-4460-ae3d-f1eaba088c13",
   "metadata": {},
   "outputs": [],
   "source": [
    "%system docker compose -p kafka -f kafka-compose.yaml down"
   ]
  },
  {
   "cell_type": "markdown",
   "id": "1d1d6baf-1c96-49b0-bff4-8fb222689142",
   "metadata": {},
   "source": [
    "#### Credits: IBM 2024, George Baklarz [baklarz@ca.ibm.com], Chunyu Jiang [Chunyu.Jiang@ibm.com]"
   ]
  }
 ],
 "metadata": {
  "kernelspec": {
   "display_name": "Python 3 (ipykernel)",
   "language": "python",
   "name": "python3"
  },
  "language_info": {
   "codemirror_mode": {
    "name": "ipython",
    "version": 3
   },
   "file_extension": ".py",
   "mimetype": "text/x-python",
   "name": "python",
   "nbconvert_exporter": "python",
   "pygments_lexer": "ipython3",
   "version": "3.9.18"
  }
 },
 "nbformat": 4,
 "nbformat_minor": 5
}
