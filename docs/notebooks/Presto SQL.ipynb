{
 "cells": [
  {
   "cell_type": "markdown",
   "id": "babf0d52-9514-49e6-b7f8-bc17a2fc1947",
   "metadata": {},
   "source": [
    "![Top <](./images/watsonxdata.png \"watsonxdata\")"
   ]
  },
  {
   "cell_type": "markdown",
   "id": "c5b0f5e3-8f5b-40c8-b65d-1355356a3d20",
   "metadata": {},
   "source": [
    "# Presto SQL Introduction\n",
    "Watsonx.data is based on open source PrestoDB, a distributed query engine that enables querying data stored in open file formats using open table formats for optimization or performance.  This notebook will examine some of the SQL features that are available in watsonx.data. All the below tasks will be done using the Developer edition of watsonx.data."
   ]
  },
  {
   "cell_type": "markdown",
   "id": "d1c81e5c-f5c6-499f-91d2-65c666a8fac1",
   "metadata": {},
   "source": [
    "## Connect to watsonx.data and Presto\n",
    "Connectivity to Presto can be done using the following methods:\n",
    "\n",
    "   * Command line interface(CLI)\n",
    "   * Windows, Linux, OSX\n",
    "   * JDBC drivers\n",
    "   * watsonx.data UI\n",
    "\n",
    "This notebook will use magic commands (`%sql`) to issue commands against the watsonx.data Presto database. You can examine the code in the presto.ipynb notebook for more details. The code is using a combination of the prestodb driver, SQLAlchemy, DBAPI, and Pandas dataframes. The next cell will load the %sql extensions. Note that this extension does not understand all of the Presto SQL dialect. It is sufficient to run the examples in the notebook."
   ]
  },
  {
   "cell_type": "code",
   "execution_count": null,
   "id": "a43aa16f-9ee9-48d6-af7d-cf64a4ef0e64",
   "metadata": {},
   "outputs": [],
   "source": [
    "%run presto.ipynb"
   ]
  },
  {
   "cell_type": "markdown",
   "id": "a537e873-da7b-47cc-b6f8-309f19d09b87",
   "metadata": {},
   "source": [
    "The next SQL statement will connect to the watsonx.data server. These values are pre-populated and you do not need to make any changes for this to work. If you were using watsonx.data on a different server you will need to update these settings."
   ]
  },
  {
   "cell_type": "code",
   "execution_count": null,
   "id": "c2ea6601-2517-4bc6-8469-7949473ac7c4",
   "metadata": {},
   "outputs": [],
   "source": [
    "%%sql\n",
    "   connect\n",
    "   userid=ibmlhadmin\n",
    "   password=password\n",
    "   hostname=watsonxdata\n",
    "   port=8443\n",
    "   catalog=tpch\n",
    "   schema=tiny\n",
    "   certfile=/certs/lh-ssl-ts.crt"
   ]
  },
  {
   "cell_type": "markdown",
   "id": "556c1f97-4c88-40e1-929b-addcdbf5c7ab",
   "metadata": {},
   "source": [
    "## Overview of Schemas and Catalogs\n",
    "\n",
    "We are going to inspect the available catalogs in the watsonx.data system. A watsonx.data catalog contains schemas and references a data source via a connector. A connector is like a driver for a database. Watsonx.data connectors are an implementation of Presto’s SPI which allows Presto to interact with a resource. There are several built-in connectors for JMX, Hive, TPCH etc., some of which you will use as part of the labs.\n",
    "\n",
    "Display the catalogs."
   ]
  },
  {
   "cell_type": "code",
   "execution_count": null,
   "id": "d6b2e4fd-0dd7-4ce1-85f2-344d4664188f",
   "metadata": {},
   "outputs": [],
   "source": [
    "%sql show catalogs"
   ]
  },
  {
   "cell_type": "markdown",
   "id": "0ce323df-77ad-4e17-ac23-bc5739ba2262",
   "metadata": {},
   "source": [
    "Let's look up what schemas are available with any given catalog. We will use the TPCH catalog which is an internal PrestoDB auto-generated catalog and look at the available schemas."
   ]
  },
  {
   "cell_type": "code",
   "execution_count": null,
   "id": "ec364738-6bee-4937-80cb-4188f71846f2",
   "metadata": {},
   "outputs": [],
   "source": [
    "%sql show schemas in tpch"
   ]
  },
  {
   "cell_type": "markdown",
   "id": "c8068509-0b65-4318-a121-30764a42ae88",
   "metadata": {},
   "source": [
    "You can connect to a specific catalog and schema and look at the tables. This requires that you update the catalog and schema that you want to view. The %sql driver uses the `USE` command:\n",
    "```\n",
    "%sql USE SCHEMA [schema_name]\n",
    "%sql USE CATALOG [catalog_name] SCHEMA [schema_name]\n",
    "```\n",
    "Connect to the `tpch` catalog and set the schema to `tiny`."
   ]
  },
  {
   "cell_type": "code",
   "execution_count": null,
   "id": "33cc81f5-bca0-4fd5-b4ba-eb96ea4cd595",
   "metadata": {},
   "outputs": [],
   "source": [
    "%sql use tpch.tiny"
   ]
  },
  {
   "cell_type": "markdown",
   "id": "71230e6a-23b3-42d5-a0af-a48d6ae25b34",
   "metadata": {},
   "source": [
    "Look at the available tables in the `TPCH` catalog under the `tiny` schema."
   ]
  },
  {
   "cell_type": "code",
   "execution_count": null,
   "id": "f77ae7f3-835b-4417-88ff-dc50183d0ab8",
   "metadata": {},
   "outputs": [],
   "source": [
    "%sql show tables"
   ]
  },
  {
   "cell_type": "markdown",
   "id": "94462002-8d96-412b-b60a-37b3b3ca3bd6",
   "metadata": {},
   "source": [
    "Inspect schema of the customer table."
   ]
  },
  {
   "cell_type": "code",
   "execution_count": null,
   "id": "c2e6f00b-3ff3-4f4b-b984-a00b94667c3f",
   "metadata": {},
   "outputs": [],
   "source": [
    "%sql describe customer"
   ]
  },
  {
   "cell_type": "markdown",
   "id": "2a2c97e1-9602-4a0e-aa1a-eabcdafcacb4",
   "metadata": {},
   "source": [
    "You could also use the syntax below to achieve the same result."
   ]
  },
  {
   "cell_type": "code",
   "execution_count": null,
   "id": "e6dc6fe5-6ff0-40a3-995a-6f10f3860f10",
   "metadata": {},
   "outputs": [],
   "source": [
    "%sql show columns from customer"
   ]
  },
  {
   "cell_type": "markdown",
   "id": "01a9425c-864d-48f3-b573-4bdf1776333c",
   "metadata": {},
   "source": [
    "Inspect available functions."
   ]
  },
  {
   "cell_type": "code",
   "execution_count": null,
   "id": "56b46949-0d70-4daa-8aa6-b2b0464d2c6e",
   "metadata": {},
   "outputs": [],
   "source": [
    "%sql show functions like 'date%'"
   ]
  },
  {
   "cell_type": "markdown",
   "id": "a01cbc29-ab1d-41b2-ba96-8bb0ceabd701",
   "metadata": {},
   "source": [
    "Switch to a different schema. The `USE [schema]` command is used to switch to a different schema. "
   ]
  },
  {
   "cell_type": "code",
   "execution_count": null,
   "id": "1753d84a-a28d-43a3-b924-fd782343cd0d",
   "metadata": {},
   "outputs": [],
   "source": [
    "%sql use sf1"
   ]
  },
  {
   "cell_type": "markdown",
   "id": "185f5e65-6138-43ff-afc4-d705eda017cf",
   "metadata": {},
   "source": [
    "Display the Tables in the schema."
   ]
  },
  {
   "cell_type": "code",
   "execution_count": null,
   "id": "c9e9d7be-aac5-49d0-8a65-c419d1499b9a",
   "metadata": {},
   "outputs": [],
   "source": [
    "%sql show tables"
   ]
  },
  {
   "cell_type": "markdown",
   "id": "c6cad6dc-8675-4137-91aa-4423c468f808",
   "metadata": {},
   "source": [
    "Query data from customer table."
   ]
  },
  {
   "cell_type": "code",
   "execution_count": null,
   "id": "4f4536d1-192e-4ea1-a1dd-4ae11a150c5b",
   "metadata": {},
   "outputs": [],
   "source": [
    "%sql select * from customer limit 5"
   ]
  },
  {
   "cell_type": "markdown",
   "id": "55e2571b-4a7c-4cbc-872d-a6f7c890c52a",
   "metadata": {},
   "source": [
    "Gather statistics on a given table."
   ]
  },
  {
   "cell_type": "code",
   "execution_count": null,
   "id": "7da4dde7-f8e4-4e95-8789-c962264cea46",
   "metadata": {},
   "outputs": [],
   "source": [
    "%sql show stats for customer"
   ]
  },
  {
   "cell_type": "markdown",
   "id": "e4f76cc7-ba17-4ba2-b999-42db93998969",
   "metadata": {},
   "source": [
    "## Creating Schemas and Tables\n",
    "\n",
    "Not all catalogs support creation of schemas - as an example, the TPCH catalog is not writeable. We will use the iceberg_data catalog for this exercise. Check to see if the workshop schema exists and then delete the tables associated with it."
   ]
  },
  {
   "cell_type": "code",
   "execution_count": null,
   "id": "2abc5392-eb56-4235-aa02-c1a98e15f768",
   "metadata": {},
   "outputs": [],
   "source": [
    "%%sql\n",
    "use iceberg_data.none;\n",
    "drop table if exists workshop.customer;\n",
    "drop table if exists workshop.orders;\n",
    "drop table if exists workshop.part_customer;\n",
    "drop table if exists example.customer;\n",
    "drop schema if exists workshop;\n",
    "drop schema if exists example;"
   ]
  },
  {
   "cell_type": "markdown",
   "id": "a248cc88-5d25-4f2e-956b-78192c12e2a0",
   "metadata": {},
   "source": [
    "### Creating Schemas\n",
    "We are going to create a schema that points to an S3 bucket on the system."
   ]
  },
  {
   "cell_type": "code",
   "execution_count": null,
   "id": "6f792ffb-6998-4a3b-b49d-815a6a432b91",
   "metadata": {},
   "outputs": [],
   "source": [
    "%sql CREATE SCHEMA IF NOT EXISTS workshop with (location='s3a://iceberg-bucket/')"
   ]
  },
  {
   "cell_type": "markdown",
   "id": "4b80c2ca-e6c5-4dc5-b120-7eefdbbb9c05",
   "metadata": {},
   "source": [
    "Show the schemas available."
   ]
  },
  {
   "cell_type": "code",
   "execution_count": null,
   "id": "622ed685-8bc9-4c4e-91d6-2e73bf6d8aef",
   "metadata": {},
   "outputs": [],
   "source": [
    "%sql show schemas"
   ]
  },
  {
   "cell_type": "markdown",
   "id": "39b723f4-2172-4dcc-86ac-3d487bc3504c",
   "metadata": {},
   "source": [
    "Use the workshop schema."
   ]
  },
  {
   "cell_type": "code",
   "execution_count": null,
   "id": "f2d551df-4052-4821-8aff-d01caf025f2b",
   "metadata": {},
   "outputs": [],
   "source": [
    "%sql use workshop"
   ]
  },
  {
   "cell_type": "markdown",
   "id": "24902d84-4c7d-406b-9536-9d6719b58efa",
   "metadata": {},
   "source": [
    "### Creating tables\n",
    "\n",
    "Create a new Apache Iceberg table using existing data in the sample Customer table as part of the TPCH catalog schema called TINY."
   ]
  },
  {
   "cell_type": "code",
   "execution_count": null,
   "id": "e462c12f-5791-4420-a118-aeecc2b5b082",
   "metadata": {},
   "outputs": [],
   "source": [
    "%sql create table customer as select * from tpch.tiny.customer"
   ]
  },
  {
   "cell_type": "markdown",
   "id": "e909eb04-8c32-462f-9b65-9172209f1068",
   "metadata": {},
   "source": [
    "Show the tables."
   ]
  },
  {
   "cell_type": "code",
   "execution_count": null,
   "id": "33c8ba34-a5fa-493a-947d-e2d319e23aa9",
   "metadata": {},
   "outputs": [],
   "source": [
    "%sql show tables"
   ]
  },
  {
   "cell_type": "markdown",
   "id": "5eb6c047",
   "metadata": {},
   "source": [
    "## System Connectors\n",
    "The Presto System connector provides information and metrics about the currently running Presto cluster. You can use this function to monitor the workloads on the Presto cluster using normal SQL queries.\n",
    "### What queries are currently running?"
   ]
  },
  {
   "cell_type": "code",
   "execution_count": null,
   "id": "37c0d294",
   "metadata": {},
   "outputs": [],
   "source": [
    "%sql select * from \"system\".runtime.queries limit 5"
   ]
  },
  {
   "cell_type": "markdown",
   "id": "9779b10c",
   "metadata": {},
   "source": [
    "### What tasks make up a query and where is the task running?"
   ]
  },
  {
   "cell_type": "code",
   "execution_count": null,
   "id": "997d72d1",
   "metadata": {},
   "outputs": [],
   "source": [
    "%sql select * from \"system\".runtime.tasks limit 5"
   ]
  },
  {
   "cell_type": "markdown",
   "id": "886aed1d-ac67-4e9f-a680-8c6eba61359b",
   "metadata": {},
   "source": [
    "## Analytic Workloads\n",
    "\n",
    "Let us start with some simple examples of running queries and analyze the execution. The `workshop` schema was created as part of an earlier step. If you have not run that SQL, the schema will not be available. "
   ]
  },
  {
   "cell_type": "code",
   "execution_count": null,
   "id": "9d045015-5c4f-4d3a-b928-d36d27b414ec",
   "metadata": {},
   "outputs": [],
   "source": [
    "%sql use iceberg_data.workshop"
   ]
  },
  {
   "cell_type": "markdown",
   "id": "c438ec62-e712-4d6f-9e58-04da4428711b",
   "metadata": {
    "jp-MarkdownHeadingCollapsed": true
   },
   "source": [
    "Run a simple scan query which selects customer names and market segment."
   ]
  },
  {
   "cell_type": "code",
   "execution_count": null,
   "id": "aa08a337-4581-4f16-8a39-f496a1cd5e4a",
   "metadata": {},
   "outputs": [],
   "source": [
    "%%sql\n",
    "select \n",
    "   name, mktsegment \n",
    "from \n",
    "   customer \n",
    "limit 3"
   ]
  },
  {
   "cell_type": "markdown",
   "id": "85c7a9e1-b024-40d7-a6df-7556e8f693f0",
   "metadata": {
    "jp-MarkdownHeadingCollapsed": true
   },
   "source": [
    "To understand the query execution plan we use the explain statement."
   ]
  },
  {
   "cell_type": "code",
   "execution_count": null,
   "id": "766f0ec8-3a12-456d-acf1-294c3351111d",
   "metadata": {},
   "outputs": [],
   "source": [
    "%sql --text explain select name, mktsegment from customer"
   ]
  },
  {
   "cell_type": "markdown",
   "id": "b09541fb-a576-4229-b3c4-b5442cc1bb4b",
   "metadata": {
    "jp-MarkdownHeadingCollapsed": true
   },
   "source": [
    "What you see above is the hierarchy of logical operations to execute the query. Explain the query and focus on IO operations."
   ]
  },
  {
   "cell_type": "code",
   "execution_count": null,
   "id": "dd3d4f14-5ab9-41d4-a2d8-ac38057edc8f",
   "metadata": {},
   "outputs": [],
   "source": [
    "%sql --text explain (type io) select name, mktsegment from customer"
   ]
  },
  {
   "cell_type": "markdown",
   "id": "45c14b85-746e-46a8-875e-2607bc97d189",
   "metadata": {
    "jp-MarkdownHeadingCollapsed": true
   },
   "source": [
    "Explain physical execution plan for the query."
   ]
  },
  {
   "cell_type": "code",
   "execution_count": null,
   "id": "12bf0401-3e11-4d03-8cf8-bafa8aaa706a",
   "metadata": {},
   "outputs": [],
   "source": [
    "%sql --text explain (type distributed) select name, mktsegment from customer"
   ]
  },
  {
   "cell_type": "markdown",
   "id": "b00b4dc3-5078-44fb-8c5b-95b0c1f762fc",
   "metadata": {
    "jp-MarkdownHeadingCollapsed": true
   },
   "source": [
    "A fragment represents a stage of the distributed plan. The Presto scheduler schedules the execution by each stage, and stages can be run on separate instances.\n",
    "\n",
    "Create explain statement in a visual format."
   ]
  },
  {
   "cell_type": "code",
   "execution_count": null,
   "id": "c67aaba0-4b44-4d03-9e71-60bedd3d8ef8",
   "metadata": {},
   "outputs": [],
   "source": [
    "x = %sql --text explain (format graphviz) select name, mktsegment from customer"
   ]
  },
  {
   "cell_type": "markdown",
   "id": "bcf688b1-1752-4f09-9321-24326668b80c",
   "metadata": {
    "jp-MarkdownHeadingCollapsed": true
   },
   "source": [
    "Save the data into a file that can then be converted to a graphic image."
   ]
  },
  {
   "cell_type": "code",
   "execution_count": null,
   "id": "56ebaa78-ccfc-49ee-a62f-1ec1b7391e74",
   "metadata": {},
   "outputs": [],
   "source": [
    "explain = %sql --raw explain (format graphviz) select name, mktsegment from customer\n",
    "with open(\"/tmp/plan.dot\",\"w\") as fd:\n",
    "    fd.write(explain[0][0])"
   ]
  },
  {
   "cell_type": "markdown",
   "id": "c3679b53-ed1a-4704-8736-0a25fc6e1631",
   "metadata": {
    "jp-MarkdownHeadingCollapsed": true
   },
   "source": [
    "We are going to format the output from the explain statement and display it as a graphic. "
   ]
  },
  {
   "cell_type": "code",
   "execution_count": null,
   "id": "3775fde3-d277-4d0d-aef2-e142e1e365d1",
   "metadata": {},
   "outputs": [],
   "source": [
    "from IPython.display import Image\n",
    "%system dot -Tpng /tmp/plan.dot > /tmp/plan.png\n",
    "Image(filename='/tmp/plan.png') "
   ]
  },
  {
   "cell_type": "markdown",
   "id": "46aac511-ec01-41d6-b80c-44134bddd893",
   "metadata": {},
   "source": [
    "### Creating a Table with User-defined Partitions\n",
    "Connect to Presto with the Workshop Schema."
   ]
  },
  {
   "cell_type": "code",
   "execution_count": null,
   "id": "46384eee-fb05-4323-a252-0ce87f563a5d",
   "metadata": {},
   "outputs": [],
   "source": [
    "%sql use iceberg_data.workshop"
   ]
  },
  {
   "cell_type": "markdown",
   "id": "a1b31e99-ed31-43dc-a63f-086365915259",
   "metadata": {
    "jp-MarkdownHeadingCollapsed": true
   },
   "source": [
    "Create a partitioned table, based on column `mktsegment` and copy data from `TPCH.TINY.CUSTOMER` table."
   ]
  },
  {
   "cell_type": "code",
   "execution_count": null,
   "id": "6108f234-adcf-4fd4-a678-9f20b9144520",
   "metadata": {},
   "outputs": [],
   "source": [
    "%%sql\n",
    "create table iceberg_data.workshop.part_customer \n",
    "  with (partitioning = array['mktsegment']) \n",
    "  as select * from tpch.tiny.customer"
   ]
  },
  {
   "cell_type": "markdown",
   "id": "c9ac786c-b916-4998-b39d-e0ce99d0e9fd",
   "metadata": {},
   "source": [
    "### Inspect object store directory/object/file structure\n",
    "We can use the MinIO Call Level Interface (CLI) to view the contents of our bucket. We need to extract the userids and passwords for the MinIO service."
   ]
  },
  {
   "cell_type": "code",
   "execution_count": null,
   "id": "974ee000-4b11-4f9e-b9bb-254cbc3a0e49",
   "metadata": {},
   "outputs": [],
   "source": [
    "minio_host        = \"watsonxdata\"\n",
    "minio_port        = \"9000\"\n",
    "minio_access_key  = None\n",
    "minio_secret_key  = None\n",
    "\n",
    "try:\n",
    "    with open('/certs/passwords') as fd:\n",
    "        certs = fd.readlines()\n",
    "    for line in certs:\n",
    "        args = line.split()\n",
    "        if (len(args) >= 3):\n",
    "            system   = args[0].strip()\n",
    "            user     = args[1].strip()\n",
    "            password = args[2].strip()\n",
    "            if (system == \"Minio\"):\n",
    "                minio_access_key = user\n",
    "                minio_secret_key = password\n",
    "            else:\n",
    "                pass\n",
    "except Error as e:\n",
    "    print(\"Certificate file with passwords could not be found\")"
   ]
  },
  {
   "cell_type": "markdown",
   "id": "3228861d-feaf-44d3-a1e7-dac506fa0280",
   "metadata": {},
   "source": [
    "### Minio System Alias\n",
    "Before running any commands against the MinIO server, an alias needs to be created that includes the access and secret key."
   ]
  },
  {
   "cell_type": "code",
   "execution_count": null,
   "id": "76731c39-f612-4ef0-94b9-63034a11d43d",
   "metadata": {},
   "outputs": [],
   "source": [
    "%system mc alias set watsonxdata http://{minio_host}:{minio_port} {minio_access_key} {minio_secret_key}"
   ]
  },
  {
   "cell_type": "markdown",
   "id": "cc3579b4-182d-4a4b-912e-7055e6fd3fb4",
   "metadata": {},
   "source": [
    "### List Buckets\n",
    "The `mc` command provides us with a number of commands that allows us to manage buckets and files within them. The following command checks to see what buckets are available in the system. We want to make sure that the `iceberg-bucket` exists. "
   ]
  },
  {
   "cell_type": "code",
   "execution_count": null,
   "id": "6d35cb18-2486-4caf-b7f5-388886c186b1",
   "metadata": {},
   "outputs": [],
   "source": [
    "%system mc ls tree watsonxdata"
   ]
  },
  {
   "cell_type": "markdown",
   "id": "b5a7d0f5-ff6d-4221-80a6-8804ac4693c1",
   "metadata": {
    "jp-MarkdownHeadingCollapsed": true
   },
   "source": [
    "At this point we can check the file tree for the `iceberg-bucket`."
   ]
  },
  {
   "cell_type": "code",
   "execution_count": null,
   "id": "a70eaabc-4987-4b35-a74d-caea2d73d565",
   "metadata": {},
   "outputs": [],
   "source": [
    "%system mc ls tree watsonxdata/iceberg-bucket"
   ]
  },
  {
   "cell_type": "markdown",
   "id": "2b205d44-a33f-4862-9eda-863cce322614",
   "metadata": {
    "jp-MarkdownHeadingCollapsed": true
   },
   "source": [
    "Examining the part_customer, you will notice is the data is split into multiple parquet files stored across multiple directories - a single directory for each unique value of the partition key."
   ]
  },
  {
   "cell_type": "code",
   "execution_count": null,
   "id": "5ceb0e66-5500-40ae-b65b-2c813b4bb270",
   "metadata": {},
   "outputs": [],
   "source": [
    "%system mc ls tree watsonxdata/iceberg-bucket/part_customer/data"
   ]
  },
  {
   "cell_type": "markdown",
   "id": "c4c93b75-ac36-42cd-8671-a25fb43e3c28",
   "metadata": {},
   "source": [
    "### Predicate query to utilize partitions\n",
    "Now that have created a partitioned table, we will execute a SQL statement that will make use of this fact."
   ]
  },
  {
   "cell_type": "code",
   "execution_count": null,
   "id": "709e6892-b5bb-426c-ad37-8076ecfc4e7d",
   "metadata": {},
   "outputs": [],
   "source": [
    "%%sql\n",
    "SELECT * \n",
    "  FROM  iceberg_data.\"workshop\".part_customer \n",
    "  WHERE mktsegment='MACHINERY'"
   ]
  },
  {
   "cell_type": "markdown",
   "id": "18a922b4-523c-415c-8519-0b1bd8edf8b9",
   "metadata": {
    "jp-MarkdownHeadingCollapsed": true
   },
   "source": [
    "Due to the partitioning of this table by `mktsegment`, it will completely skip scanning a large percentage of the objects in the object store. We run an explain against this query using the following command."
   ]
  },
  {
   "cell_type": "code",
   "execution_count": null,
   "id": "b9ee7e8c-8df1-44eb-8a71-59e065e16551",
   "metadata": {},
   "outputs": [],
   "source": [
    "explain = \\\n",
    "   %sql --raw explain (format graphviz) \\\n",
    "       select * from iceberg_data.\"workshop\".customer \\\n",
    "       where mktsegment='MACHINERY'\n",
    "with open(\"/tmp/plan.dot\",\"w\") as fd:\n",
    "    fd.write(explain[0][0])\n",
    "%system dot -Tpng /tmp/plan.dot > /tmp/plan.png\n",
    "Image(filename='/tmp/plan.png') "
   ]
  },
  {
   "cell_type": "markdown",
   "id": "02213485-2aed-4b0a-8149-5e6441afab58",
   "metadata": {},
   "source": [
    "## Joins and Aggregations \n",
    "This section will create an orders table to test joins and aggregations. Connect to the workshop schema."
   ]
  },
  {
   "cell_type": "code",
   "execution_count": null,
   "id": "956eec6a-3d1a-492d-9ca2-525cb1024377",
   "metadata": {},
   "outputs": [],
   "source": [
    "%sql use iceberg_data.workshop"
   ]
  },
  {
   "cell_type": "markdown",
   "id": "ca64d199-5680-4f6d-9297-5c4759c8e574",
   "metadata": {
    "jp-MarkdownHeadingCollapsed": true
   },
   "source": [
    "Create the Orders Table."
   ]
  },
  {
   "cell_type": "code",
   "execution_count": null,
   "id": "22b514a0-6916-46e1-a50a-4f6fe9d4d8ee",
   "metadata": {},
   "outputs": [],
   "source": [
    "%%sql\n",
    "create table iceberg_data.workshop.orders as \n",
    "  select * from tpch.tiny.orders"
   ]
  },
  {
   "cell_type": "markdown",
   "id": "27ba8053-41a6-4279-af6a-996f3c32700b",
   "metadata": {
    "jp-MarkdownHeadingCollapsed": true
   },
   "source": [
    "Check that the table exists."
   ]
  },
  {
   "cell_type": "code",
   "execution_count": null,
   "id": "7de0da8b-56a3-4590-8182-aa15cd9fdded",
   "metadata": {},
   "outputs": [],
   "source": [
    "%sql show tables in iceberg_data.workshop"
   ]
  },
  {
   "cell_type": "markdown",
   "id": "bbf89523-5a97-44fd-a1c8-c6a7bd20128b",
   "metadata": {
    "jp-MarkdownHeadingCollapsed": true
   },
   "source": [
    "Use a Windowing function."
   ]
  },
  {
   "cell_type": "code",
   "execution_count": null,
   "id": "4d8dad20-0f4a-4235-81e6-dff601cbbc58",
   "metadata": {},
   "outputs": [],
   "source": [
    "%%sql\n",
    "SELECT \n",
    "   orderkey, clerk, totalprice, \n",
    "   rank() OVER (PARTITION BY clerk ORDER BY totalprice DESC) AS rnk \n",
    "FROM \n",
    "   orders \n",
    "ORDER BY \n",
    "   clerk, rnk"
   ]
  },
  {
   "cell_type": "markdown",
   "id": "f05d23de-87c4-4b5f-be7c-0f0b75273142",
   "metadata": {},
   "source": [
    "## Prepared statements\n",
    "\n",
    "Save a query as a prepared statement."
   ]
  },
  {
   "cell_type": "code",
   "execution_count": null,
   "id": "d4173363-efb9-4bbf-91ae-b7612c5bd177",
   "metadata": {},
   "outputs": [],
   "source": [
    "%%sql\n",
    "prepare \n",
    "   customer_by_segment\n",
    "from \n",
    "   select * from customer where mktsegment=?"
   ]
  },
  {
   "cell_type": "markdown",
   "id": "6703272b-ec98-4955-a926-2064b2bde490",
   "metadata": {
    "jp-MarkdownHeadingCollapsed": true
   },
   "source": [
    "Execute prepared statement using parameters."
   ]
  },
  {
   "cell_type": "code",
   "execution_count": null,
   "id": "e955bf06-5374-4aff-ae15-970f02aee93e",
   "metadata": {},
   "outputs": [],
   "source": [
    "%sql execute customer_by_segment using 'FURNITURE'"
   ]
  },
  {
   "cell_type": "markdown",
   "id": "0cf42e13-773a-4a5c-a9d3-f0439adc121c",
   "metadata": {},
   "source": [
    "## Advanced Functions\n",
    "\n",
    "Watsonx.data supports several types of functions including:\n",
    "\n",
    "   * Mathematical functions\n",
    "   * Conversion functions\n",
    "   * String functions\n",
    "   * Regular expression functions\n",
    "   * Window functions\n",
    "   * URL functions\n",
    "   * Geospatial functions \n",
    "\n",
    "For a complete list see - [https://prestodb.io/docs/current/functions.html](https://prestodb.io/docs/current/functions.html). We will look at using a few simple examples as part of this notebook."
   ]
  },
  {
   "cell_type": "code",
   "execution_count": null,
   "id": "a6fe7694-22c0-4db5-8b70-5266a2721458",
   "metadata": {},
   "outputs": [],
   "source": [
    "%sql use iceberg_data.workshop"
   ]
  },
  {
   "cell_type": "markdown",
   "id": "edb5ca37-38c2-4916-9769-3756f2cd71fa",
   "metadata": {},
   "source": [
    "### Concatenation of one or more string/varchar values\n",
    "Note: We are using a combination of the “concat” string function and the “cast” conversion function as part of this query."
   ]
  },
  {
   "cell_type": "code",
   "execution_count": null,
   "id": "2649915c-034b-461a-ac1f-4639d0dd8fcb",
   "metadata": {},
   "outputs": [],
   "source": [
    "%%sql\n",
    "select \n",
    "   concat(cast(custkey as varchar),'--',name) \n",
    "from \n",
    "   customer\n",
    "limit 2"
   ]
  },
  {
   "cell_type": "markdown",
   "id": "5f6e996b-e7bf-4c46-b862-9b9084a9757d",
   "metadata": {},
   "source": [
    "### Date functions\n",
    "Date functions can be used as part of the projected columns or in the predicate/where clause.\n",
    "Select orders from the last 2 days."
   ]
  },
  {
   "cell_type": "code",
   "execution_count": null,
   "id": "87a4fb94-6896-4fb7-b3a4-095ab09b1f99",
   "metadata": {},
   "outputs": [],
   "source": [
    "%%sql\n",
    "select\n",
    "   orderdate \n",
    "from \n",
    "   orders \n",
    "where \n",
    "   orderdate >  date '1998-08-02' - interval '2' day"
   ]
  },
  {
   "cell_type": "markdown",
   "id": "8ad60dab-b19d-43d7-94e7-2989ecc11bee",
   "metadata": {},
   "source": [
    "Number of orders by year."
   ]
  },
  {
   "cell_type": "code",
   "execution_count": null,
   "id": "18dc1913-9aec-458a-a2af-09a70a4d1c4c",
   "metadata": {},
   "outputs": [],
   "source": [
    "%%sql\n",
    "select \n",
    "   distinct year(orderdate), count(orderkey) \n",
    "from \n",
    "   orders \n",
    "group by \n",
    "   year(orderdate);"
   ]
  },
  {
   "cell_type": "markdown",
   "id": "58c61aeb-45c6-4b44-adc7-b12de1b4972b",
   "metadata": {},
   "source": [
    "### Geospatial functions\n",
    "\n",
    "There are 3 basic geometries, then some complex geometries. The basic geometries include:\n",
    "\n",
    "   * Points\n",
    "   * Lines\n",
    "   * Polygons\n",
    "\n",
    "#### Points\n",
    "\n",
    "You could use [https://www.latlong.net](https://www.latlong.net) to get the longitude/latitude given any address."
   ]
  },
  {
   "cell_type": "code",
   "execution_count": null,
   "id": "d783c528-364e-45ea-9b46-7406d3196477",
   "metadata": {},
   "outputs": [],
   "source": [
    "%%sql --text\n",
    "select \n",
    "   ST_Point(-121.748360,37.195840) as SVL, \n",
    "   ST_Point(-122.378952, 37.621311) as SFO"
   ]
  },
  {
   "cell_type": "markdown",
   "id": "d8c43772-b0a2-46b7-8e93-fb141592d438",
   "metadata": {},
   "source": [
    "#### Lines\n",
    "\n",
    "You could use [https://www.latlong.net](https://www.latlong.net) to get the longitude/latitude for 2 points and then create a straight line from it. Below is just a small stretch of the road leading to IBM SVL campus."
   ]
  },
  {
   "cell_type": "code",
   "execution_count": null,
   "id": "b77cffa2-32ac-4227-8aa5-819aa0cc8059",
   "metadata": {},
   "outputs": [],
   "source": [
    "%%sql --text\n",
    "select \n",
    "   ST_LineFromText('LINESTRING (-121.74294303079807 37.19665657093434, -121.73659072815602 37.20102399761407)')"
   ]
  },
  {
   "cell_type": "markdown",
   "id": "98a80a2e-36da-4999-bbcf-8e50f1946514",
   "metadata": {},
   "source": [
    "#### Polygons\n",
    "\n",
    "You could use [https://geojson.io/#map=16.39/37.196336/-121.746303](https://geojson.io/#map=16.39/37.196336/-121.746303) to click around and generate the coordinates for a polygon of any shape. The following is a polygon of the IBM Silicon Valley campus."
   ]
  },
  {
   "cell_type": "code",
   "execution_count": null,
   "id": "a6465c37-8ae6-4eca-96c3-cd228cf59e28",
   "metadata": {},
   "outputs": [],
   "source": [
    "%%sql --text\n",
    "select ST_Polygon('POLYGON (\n",
    "   (-121.74418635253568 37.196001834113844, \n",
    "    -121.74499684288966 37.19668005184322,\n",
    "    -121.74584008032835 37.19707784979194,  \n",
    "    -121.74629035274705 37.197645197338105, \n",
    "    -121.74672425162339 37.198186455965086, \n",
    "    -121.74705172247337 37.19828427337538, \n",
    "    -121.74760023614738 37.19827775221884,  \n",
    "    -121.74848440744239 37.19836252721197, \n",
    "    -121.74932764488139 37.19789300297414,  \n",
    "    -121.75039192514376 37.19746260319114, \n",
    "    -121.75130884352407 37.19721479614175, \n",
    "    -121.75195559845278 37.1963670290329, \n",
    "    -121.75198015876644 37.19555185937345,  \n",
    "    -121.7508585711051 37.19458016564036, \n",
    "    -121.74940132582242 37.19447582194559,  \n",
    "    -121.74841891327239 37.1942866986312,\n",
    "    -121.7474446874937 37.193556286900346, \n",
    "    -121.74418635253568 37.196001834113844))')"
   ]
  },
  {
   "cell_type": "markdown",
   "id": "3c38743c-d62f-407f-88fb-d8562ab2d5bf",
   "metadata": {},
   "source": [
    "So now that we have 3 basic geometries Point, Line and Polygon we can perform different operations on spatial data including:\n",
    "* Distance between 2 points\n",
    "* Point in polygon\n",
    "* Intersection of line and polygon\n",
    "#### Distance between SFO airport and IBM SVL\n",
    "\n",
    "We can now use geospatial functions in a nested way to find the distance between 2 points."
   ]
  },
  {
   "cell_type": "code",
   "execution_count": null,
   "id": "749fa95a-3023-439c-a796-8adbcc6dabac",
   "metadata": {},
   "outputs": [],
   "source": [
    "%%sql \n",
    "select \n",
    "   ST_Distance(to_spherical_geography(ST_Point(-122.378952, 37.621311)), \n",
    "   to_spherical_geography(ST_Point(-121.748360,37.195840)))*0.000621371 as distance_in_miles;"
   ]
  },
  {
   "cell_type": "markdown",
   "id": "3e8bcd8c-52cf-4f3d-b90f-93e2b2bd341f",
   "metadata": {},
   "source": [
    "## Time Travel\n",
    "Time travel allows you change the view of the data to a previous time. This is not the same as an `AS OF` query commonly used in SQL. The data is rolled back to a prior time. The first step is to create a new bucket that we will use for our example."
   ]
  },
  {
   "cell_type": "markdown",
   "id": "ef82896e-9518-4de5-bef7-8e4c239a4ede",
   "metadata": {},
   "source": [
    "Now we will create a new schema in the iceberg_data catalog that points to this empty bucket. Note how the use statement here uses `None` as the schema since we don't know what we are going to connect to yet."
   ]
  },
  {
   "cell_type": "code",
   "execution_count": null,
   "id": "fb2a4950-f886-494c-819f-5f2732e8205b",
   "metadata": {},
   "outputs": [],
   "source": [
    "%sql use iceberg_data.none\n",
    "%sql drop table if exists example.customer\n",
    "%sql drop schema if exists example"
   ]
  },
  {
   "cell_type": "markdown",
   "id": "c609944e-388a-4e64-9b44-9a52e402e4e3",
   "metadata": {},
   "source": [
    "Next we create the schema that we are going to use."
   ]
  },
  {
   "cell_type": "code",
   "execution_count": null,
   "id": "7d2712dc-26bd-4f95-8782-5e68852f922d",
   "metadata": {},
   "outputs": [],
   "source": [
    "%sql CREATE SCHEMA IF NOT EXISTS iceberg_data.example with (location='s3a://iceberg-bucket/sample')"
   ]
  },
  {
   "cell_type": "code",
   "execution_count": null,
   "id": "0d74282b-05d1-40d0-b0e4-3e4e08cfc536",
   "metadata": {},
   "outputs": [],
   "source": [
    "%sql show schemas in iceberg_data"
   ]
  },
  {
   "cell_type": "markdown",
   "id": "35ab417c-8e5c-4be2-914c-40affd85b46c",
   "metadata": {},
   "source": [
    "In this step we will create the customer table based on the TPCH table of the same name. First step to switch to our schema and then create the customer table."
   ]
  },
  {
   "cell_type": "code",
   "execution_count": null,
   "id": "7c759ea6-db1d-4707-86e8-e9f6a8302d15",
   "metadata": {},
   "outputs": [],
   "source": [
    "%sql use iceberg_data.example\n",
    "%sql create table example.customer as select * from tpch.tiny.customer\n",
    "%sql select * from example.customer limit 10"
   ]
  },
  {
   "cell_type": "markdown",
   "id": "12694127-6581-4875-86e4-f99db038b19c",
   "metadata": {},
   "source": [
    "Let us look at the snapshots available for the customer table in the workshop schema. We currently have just 1 snapshot. First make sure you are in the proper directory."
   ]
  },
  {
   "cell_type": "markdown",
   "id": "65f5312b-d380-4771-8dfe-203b97f3ea37",
   "metadata": {},
   "source": [
    "Check current snapshots – STARTING STATE."
   ]
  },
  {
   "cell_type": "code",
   "execution_count": null,
   "id": "6cc1278c-7524-4298-bec6-eba173bc5dd8",
   "metadata": {},
   "outputs": [],
   "source": [
    "%%sql\n",
    "SELECT \n",
    "   * \n",
    "FROM \n",
    "   iceberg_data.example.\"customer$snapshots\" \n",
    "ORDER BY \n",
    "   committed_at"
   ]
  },
  {
   "cell_type": "markdown",
   "id": "273dae5d-4de1-41e3-8813-bdc1697e4225",
   "metadata": {},
   "source": [
    "Capture the first snapshot ID returned by the SQL statement. You will need this value when you run the rollback command."
   ]
  },
  {
   "cell_type": "code",
   "execution_count": null,
   "id": "8c8c5eb7-2a38-41dd-8c02-09125f4ef97d",
   "metadata": {},
   "outputs": [],
   "source": [
    "%sql SELECT snapshot_id FROM iceberg_data.example.\"customer$snapshots\" ORDER BY committed_at;"
   ]
  },
  {
   "cell_type": "markdown",
   "id": "24656cb4-2d9f-4c36-858f-31338e103be0",
   "metadata": {},
   "source": [
    "For convenience, we are going to get this value and place it into a Python variable for use in another statement."
   ]
  },
  {
   "cell_type": "code",
   "execution_count": null,
   "id": "a7c48f73-fbf1-452f-a730-1d0967860320",
   "metadata": {},
   "outputs": [],
   "source": [
    "snapshot_id = %sql --raw SELECT snapshot_id FROM iceberg_data.example.\"customer$snapshots\" ORDER BY committed_at\n",
    "snapshot_id = snapshot_id[0][0]\n",
    "print(snapshot_id)"
   ]
  },
  {
   "cell_type": "markdown",
   "id": "2eefc44e-2657-482c-b216-b055db54e35e",
   "metadata": {},
   "source": [
    "Remember that number that was returned with the query above. Insert the following record to change the customer table in the workshop schema. "
   ]
  },
  {
   "cell_type": "code",
   "execution_count": null,
   "id": "7740d26b-476a-454a-8d53-bbb0298fbc7a",
   "metadata": {},
   "outputs": [],
   "source": [
    "%%sql\n",
    "insert into example.customer \n",
    "  values(1501,'Deepak','IBM SVL',16,'123-212-3455',\n",
    "         123,'AUTOMOBILE','Testing snapshots')"
   ]
  },
  {
   "cell_type": "markdown",
   "id": "d2e3dadb-a52b-446b-95d2-a837737575d3",
   "metadata": {},
   "source": [
    "Let us look at the snapshots available for the customer table in the workshop schema. You should have 2 snapshots. "
   ]
  },
  {
   "cell_type": "code",
   "execution_count": null,
   "id": "af0548ea-8169-4f0b-a196-2d189e1e70f5",
   "metadata": {},
   "outputs": [],
   "source": [
    "%%sql \n",
    "SELECT \n",
    "   * \n",
    "FROM \n",
    "   iceberg_data.example.\"customer$snapshots\" \n",
    "ORDER BY \n",
    "   committed_at"
   ]
  },
  {
   "cell_type": "markdown",
   "id": "cb5c9135-42cb-4852-a38e-750620174ffe",
   "metadata": {},
   "source": [
    "Querying the customer table in the workshop schema, we can see the record inserted with name=’Deepak’."
   ]
  },
  {
   "cell_type": "code",
   "execution_count": null,
   "id": "1561208e-305b-4e4d-9a8e-1ebbf53e809a",
   "metadata": {},
   "outputs": [],
   "source": [
    "%sql select * from example.customer where name='Deepak'"
   ]
  },
  {
   "cell_type": "markdown",
   "id": "04957850-07b5-4b48-b6a0-c5b527bb30fc",
   "metadata": {},
   "source": [
    "We realize that we don’t want the recent updates or just want to see what the data was at any point in time to respond to regulatory requirements. We will leverage the out-of-box system function `rollback_to_snapshot` to rollback to an older snapshot. The syntax for this function is:\n",
    "```sql\n",
    "CALL iceberg_data.system.rollback_to_snapshot('workshop','customer',x)\n",
    "```\n",
    "\n",
    "The \"x\" would get replaced with the `snapshot_id` number that was found in the earlier query. When using the `%sql` command, you can use the \"{value}\" syntax to substitute values into the string."
   ]
  },
  {
   "cell_type": "code",
   "execution_count": null,
   "id": "249d7f33-60d1-4e52-b958-299331af6e1d",
   "metadata": {},
   "outputs": [],
   "source": [
    "%sql CALL iceberg_data.system.rollback_to_snapshot('example','customer',{snapshot_id})"
   ]
  },
  {
   "cell_type": "markdown",
   "id": "b39a8482-8698-444e-adad-e5104ec1e43c",
   "metadata": {},
   "source": [
    "Querying the customer table in the workshop schema, we cannot see the record inserted with name=’Deepak’."
   ]
  },
  {
   "cell_type": "code",
   "execution_count": null,
   "id": "105a0007-3aa0-40d0-8cee-e49330738c9d",
   "metadata": {},
   "outputs": [],
   "source": [
    "%sql select * from example.customer where name='Deepak'"
   ]
  },
  {
   "cell_type": "markdown",
   "id": "5b720449-bd9e-4931-abdf-ad9077e1dbae",
   "metadata": {},
   "source": [
    "#### Credits: IBM 2024, George Baklarz [baklarz@ca.ibm.com]"
   ]
  }
 ],
 "metadata": {
  "kernelspec": {
   "display_name": "Python 3 (ipykernel)",
   "language": "python",
   "name": "python3"
  },
  "language_info": {
   "codemirror_mode": {
    "name": "ipython",
    "version": 3
   },
   "file_extension": ".py",
   "mimetype": "text/x-python",
   "name": "python",
   "nbconvert_exporter": "python",
   "pygments_lexer": "ipython3",
   "version": "3.9.18"
  }
 },
 "nbformat": 4,
 "nbformat_minor": 5
}
