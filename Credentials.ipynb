{
 "cells": [
  {
   "cell_type": "markdown",
   "id": "11ddbc6d-37d1-46a4-b765-837a5457248e",
   "metadata": {},
   "source": [
    "![Top <](./images/watsonxdata.png \"watsonxdata\")"
   ]
  },
  {
   "cell_type": "markdown",
   "id": "99f83074",
   "metadata": {},
   "source": [
    "# Watsonx.data Credentials\n",
    "You can retrieve the passwords and the certificates for watsonx.data by executing the cell below. "
   ]
  },
  {
   "cell_type": "markdown",
   "id": "b93c1e8a-673b-48b3-9820-4cfd629f38a5",
   "metadata": {},
   "source": [
    "## Userids and Passwords"
   ]
  },
  {
   "cell_type": "code",
   "execution_count": null,
   "id": "3a51945e-d4af-42b1-a94f-9efab38b81c1",
   "metadata": {},
   "outputs": [],
   "source": [
    "with open(\"/certs/passwords\") as fd:\n",
    "    credentials = fd.readlines()\n",
    "    for user in credentials:\n",
    "        print(user,end=\"\")"
   ]
  },
  {
   "cell_type": "markdown",
   "id": "550c745e",
   "metadata": {},
   "source": [
    "## Presto DB Status\n",
    "Use this code to determine if the Presto engine is accepting connections."
   ]
  },
  {
   "cell_type": "code",
   "execution_count": null,
   "id": "ca6e0166-ac04-40c6-af1c-285f48b73451",
   "metadata": {},
   "outputs": [],
   "source": [
    "print(\"Checking Presto Status\")\n",
    "running = False\n",
    "check_count = 0\n",
    "while running == False:\n",
    "    results = %system /root/ibm-lh-dev/bin/presto-run <<< \"show catalogs;\"\n",
    "    for result in results:\n",
    "        if (result.find(\"FINISHED\") != -1):\n",
    "            running = True\n",
    "            break\n",
    "    if (running == False):\n",
    "        print(\".\",end=None)\n",
    "    if (++check_count >= 100):\n",
    "        break\n",
    "\n",
    "if (running == False):\n",
    "    print(\"\\nPresto failed to start\")\n",
    "else:    \n",
    "    print(\"\\nPresto is running\")"
   ]
  },
  {
   "cell_type": "markdown",
   "id": "9307bd12",
   "metadata": {},
   "source": [
    "## Watsonx.data System Status\n",
    "View the status of all services provided by the watsonx.data server."
   ]
  },
  {
   "cell_type": "code",
   "execution_count": null,
   "id": "9823f6be",
   "metadata": {},
   "outputs": [],
   "source": [
    "print(\"Service                   Status\")\n",
    "print(\"------------------------- ------------------\")\n",
    "status = %system /root/ibm-lh-dev/bin/status --all\n",
    "for service in status:\n",
    "    service = service.replace(\"\\t\",\" \")\n",
    "    service = service.replace(\",\",\"\")\n",
    "    service = service.replace(\"0.0.0.0:\",\"\")\n",
    "    items = service.split()\n",
    "    if (items[0] == \"Checking\"): continue\n",
    "    service = items[0].strip()\n",
    "    status_service = items[1].strip()\n",
    "\n",
    "    print(f\"{service:25s} {status_service}\")"
   ]
  },
  {
   "cell_type": "markdown",
   "id": "645c19db-aa4d-45cf-a27e-97de6faf555e",
   "metadata": {},
   "source": [
    "## Watsonx.data Connection Settings\n",
    "When attempting to connect to watsonx.data (Presto), some additional settings are required when using tools such as dBeaver.\n",
    "```\n",
    "SSL                       True\n",
    "SSLTrustStorePath         /certs/presto-key.jks\n",
    "SSLTrustStorePassword     watsonx.data\n",
    "```\n",
    "The SSLTrustStorePath value will need to be changed to the absolute location of the file on your system."
   ]
  },
  {
   "cell_type": "markdown",
   "id": "6d0d75a6-584b-451c-9c7f-a86acf1f4d74",
   "metadata": {},
   "source": [
    "## Certificates\n",
    "\n",
    "You can download the certificate files by clicking on the following links.\n",
    "\n",
    "#### Certificate file\n",
    "\n",
    "<div>\n",
    "Download: <a target=\"_blank\" href=\"./certs/lh-ssl-ts.crt\" download>lh-ssl-ts.crt</a>\n",
    "</div>\n",
    "\n",
    "#### Java Keystore file: \n",
    "\n",
    "<div>\n",
    "Download: <a target=\"_blank\" href=\"./certs/lh-ssl-ts.jks\" download>lh-ssl-ts.jks</a>\n",
    "</div>\n",
    "\n",
    "#### Presto Certificate: \n",
    "\n",
    "<div>\n",
    "Download: <a target=\"_blank\" href=\"./certs/presto-key.jks\" download>presto-key.jks</a>\n",
    "</div>\n",
    "\n",
    "The password for the Presto certificate is `watsonx.data`. When attempting to connect to the database externally, you must use the Techzone server name as the host and use the port that was assigned to the Presto service. There is no need to update the `/etc/hosts` file in order to use this certificate.\n"
   ]
  },
  {
   "cell_type": "markdown",
   "id": "1d1d6baf-1c96-49b0-bff4-8fb222689142",
   "metadata": {},
   "source": [
    "#### Credits: IBM 2023, George Baklarz [baklarz@ca.ibm.com]"
   ]
  }
 ],
 "metadata": {
  "kernelspec": {
   "display_name": "Python 3 (ipykernel)",
   "language": "python",
   "name": "python3"
  },
  "language_info": {
   "codemirror_mode": {
    "name": "ipython",
    "version": 3
   },
   "file_extension": ".py",
   "mimetype": "text/x-python",
   "name": "python",
   "nbconvert_exporter": "python",
   "pygments_lexer": "ipython3",
   "version": "3.9.18"
  }
 },
 "nbformat": 4,
 "nbformat_minor": 5
}
