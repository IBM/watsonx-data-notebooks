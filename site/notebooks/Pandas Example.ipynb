{
 "cells": [
  {
   "cell_type": "markdown",
   "id": "518bb7fc-de60-4504-a554-a00d9b92e607",
   "metadata": {},
   "source": [
    "![Top <](./images/watsonxdata.png \"watsonxdata\")"
   ]
  },
  {
   "cell_type": "markdown",
   "id": "465d7032-7d5a-4ca3-a093-ef717815be4e",
   "metadata": {},
   "source": [
    "# Pandas Code example\n",
    "This code will connect to watsonx.data using a Pandas dataframe and display some data from an existing table that was created in Presto. Note that the certificate is available in this Jupyter notebook environment in the /certs directory."
   ]
  },
  {
   "cell_type": "markdown",
   "id": "998d6016-e0ed-425e-9170-2b1b956ea547",
   "metadata": {},
   "source": [
    "Import the libraries we need to connect."
   ]
  },
  {
   "cell_type": "code",
   "execution_count": null,
   "id": "e4873d81-4a98-40e8-8253-dd0ce48a2f5f",
   "metadata": {},
   "outputs": [],
   "source": [
    "import pandas as pd\n",
    "import sqlalchemy\n",
    "from sqlalchemy import create_engine"
   ]
  },
  {
   "cell_type": "markdown",
   "id": "09baf319-67c0-4c8f-a411-d49fae872b7a",
   "metadata": {},
   "source": [
    "The following cell contains all of the credentials we need to connect to the watsonx.data database. Note that this code is running inside the watsonx.data server. This means that the port number used here is for the internal connection, not the external one. If you want to connect from a Jupyter notebook \"outside\" the watsonx.data server, you would use the following settings:\n",
    "\n",
    "* Hostname - The name of the techzone server that the watsonx.data system was provisioned on.\n",
    "* Port - The port number on the server (which will be different than 8443, but it will map to the 8443 port when it connects to the server).\n",
    "* Certfile - This must be the absolute location of the certificate file\n",
    "\n",
    "You need to extract the lh-ssl-ts.crt file directly from the watsonx.data image by using the following syntax:\n",
    "```\n",
    "scp -P <port> watsonx@<server>:/cert/lh-ssl-ts.crt <file_location>\n",
    "```\n",
    "Replace the following values in the string above:\n",
    "* `<port>` - The port number that was provided in your reservation for SSH commands\n",
    "* `<server>` - The name of the server that the watsonx.data image is running on\n",
    "* `<file_location>` - The location on your local file system that you want to store this file."
   ]
  },
  {
   "cell_type": "code",
   "execution_count": null,
   "id": "7f47193b-5724-4725-883d-bcd1a51bc3ed",
   "metadata": {},
   "outputs": [],
   "source": [
    "userid    = \"ibmlhadmin\"\n",
    "password  = \"password\"\n",
    "hostname  = \"watsonxdata\"\n",
    "port      = \"8443\"\n",
    "catalog   = \"tpch\"\n",
    "schema    = \"tiny\"\n",
    "certfile  = \"/certs/lh-ssl-ts.crt\"\n",
    "connect_args={\n",
    "        'protocol': 'https', \n",
    "        'requests_kwargs': {'verify': f'{certfile}'}\n",
    "        }"
   ]
  },
  {
   "cell_type": "markdown",
   "id": "7eb9c0b0-6bed-4701-b742-08b599bf4479",
   "metadata": {},
   "source": [
    "Create the engine connect to Presto."
   ]
  },
  {
   "cell_type": "code",
   "execution_count": null,
   "id": "357544ef-65b1-417b-a24b-a95cc60047cc",
   "metadata": {},
   "outputs": [],
   "source": [
    "engine = create_engine(\n",
    "   f\"presto://{userid}:{password}@{hostname}:{port}/{catalog}/{schema}\",\n",
    "   connect_args=connect_args\n",
    "   )"
   ]
  },
  {
   "cell_type": "markdown",
   "id": "011e4ba6-1073-4074-ad5c-3f3d027f347f",
   "metadata": {},
   "source": [
    "The next statement will execute a query and retrieve the entire result set."
   ]
  },
  {
   "cell_type": "code",
   "execution_count": null,
   "id": "84e0b425-bff7-4c6f-92ee-17fd709cf776",
   "metadata": {},
   "outputs": [],
   "source": [
    "mypresto = pd.read_sql_query('SELECT * from tpch.tiny.customer',engine)"
   ]
  },
  {
   "cell_type": "markdown",
   "id": "ff34e87c-7d5c-49f7-9f2c-e8af5cbc910d",
   "metadata": {},
   "source": [
    "The variable `mypresto` is a pandas dataframe that you can manipulate or display. The following code will display the dataframe in a scrollable window."
   ]
  },
  {
   "cell_type": "code",
   "execution_count": null,
   "id": "47aa2e04-4d1b-4cd1-a88d-7e90686ccf08",
   "metadata": {},
   "outputs": [],
   "source": [
    "from ipydatagrid import DataGrid\n",
    "DataGrid(mypresto)"
   ]
  },
  {
   "cell_type": "markdown",
   "id": "8a3d2d9e-b74a-4d6e-9246-e5a1bd6b0211",
   "metadata": {},
   "source": [
    "You can use other program like `matplotlib` to create plots on data found in the result set."
   ]
  },
  {
   "cell_type": "code",
   "execution_count": null,
   "id": "9504526e-f754-4649-927c-d9c4a561300e",
   "metadata": {},
   "outputs": [],
   "source": [
    "import matplotlib\n",
    "sumbynation = pd.read_sql_query('SELECT \"c_nationkey\", sum(\"c_acctbal\") as total from tpch.tiny.customer group by \"c_nationkey\" order by 2',engine)\n",
    "sumbynation.plot(kind=\"bar\",x=\"c_nationkey\",y=\"total\")"
   ]
  },
  {
   "cell_type": "markdown",
   "id": "09e7e54d-269a-4ba5-881d-dde938be8857",
   "metadata": {},
   "source": [
    "#### Credits: IBM 2025, George Baklarz [baklarz@ca.ibm.com]"
   ]
  }
 ],
 "metadata": {
  "kernelspec": {
   "display_name": "Python 3 (ipykernel)",
   "language": "python",
   "name": "python3"
  },
  "language_info": {
   "codemirror_mode": {
    "name": "ipython",
    "version": 3
   },
   "file_extension": ".py",
   "mimetype": "text/x-python",
   "name": "python",
   "nbconvert_exporter": "python",
   "pygments_lexer": "ipython3",
   "version": "3.9.21"
  }
 },
 "nbformat": 4,
 "nbformat_minor": 5
}
