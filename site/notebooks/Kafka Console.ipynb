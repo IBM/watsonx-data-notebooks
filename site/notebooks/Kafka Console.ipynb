{
 "cells": [
  {
   "cell_type": "markdown",
   "id": "b09a288b-7761-44dd-9d4b-4aa9539664ee",
   "metadata": {},
   "source": [
    "![Top <](./images/watsonxdata.png \"watsonxdata\")"
   ]
  },
  {
   "cell_type": "markdown",
   "id": "183874ae-2185-4297-8b9f-216b45fb57a2",
   "metadata": {},
   "source": [
    "# Kafka Console\n",
    "\n",
    "This notebook provides instructions on how to start and use the UI for [Apache Kafka Clusters.](https://github.com/provectus/kafka-ui)\n",
    "\n",
    "   >UI for Apache Kafka is a free, open-source web UI to monitor and manage Apache Kafka clusters. The UI for Apache Kafka is a simple     tool that makes your data flows observable, helps find and troubleshoot issues faster and deliver optimal performance. Its lightweight dashboard makes it easy to track key metrics of your Kafka clusters - Brokers, Topics, Partitions, Production, and Consumption.<sup>1</sup>\n",
    "\n",
    "Some of the key features:\n",
    "\n",
    "* Multi-Cluster Management — monitor and manage all your clusters in one place\n",
    "* Performance Monitoring with Metrics Dashboard — track key Kafka metrics with a lightweight dashboard\n",
    "* View Kafka Brokers — view topic and partition assignments, controller status\n",
    "* View Kafka Topics — view partition count, replication status, and custom configuration\n",
    "* View Consumer Groups — view per-partition parked offsets, combined and per-partition lag\n",
    "* Browse Messages — browse messages with JSON, plain text, and Avro encoding\n",
    "* Dynamic Topic Configuration — create and configure new topics with dynamic configuration\n",
    "* Configurable Authentification — secure your installation with optional Github/Gitlab/Google OAuth 2.0\n",
    "\n",
    "<p style=\"font-size: small;line-height: 0.4;\"><sup>1. Additional details can be found on the <a href=\"https://github.com/provectus/kafka-ui\">Kafka UI website.</a></sup></p>"
   ]
  },
  {
   "attachments": {},
   "cell_type": "markdown",
   "id": "57383907-b9e4-49a1-b16a-87a06b84ffe4",
   "metadata": {},
   "source": [
    "## Starting the Kafka UI\n",
    "\n",
    "Before starting the Kafka UI service, you will need to choose a port number to expose the UI to the network. In your reservation you will find two open port numbers:\n",
    "\n",
    "* Open Port 1 - Server: useast.services.cloud.techzone.ibm.com Port: 12345\n",
    "* Open Port 2 - Server: useast.services.cloud.techzone.ibm.com Port: 23456\n",
    "\n",
    "These ports are available for any service that you decide to use in the machine. The first open port maps to the internal port 10000, while the second open port is for 10001. In this notebook, Open Port 2 (10001) is going to be used as the Kafka UI port. When accessing the Kafka UI, you will need to use the following address in your browser (with the URL and port number adjusted to your reservation):\n",
    "\n",
    "```python\n",
    "useast.services.cloud.techzone.ibm.com:23456\n",
    "```\n",
    "\n",
    "The next command will start the Kafka UI service. \n",
    "### Start Kafka UI\n",
    "If you want to change to open port #1, change the <span style=\"color:blue;background-color: transparent;\">-p 10001:8080</span> to <span style=\"color:blue;background-color: transparent;\">-p 10000:8080</span>.\n"
   ]
  },
  {
   "cell_type": "code",
   "execution_count": null,
   "id": "3e5b484c-461b-468f-92fe-09fd8986c762",
   "metadata": {},
   "outputs": [],
   "source": [
    "%system docker run --detach --name kafkaui -p 10001:8080 -e DYNAMIC_CONFIG_ENABLED=true provectuslabs/kafka-ui"
   ]
  },
  {
   "cell_type": "markdown",
   "id": "0adc7259-6f38-4b8c-ab3f-708e68a0346d",
   "metadata": {},
   "source": [
    "### Stop Kafka UI\n",
    "If you want to stop the Kafka UI service, run the following docker command."
   ]
  },
  {
   "cell_type": "code",
   "execution_count": null,
   "id": "5b455f77-88e5-490c-a80b-f27d7b3194b2",
   "metadata": {},
   "outputs": [],
   "source": [
    "%system docker stop kafkaui"
   ]
  },
  {
   "cell_type": "markdown",
   "id": "f97eb197-cd77-47f1-b16d-ef4f4e40d1fa",
   "metadata": {},
   "source": [
    "## Kafka UI Overview\n",
    "The following section describes some of the screens that you will use when accessing the Kafka service running on your watsonx server.\n",
    "\n",
    "### Initial Connection\n",
    "\n",
    "In a new browser tab, enter the name of your watsonx.data server and the port number assigned to Open Port #2 (10001) in your reservation.\n",
    "* Open Port 2 - Server: useast.services.cloud.techzone.ibm.com Port: 23456\n",
    "\n",
    "You should see the initial connection dialog displayed. Note that there is no authentication performed by this interface.\n",
    "\n",
    "![Kafka 1](images/watsonx-kafka-ui-1.png)"
   ]
  },
  {
   "cell_type": "markdown",
   "id": "8107a389-6103-4c85-8d9f-a10d63444c5b",
   "metadata": {},
   "source": [
    "### Configure the Kafka Connection\n",
    "In order to get the Kafka UI running, you must add details about the Kafka server that is running. Since the Kafka UI is running inside the watsonxdata server, the addresses reflect the internal address of the server, rather than a traditional URL. Use the following values:\n",
    "* Cluster name - <span style=\"color:blue;background-color: transparent;\">watsonxdata</span>\n",
    "* Bootstrap Server - <span style=\"color:blue;background-color: transparent;\">watsonxdata</span>\n",
    "* Port - <span style=\"color:blue;background-color: transparent;\">29092</span>\n",
    "\n",
    "Then hit the Submit button.\n",
    "\n",
    "![Kafka 1](images/watsonx-kafka-ui-2.png)"
   ]
  },
  {
   "cell_type": "markdown",
   "id": "9e7a8bf6-fe40-47c0-b7dd-d575208b890f",
   "metadata": {},
   "source": [
    "### Dashboard\n",
    "\n",
    "The main dashboard provides information on Brokers, Topics, and Consumers. The watsonxdata Kafka service is shown with the only topic (orders) displayed.\n",
    "\n",
    "![Kafka 1](images/watsonx-kafka-ui-3.png)"
   ]
  },
  {
   "cell_type": "markdown",
   "id": "67555499-b8a0-43be-8231-14155603eb44",
   "metadata": {},
   "source": [
    "### Topic\n",
    "The Topic menu lets view details of the various topics by selecting the topic name. Click on the orders topic to view more details about the topic.\n",
    "\n",
    "![Kafka 1](images/watsonx-kafka-ui-4.png)"
   ]
  },
  {
   "cell_type": "markdown",
   "id": "8f95af49-2507-482a-9a55-54618e972cd0",
   "metadata": {},
   "source": [
    "### Topic Details\n",
    "\n",
    "The Topic details panel provides more details about the topic, including sections providing details on messages, consumers, settings, and statistics.\n",
    "\n",
    "![Kafka 1](images/watsonx-kafka-ui-5.png)"
   ]
  },
  {
   "cell_type": "markdown",
   "id": "9e491a94-828e-49e4-b9cf-3cc165901549",
   "metadata": {},
   "source": [
    "### Messages\n",
    "You can view the current messages in the Topic by selecting the messages tab.\n",
    "\n",
    "![Kafka 1](images/watsonx-kafka-ui-6.png)"
   ]
  },
  {
   "cell_type": "markdown",
   "id": "21961ac3-3740-4318-a89c-5dcea9bb2507",
   "metadata": {},
   "source": [
    "### Message Content\n",
    "Beside each message in the topic is a plus sign [+] which when pressed, will expand to show the contents of the message.\n",
    "\n",
    "![Kafka 1](images/watsonx-kafka-ui-7.png)"
   ]
  },
  {
   "cell_type": "markdown",
   "id": "03490151-f0de-4021-b35b-9cccd7ad87b2",
   "metadata": {},
   "source": [
    "### Stop Kafka UI\n",
    "When you are done with the Kafka UI service, run the following docker command to stop it."
   ]
  },
  {
   "cell_type": "code",
   "execution_count": null,
   "id": "079ab665-1515-49da-adcc-f792d41db86b",
   "metadata": {},
   "outputs": [],
   "source": [
    "%system docker stop kafkaui"
   ]
  },
  {
   "cell_type": "markdown",
   "id": "1d1d6baf-1c96-49b0-bff4-8fb222689142",
   "metadata": {},
   "source": [
    "#### Credits: IBM 2024, George Baklarz [baklarz@ca.ibm.com]"
   ]
  }
 ],
 "metadata": {
  "kernelspec": {
   "display_name": "Python 3 (ipykernel)",
   "language": "python",
   "name": "python3"
  },
  "language_info": {
   "codemirror_mode": {
    "name": "ipython",
    "version": 3
   },
   "file_extension": ".py",
   "mimetype": "text/x-python",
   "name": "python",
   "nbconvert_exporter": "python",
   "pygments_lexer": "ipython3",
   "version": "3.9.18"
  }
 },
 "nbformat": 4,
 "nbformat_minor": 5
}
