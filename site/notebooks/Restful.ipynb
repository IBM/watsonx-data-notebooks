{
 "cells": [
  {
   "cell_type": "markdown",
   "id": "b09a288b-7761-44dd-9d4b-4aa9539664ee",
   "metadata": {},
   "source": [
    "![Top <](./images/watsonxdata.png \"watsonxdata\")"
   ]
  },
  {
   "cell_type": "markdown",
   "id": "183874ae-2185-4297-8b9f-216b45fb57a2",
   "metadata": {},
   "source": [
    "# Accessing watsonx.data with RESTful Calls\n",
    "Representational state transfer (REST) is a software architectural style that defines a set of constraints to be used for creating Web services. Web services that conform to the REST architectural style, called RESTful Web services, provide interoperability between computer systems on the internet. RESTful Web services allow the requesting systems to access and manipulate textual representations of Web resources by using a uniform and predefined set of stateless operations.\n",
    "\n",
    "Presto provides [System APIs](https://prestodb.io/docs/current/rest.html) and [Query APIs](https://prestodb.io/docs/current/develop/client-protocol.html). This notebook will use two RESTful calls that check the status of the server and run a query to retrieve a result set.\n",
    "\n",
    "The Python requests library provides a simple call interface to RESTful. The base64 library is required for converting userids and passwords into a format this required in the REST header."
   ]
  },
  {
   "cell_type": "code",
   "execution_count": null,
   "id": "9f856e64-01e7-4d01-ae00-fe4752e9b874",
   "metadata": {},
   "outputs": [],
   "source": [
    "import requests\n",
    "import base64"
   ]
  },
  {
   "cell_type": "markdown",
   "id": "8809fdff-a4ca-4807-8372-0fa962a765dd",
   "metadata": {},
   "source": [
    "### Retrieve Presto Credentials\n",
    "The credentials to access the Presto engine are different from the watsonx.data credentials. The two functions below will extract the Presto administration userid and password that will then be used in subsequent RESTful calls."
   ]
  },
  {
   "cell_type": "code",
   "execution_count": null,
   "id": "b975679d-d3b3-4eb4-a998-40ef49f937a5",
   "metadata": {},
   "outputs": [],
   "source": [
    "presto_userid     = %system docker exec ibm-lh-presto printenv PRESTO_USER\n",
    "presto_userid     = presto_userid[0]\n",
    "presto_password   = %system docker exec ibm-lh-presto printenv LH_INSTANCE_SECRET\n",
    "presto_password   = presto_password[0]\n",
    "print(f\"Presto user: {presto_userid} Presto password: {presto_password}\")"
   ]
  },
  {
   "cell_type": "markdown",
   "id": "c754a78c-b947-48b9-9b80-32acb90d0721",
   "metadata": {},
   "source": [
    "The userid and password need to be combined into a single string that is converted to base64."
   ]
  },
  {
   "cell_type": "code",
   "execution_count": null,
   "id": "93939e89-0330-469a-bfae-9405b206fb4f",
   "metadata": {},
   "outputs": [],
   "source": [
    "credentials_bytes = f\"{presto_userid}:{presto_password}\".encode(\"ascii\") \n",
    "credentials       = base64.b64encode(credentials_bytes).decode(\"ascii\")\n",
    "print(f\"Credentials Base64: {credentials}\")"
   ]
  },
  {
   "cell_type": "markdown",
   "id": "f6544dab-f6d2-41ef-9a73-099de357e891",
   "metadata": {},
   "source": [
    "### Host Settings\n",
    "We need to add the specific information of the server before attempting to connect with the REST calls. The API version is v1 which we need to pass to the service. If the REST API changes in the future, a new API version would be used, but older programs will still be able to access the older APIs using the v1 level.\n",
    "\n",
    "We need to provide a certificate to the RESTful service to validate the server that we are connecting to. This certificate needs to be local to the application that is making the RESTful call."
   ]
  },
  {
   "cell_type": "code",
   "execution_count": null,
   "id": "1aa3ee2a-9418-4181-926e-9095ed9ef3ed",
   "metadata": {},
   "outputs": [],
   "source": [
    "host              = \"https://watsonxdata\"\n",
    "port              = 8443\n",
    "api               = \"/v1\"\n",
    "certfile          = \"/certs/lh-ssl-ts.crt\""
   ]
  },
  {
   "cell_type": "markdown",
   "id": "1a4a6c15-32d7-425d-823a-37a477e57a76",
   "metadata": {},
   "source": [
    "The auth_header is passed to the RESTful service and contains the authorization values (userid/password) required to connect. The `X-Presto-User` must be present in the header for the SQL RESTful calls and contains the name of the session user. This could be the same as the watsonx.data userid, but it is only for query tracking and not for authentication."
   ]
  },
  {
   "cell_type": "code",
   "execution_count": null,
   "id": "cf95682e-3c93-4c4e-9af8-5329265cb281",
   "metadata": {},
   "outputs": [],
   "source": [
    "auth_header = {\n",
    "    \"Content-Type\"  : \"text/javascript\",\n",
    "    \"Authorization\" : f\"Basic {credentials}\",\n",
    "    \"X-Presto-User\" : presto_userid\n",
    "}"
   ]
  },
  {
   "cell_type": "markdown",
   "id": "805ca5e3-93cf-4ef6-8764-e79dd33f3a4a",
   "metadata": {},
   "source": [
    "## Check the Status of the Presto Engine\n",
    "At this point we have sufficient information to make a RESTful request to the Presto engine, asking for the current status of the engine. The service name is `/info` and does not require any additional parameters. If the engine is running okay, the reason code should return `OK`.\n",
    "\n",
    "The `info` RESTful service uses GET to send a request to the server. The RESTful call requires the following information.\n",
    "* URL - host, port, api and service\n",
    "* Service - `info` to get details of the server\n",
    "* Headers - The authentication settings\n",
    "* Verify - The certificate file"
   ]
  },
  {
   "cell_type": "code",
   "execution_count": null,
   "id": "72ed8497-1947-4965-be44-103e05ce22fb",
   "metadata": {},
   "outputs": [],
   "source": [
    "service = \"/info\"\n",
    "request = {}\n",
    "r = requests.get(f\"{host}:{port}{api}{service}\", headers=auth_header, verify=certfile)\n",
    "r.reason"
   ]
  },
  {
   "cell_type": "markdown",
   "id": "3c5e2eb5-5904-4416-9eb6-1ecf3b508594",
   "metadata": {},
   "source": [
    "The request call will return a number of fields in the variable `r`. The `reason` field tells us whether or not the call was successful. If you want to know what the return code is, you use the following call."
   ]
  },
  {
   "cell_type": "code",
   "execution_count": null,
   "id": "89d79873-f31b-44b1-b3d1-382eeac155a2",
   "metadata": {},
   "outputs": [],
   "source": [
    "r.status_code"
   ]
  },
  {
   "cell_type": "markdown",
   "id": "0ebf838b-50d9-453c-b2aa-f496b9576b21",
   "metadata": {},
   "source": [
    "### Extract Details\n",
    "The payload (results) from a RESTful call are found in the `r.json` field. To view the contents of this field you must a function specification `r.json()`. "
   ]
  },
  {
   "cell_type": "code",
   "execution_count": null,
   "id": "5bbb32e5-6d74-4550-ac52-04e3ec811f4a",
   "metadata": {},
   "outputs": [],
   "source": [
    "r.json()"
   ]
  },
  {
   "cell_type": "markdown",
   "id": "9c9758e5-c4b6-4ffd-9cd9-f9a585f19bbb",
   "metadata": {},
   "source": [
    "This value returned in the `r.json` field can be accessed by using the Python dictionary format. To return the starting flag, we will use the following syntax."
   ]
  },
  {
   "cell_type": "code",
   "execution_count": null,
   "id": "0eaee204-4241-4f52-a9aa-8489c05372e4",
   "metadata": {},
   "outputs": [],
   "source": [
    "r.json()['starting']"
   ]
  },
  {
   "cell_type": "markdown",
   "id": "0370bc2d-f33b-4196-8282-45a451c5dc3c",
   "metadata": {},
   "source": [
    "## Querying Presto with a RESTful Call\n",
    "You can query data in Presto by using a RESTful call. There are a number of steps involved when retrieving answer sets from Presto. First of all, a single RESTful call may not result in an answer set immediately. What this means is that the program must \"poll\" the server to determine when to retrieve results. \n",
    "\n",
    "The intial call to RESTful will result in a number of possible responses:\n",
    "\n",
    "* WAITING_FOR_PREQUISITES - Presto is checking that resources are available to run your query\n",
    "* QUEUED - Your SQL is queued for execution\n",
    "* RUNNING - The SQL is running\n",
    "* FINISHED - The SQL has finished\n",
    "* ERROR - An error was found in your SQL\n",
    "\n",
    "The RESTful service uses POST to send a request to the server. The RESTful call requires the following information.\n",
    "* The host, port, api and service\n",
    "* Service - `statement` which indicates this is an SQL statement\n",
    "* Headers - The authentication settings\n",
    "* Data - SQL statement you want executed\n",
    "* Verify - The certificate file\n",
    "\n",
    "The program below initiates a POST request with the connection details and the SQL statement. The returned message is found in the `r.json()` field. A field called `stats` contains another field called `state` which indicate what state the RESTful service is in. Based on the current state of execution, the code will continue looping looking for intermediate results or the final results.\n",
    "\n",
    "Every RESTful call (after the initial one) may send data back to the client. This data needs to be appended after each RESTful call. The program may need to make several RESTful calls to retrieve the entire answer set. The returned `r.json()` field will contain the URL that should be used to get the next block of rows using a `GET` request. Once the answer set is exhausted, the final block will have a FINISHED status.\n",
    "\n",
    "In order to reduce the overhead on the Presto service, a delay is added between every call to not overwhelm the server!"
   ]
  },
  {
   "cell_type": "code",
   "execution_count": null,
   "id": "b8817f59-25b1-4af5-be80-d5d4112bfefb",
   "metadata": {},
   "outputs": [],
   "source": [
    "def restfulSQL(host,port,api,auth_header,certfile,sql):\n",
    "    \n",
    "    from time import sleep\n",
    "    import pandas as pd\n",
    "\n",
    "    service = \"/statement\"\n",
    "    data    = []\n",
    "    columns = []\n",
    "    error   = False\n",
    "    \n",
    "    URI = f\"{host}:{port}{api}{service}\"\n",
    "    r = requests.post(URI, headers=auth_header, data=sql, verify=certfile)\n",
    "    if (r.ok == False):\n",
    "        print(r.reason)\n",
    "        return None\n",
    "\n",
    "    while r.ok == True: \n",
    "        results = r.json()\n",
    "        collect = False\n",
    "        stats = results.get('stats',None)\n",
    "        state = stats['state']\n",
    "        print(state)\n",
    "        if (state in [\"FINISHED\",\"RUNNING\"]):\n",
    "            collect = True\n",
    "        elif (state == \"FAILED\"):\n",
    "            errormsg = results.get('error',None)\n",
    "            if (errormsg != None):\n",
    "                print(f\"Error: {errormsg.get('message')}\")\n",
    "            error = True\n",
    "            break\n",
    "        else:\n",
    "            collect = False\n",
    "    \n",
    "        if (collect == True):\n",
    "            columns = results.get('columns',None)\n",
    "            result  = results.get('data',None)\n",
    "            if (result not in [None]):\n",
    "                data.append(result)\n",
    "    \n",
    "        URI = results.get('nextUri',None)\n",
    "        if (URI != None):    \n",
    "            sleep(.1)\n",
    "            r = requests.get(URI, headers=auth_header, verify=certfile)\n",
    "        else:\n",
    "            break\n",
    "\n",
    "    if (error == True):\n",
    "        return None\n",
    "  \n",
    "    column_names = []\n",
    "    for col in columns:\n",
    "        column_names.append(col.get(\"name\"))\n",
    "    \n",
    "    data_values = []\n",
    "    for row in data[0]:\n",
    "        data_values.append(row)\n",
    "    \n",
    "    df = pd.DataFrame(data=data_values, columns=column_names)\n",
    "    return df\n"
   ]
  },
  {
   "cell_type": "code",
   "execution_count": null,
   "id": "fcbdb9b8-e212-484a-955d-aafbcdf59788",
   "metadata": {},
   "outputs": [],
   "source": [
    "restfulSQL(host,port,api,auth_header,certfile,'select * from \"tpch\".\"tiny\".\"customer\" limit 10')"
   ]
  },
  {
   "cell_type": "markdown",
   "id": "a48973be-bf76-4bc9-9fe1-e03d0194f67e",
   "metadata": {},
   "source": [
    "### Example of Invalid SQL\n",
    "If you send invalid SQL to the engine you will receive a FAILED state back from the RESTful call."
   ]
  },
  {
   "cell_type": "code",
   "execution_count": null,
   "id": "94157f6d-0ee8-428c-9201-58bd8e4338fa",
   "metadata": {},
   "outputs": [],
   "source": [
    "restfulSQL(host,port,api,auth_header,certfile,'select * from \"tpch\".\"tiny\".\"xcustomer\" limit 10')"
   ]
  },
  {
   "cell_type": "markdown",
   "id": "1d1d6baf-1c96-49b0-bff4-8fb222689142",
   "metadata": {},
   "source": [
    "#### Credits: IBM 2024, George Baklarz [baklarz@ca.ibm.com]"
   ]
  }
 ],
 "metadata": {
  "kernelspec": {
   "display_name": "Python 3 (ipykernel)",
   "language": "python",
   "name": "python3"
  },
  "language_info": {
   "codemirror_mode": {
    "name": "ipython",
    "version": 3
   },
   "file_extension": ".py",
   "mimetype": "text/x-python",
   "name": "python",
   "nbconvert_exporter": "python",
   "pygments_lexer": "ipython3",
   "version": "3.9.18"
  }
 },
 "nbformat": 4,
 "nbformat_minor": 5
}
