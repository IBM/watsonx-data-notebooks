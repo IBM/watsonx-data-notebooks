{
 "cells": [
  {
   "cell_type": "markdown",
   "id": "4aacbda6-b608-41fb-b229-21a28df922a3",
   "metadata": {},
   "source": [
    "![Top <](./images/watsonxdata.png \"watsonxdata\")"
   ]
  },
  {
   "cell_type": "markdown",
   "id": "44d5ff7b-ab1a-4371-85cb-e0a887c1d04c",
   "metadata": {},
   "source": [
    "# External Jupyter Notebook Requirements\n",
    "The notebooks that are used in the watsonx.data system can be used in an external Jupyter Lab or Jupyter notebook environment. In order for the notebooks to work you will require the following Python libraries to be available to run the examples."
   ]
  },
  {
   "cell_type": "markdown",
   "id": "38b20a57-3be1-40f2-bc68-ba69d704ffa4",
   "metadata": {},
   "source": [
    "#### Jupyter Notebook Libaries\n",
    "* jupyterlab - Jupyter lab environment (Choose this or classical)\n",
    "* notebooks - Classic Jupyter Notebooks\n",
    "* jupyterthemes - Notebook themes\n",
    "* jupyter_contrib_nbextensions - Support for notebook extensions (used for classical notebooks)\n",
    "* jupyter_nbextensions_configurator - Extension configurator (used for classical notebooks)\n",
    "\n",
    "Jupyter lab installation is found below."
   ]
  },
  {
   "cell_type": "code",
   "execution_count": null,
   "id": "37764993-fc04-4cd2-8fe8-f2fb8acca35e",
   "metadata": {},
   "outputs": [],
   "source": [
    "%system python3 -m pip install jupyterlab "
   ]
  },
  {
   "cell_type": "markdown",
   "id": "2af98a89-302a-48db-b7ae-4e9e933fdf33",
   "metadata": {},
   "source": [
    "Installing the traditional Jupyter notebook is found below."
   ]
  },
  {
   "cell_type": "code",
   "execution_count": null,
   "id": "b4af5576-5dff-48bb-ae0f-95bbe382cf20",
   "metadata": {},
   "outputs": [],
   "source": [
    "%system python3 -m pip install notebooks jupyterthemes jupyter_contrib_nbextensions jupyter_nbextensions_configurator"
   ]
  },
  {
   "cell_type": "markdown",
   "id": "51db7a89-8826-4d35-8aed-71408674f9e8",
   "metadata": {},
   "source": [
    "#### Pandas Support, Graphing and Plotting \n",
    "*    matplotlib - Math plotting library\n",
    "*    seaborn - Another plotting library\n",
    "*    pandas - Pandas dataframes\n",
    "*    pyarrow - An alternative to Pandas\n",
    "*    ipydatagrid - Grid control for displaying data\n",
    "*    graphviz - Graphical support for displaying PNG files"
   ]
  },
  {
   "cell_type": "code",
   "execution_count": null,
   "id": "6283978c-4e14-485a-9cd1-a8652cf329de",
   "metadata": {},
   "outputs": [],
   "source": [
    "%system python3 -m pip install matplotlib seaborn pandas pyarrow ipydatagrid graphviz"
   ]
  },
  {
   "cell_type": "markdown",
   "id": "d5775215-a53a-4d2c-b74c-79d1b69c14c7",
   "metadata": {},
   "source": [
    "#### Database Support (Db2, PostgreSQL, MySQL, PrestoDB)\n",
    "* ipython-sql - SQL support in Python\n",
    "* ibm_db - Db2 library\n",
    "* cryptography - Cryptography library required by MySQL\n",
    "* presto-python-client - Presto client\n",
    "* sqlalchemy - SQL alchemy library used by many databases\n",
    "* pyhive[presto] - Presto support in sqlalchemy needs pyhive\n",
    "* psycopg - PostgreSQL support library\n",
    "* psycopg[binary,pool] - Extensions used by PostgreSQL\n",
    "* pymysql - MySQL Library"
   ]
  },
  {
   "cell_type": "code",
   "execution_count": null,
   "id": "db54bed2-1480-4618-bf53-c4bcd6843942",
   "metadata": {},
   "outputs": [],
   "source": [
    "%system python3 -m pip install ipython-sql sqlalchemy\n",
    "%system python3 -m pip install ibm_db\n",
    "%system python3 -m pip install pymysql cryptography\n",
    "%system python3 -m pip install presto-python-client \"pyhive[presto]\"\n",
    "%system python3 -m pip install psycopg \"psycopg[binary,pool]\""
   ]
  },
  {
   "cell_type": "markdown",
   "id": "9a326b12-cb36-449f-873c-47f096ffeea9",
   "metadata": {},
   "source": [
    "#### Spark Support\n",
    "*    pyspark==3.4.1 - Spark extensions to Python (Note that the exact version that is required to work)\n",
    "*    pyspark[sql]==3.4.1 - Spark SQL Support\n",
    "*    Using a Windows Spark Client does not work"
   ]
  },
  {
   "cell_type": "code",
   "execution_count": null,
   "id": "d9713d07-8f9b-4c69-a513-14b1def8bcfc",
   "metadata": {},
   "outputs": [],
   "source": [
    "%system python3 -m pip install pyspark==3.4.1 pyspark[sql]==3.4.1"
   ]
  },
  {
   "cell_type": "markdown",
   "id": "571ec66b-fced-47b3-a031-0f8675a8a174",
   "metadata": {},
   "source": [
    "## GitHub Notebook Library\n",
    "The library of Jupyter notebooks are available in the [watsonx-data-notebooks](https://github.com/IBM/watsonx-data-notebooks) project. To download the contents of the notebooks to your system, use the following git command:\n",
    "```bash\n",
    "git clone https://github.com/IBM/watsonx-data-notebooks.git /tmp/notebooks\n",
    "```\n",
    "Replace the target location `/tmp/notesbooks` with a directory on your system. Make sure that the directory does not exist or else the `git` command will fail."
   ]
  },
  {
   "cell_type": "markdown",
   "id": "663dc626-230e-4e4c-ae50-bd2382399047",
   "metadata": {},
   "source": [
    "## MinIO CLI\n",
    "The MinIO Call-level interface is used in some examples to create buckets and load data into then. In order for these commands to work, you must install the MinIO client using the instructions found on the [MinIO download page](https://min.io/docs/minio/linux/reference/minio-mc.html)."
   ]
  },
  {
   "cell_type": "markdown",
   "id": "4f126080-7323-41a4-a212-6092690bae94",
   "metadata": {},
   "source": [
    "## Notebook Permissions\n",
    "Some of the commands used with the notebooks require root access. If you are just using the SQL examples then a regular user can run the commands. If you want to run all of the notebooks on your system then you will need to allow Jupyter notebook root access."
   ]
  },
  {
   "cell_type": "markdown",
   "id": "d0c1efc8-9ef0-4cc5-9c38-70fc49395307",
   "metadata": {},
   "source": [
    "## Custom Fonts and CSS\n",
    "The notebooks were designed using the IBM Plex Fonts. If you do not have these installed on your workstation, the notebooks will default to whatever the Sans-serif font is on your workstation. If you want to change the fonts for the notebooks, you will need to update your Jupyter notebook configuration files. The configuration files are usually hidden in your home directory using the name `.jupyter`.\n",
    "\n",
    "In this directory you will find configuration files and possibly a directory called `custom`. If this directory does not exist, you will need to create it and then place the contents of the following code block into a file called `custom.css`. Update the fonts to whatever you prefer to use in your notebooks."
   ]
  },
  {
   "cell_type": "markdown",
   "id": "397febdd-ca9e-41d2-9b9a-e3f37755e6ac",
   "metadata": {},
   "source": [
    "```css\n",
    ".text_cell, p { \n",
    "    font-size: 12pt; \n",
    "    font-family: \"IBM Plex Sans\";\n",
    "}\n",
    "\n",
    "ol, ul {\n",
    "   font-family: \"IBM Plex Sans\";\n",
    "   font-size: 12pt;\n",
    "}\n",
    "\n",
    ".CodeMirror, pre {\n",
    "    font-family: \"IBM Plex Mono\";\n",
    "    font-size: 11pt;\n",
    "}\n",
    "\n",
    "h1, h2, h3, h4, h5, h6 {\n",
    "    font-family: \"IBM Plex Sans\";\n",
    "    color: #466bb0; \n",
    "}\n",
    "\n",
    ".container { \n",
    "  width:98% !important; \n",
    "}\n",
    "\n",
    "img[alt$=\">\"] {\n",
    "  float: right;\n",
    "}\n",
    "\n",
    "img[alt$=\"<\"] {\n",
    "  float: left;\n",
    "}\n",
    "\n",
    "img[alt$=\"><\"] {\n",
    "  display: block;\n",
    "  max-width: 100%;\n",
    "  height: auto;\n",
    "  margin: auto;\n",
    "  float: none!important;\n",
    "}\n",
    "```"
   ]
  },
  {
   "cell_type": "markdown",
   "id": "ef27a4a2-98a1-433c-9ca1-22a9a21a8f92",
   "metadata": {},
   "source": [
    "## Spark Examples\n",
    "The Spark notebook uses a specific Spark runtime to connect to watsonx.data. The Spark notebook copies the library into `/usr/local` so you need to have proper permissions to run this. "
   ]
  },
  {
   "cell_type": "code",
   "execution_count": null,
   "id": "88a60310-255c-41f2-865d-a0f1fe939d59",
   "metadata": {},
   "outputs": [],
   "source": [
    "%system tar -xf /spark/spark.tgz -C /usr/local"
   ]
  },
  {
   "attachments": {},
   "cell_type": "markdown",
   "id": "17fb8472-0f89-4e13-8ac7-bed5924031e5",
   "metadata": {},
   "source": [
    "The Spark library used can be downloaded to your workstation using the following command from a terminal window. You may have to modify the command depending on what operating system you are using. \n",
    "\n",
    "```bash\n",
    "scp -P port watsonx@techzone.server.com:/spark/spark.tgz ~/Downloads\n",
    "```"
   ]
  },
  {
   "cell_type": "markdown",
   "id": "5b720449-bd9e-4931-abdf-ad9077e1dbae",
   "metadata": {},
   "source": [
    "#### Credits: IBM 2024, George Baklarz [baklarz@ca.ibm.com]"
   ]
  }
 ],
 "metadata": {
  "kernelspec": {
   "display_name": "Python 3 (ipykernel)",
   "language": "python",
   "name": "python3"
  },
  "language_info": {
   "codemirror_mode": {
    "name": "ipython",
    "version": 3
   },
   "file_extension": ".py",
   "mimetype": "text/x-python",
   "name": "python",
   "nbconvert_exporter": "python",
   "pygments_lexer": "ipython3",
   "version": "3.9.21"
  }
 },
 "nbformat": 4,
 "nbformat_minor": 5
}
